{
 "cells": [
  {
   "cell_type": "markdown",
   "metadata": {},
   "source": [
    "## 第二部分：职业足球比赛的进球规律\n",
    "作者：带球小弟"
   ]
  },
  {
   "cell_type": "markdown",
   "metadata": {},
   "source": [
    "### 数据来源\n",
    "\n",
    "* [欧洲足球数据库](https://www.kaggle.com/hugomathien/soccer)\n",
    "\n",
    "### 主要发现\n",
    "* 欧洲职业足球比赛场均进球数为2.71个，主队场均进球数为1.54个，客队场均进球数为1.16个（2008/09至2015/16赛季）。\n",
    "* 因为主客队场均进球数的差异，说明欧洲职业足球比赛确实存在主场优势：主队获胜占46%，双方打平占25%，客队获胜占29%。\n",
    "* 最常见的比分是1:1，其次是1:0，然后是2:1和2:0（区分主客队，主队在前，客队在后。比如，1:0代表主队1:0客队，0:1代表主队0:1客队）。\n",
    "* 足球比赛进球数服从泊松分布。利用泊松分布和场均进球数可以得到足球比赛的进球数规律、比分规律和比赛结果规律。\n",
    "* 前三点只针对欧洲职业足球比赛，不一定适用于其他情况。第四点泊松分布普遍适用于所有足球比赛。\n",
    "\n",
    "### 详细内容\n",
    "#### 1. [欧洲各大联赛进球数据对比](#1)\n",
    "#### 2. [与进球相关的Top 10系列](#2)\n",
    "#### 3. [进球数与泊松分布](#3)"
   ]
  },
  {
   "cell_type": "markdown",
   "metadata": {},
   "source": [
    "### 详细过程\n",
    "首先导入需要的python模块。"
   ]
  },
  {
   "cell_type": "code",
   "execution_count": 1,
   "metadata": {},
   "outputs": [],
   "source": [
    "%matplotlib inline\n",
    "import numpy as np\n",
    "import matplotlib.pyplot as plt\n",
    "import pandas as pd\n",
    "import seaborn as sns\n",
    "import sqlite3\n",
    "from scipy.stats import poisson  # 泊松分布\n",
    "from scipy.stats import skellam  # skellam分布\n",
    "import pickle\n",
    "from tqdm import tqdm\n",
    "import os\n",
    "\n",
    "from matplotlib.ticker import FormatStrFormatter\n",
    "\n",
    "sns.set_style('whitegrid')\n",
    "sns.set_context('poster')\n",
    "sns.set_style({'font.sans-serif':['simhei','Arial']}) #图中显示中文"
   ]
  },
  {
   "cell_type": "markdown",
   "metadata": {},
   "source": [
    "连接数据库"
   ]
  },
  {
   "cell_type": "code",
   "execution_count": 2,
   "metadata": {
    "scrolled": true
   },
   "outputs": [
    {
     "name": "stdout",
     "output_type": "stream",
     "text": [
      "在数据库中找到了以下数据表：\n",
      "sqlite_sequence\n",
      "Player_Attributes\n",
      "Player\n",
      "Match\n",
      "League\n",
      "Country\n",
      "Team\n",
      "Team_Attributes\n"
     ]
    }
   ],
   "source": [
    "# 与数据库建立连接\n",
    "\n",
    "# 数据库文件名称\n",
    "db_filename = 'database.sqlite'\n",
    "\n",
    "# 根据实际情况修改数据库文件路径\n",
    "db_filedir = os.path.join(os.path.pardir, os.path.pardir, 'data_source', 'kaggle', db_filename)\n",
    "con=sqlite3.connect(db_filedir)\n",
    "cursor=con.execute(\"select name from sqlite_master where type='table'\")\n",
    "\n",
    "print('在数据库中找到了以下数据表：')\n",
    "for i in cursor.fetchall():\n",
    "    print('{}'.format(i[0]))"
   ]
  },
  {
   "cell_type": "markdown",
   "metadata": {},
   "source": [
    "解释：\n",
    "* sqlite_sequence: 与数据库自身相关信息\n",
    "* Player_Attributes：球员属性\n",
    "* Player：球员信息\n",
    "* Match：比赛信息\n",
    "* League：联赛信息\n",
    "* Country：国家信息\n",
    "* Team：球队信息\n",
    "* Team_Attributes：球队属性"
   ]
  },
  {
   "cell_type": "code",
   "execution_count": 3,
   "metadata": {},
   "outputs": [],
   "source": [
    "# 读取球员信息数据表\n",
    "player = pd.read_sql_query('select * from Player',con)\n",
    "\n",
    "# 读取比赛信息数据表\n",
    "match = pd.read_sql_query('select * from Match',con)\n",
    "\n",
    "# 读取联赛信息数据表\n",
    "league=pd.read_sql_query('select * from League',con)\n",
    "\n",
    "# 读取国家信息数据表\n",
    "country=pd.read_sql_query('select * from Country',con)\n",
    "\n",
    "# 读取球队信息数据表\n",
    "team=pd.read_sql_query('select * from Team', con)"
   ]
  },
  {
   "cell_type": "markdown",
   "metadata": {},
   "source": [
    "下面重点看一下比赛信息数据表里有什么内容。"
   ]
  },
  {
   "cell_type": "code",
   "execution_count": 4,
   "metadata": {},
   "outputs": [
    {
     "name": "stdout",
     "output_type": "stream",
     "text": [
      "比赛数据表一共有115列。 每一列代表的是： \n",
      "\n",
      "['id' 'country_id' 'league_id' 'season' 'stage' 'date' 'match_api_id'\n",
      " 'home_team_api_id' 'away_team_api_id' 'home_team_goal' 'away_team_goal'\n",
      " 'home_player_X1' 'home_player_X2' 'home_player_X3' 'home_player_X4'\n",
      " 'home_player_X5' 'home_player_X6' 'home_player_X7' 'home_player_X8'\n",
      " 'home_player_X9' 'home_player_X10' 'home_player_X11' 'away_player_X1'\n",
      " 'away_player_X2' 'away_player_X3' 'away_player_X4' 'away_player_X5'\n",
      " 'away_player_X6' 'away_player_X7' 'away_player_X8' 'away_player_X9'\n",
      " 'away_player_X10' 'away_player_X11' 'home_player_Y1' 'home_player_Y2'\n",
      " 'home_player_Y3' 'home_player_Y4' 'home_player_Y5' 'home_player_Y6'\n",
      " 'home_player_Y7' 'home_player_Y8' 'home_player_Y9' 'home_player_Y10'\n",
      " 'home_player_Y11' 'away_player_Y1' 'away_player_Y2' 'away_player_Y3'\n",
      " 'away_player_Y4' 'away_player_Y5' 'away_player_Y6' 'away_player_Y7'\n",
      " 'away_player_Y8' 'away_player_Y9' 'away_player_Y10' 'away_player_Y11'\n",
      " 'home_player_1' 'home_player_2' 'home_player_3' 'home_player_4'\n",
      " 'home_player_5' 'home_player_6' 'home_player_7' 'home_player_8'\n",
      " 'home_player_9' 'home_player_10' 'home_player_11' 'away_player_1'\n",
      " 'away_player_2' 'away_player_3' 'away_player_4' 'away_player_5'\n",
      " 'away_player_6' 'away_player_7' 'away_player_8' 'away_player_9'\n",
      " 'away_player_10' 'away_player_11' 'goal' 'shoton' 'shotoff' 'foulcommit'\n",
      " 'card' 'cross' 'corner' 'possession' 'B365H' 'B365D' 'B365A' 'BWH' 'BWD'\n",
      " 'BWA' 'IWH' 'IWD' 'IWA' 'LBH' 'LBD' 'LBA' 'PSH' 'PSD' 'PSA' 'WHH' 'WHD'\n",
      " 'WHA' 'SJH' 'SJD' 'SJA' 'VCH' 'VCD' 'VCA' 'GBH' 'GBD' 'GBA' 'BSH' 'BSD'\n",
      " 'BSA']\n",
      "\n",
      "<class 'pandas.core.frame.DataFrame'>\n",
      "RangeIndex: 25979 entries, 0 to 25978\n",
      "Columns: 115 entries, id to BSA\n",
      "dtypes: float64(96), int64(9), object(10)\n",
      "memory usage: 22.8+ MB\n",
      "None\n",
      "\n",
      "数据表的最开头两行内容如下：\n"
     ]
    },
    {
     "data": {
      "text/html": [
       "<div>\n",
       "<style scoped>\n",
       "    .dataframe tbody tr th:only-of-type {\n",
       "        vertical-align: middle;\n",
       "    }\n",
       "\n",
       "    .dataframe tbody tr th {\n",
       "        vertical-align: top;\n",
       "    }\n",
       "\n",
       "    .dataframe thead th {\n",
       "        text-align: right;\n",
       "    }\n",
       "</style>\n",
       "<table border=\"1\" class=\"dataframe\">\n",
       "  <thead>\n",
       "    <tr style=\"text-align: right;\">\n",
       "      <th></th>\n",
       "      <th>id</th>\n",
       "      <th>country_id</th>\n",
       "      <th>league_id</th>\n",
       "      <th>season</th>\n",
       "      <th>stage</th>\n",
       "      <th>date</th>\n",
       "      <th>match_api_id</th>\n",
       "      <th>home_team_api_id</th>\n",
       "      <th>away_team_api_id</th>\n",
       "      <th>home_team_goal</th>\n",
       "      <th>...</th>\n",
       "      <th>SJA</th>\n",
       "      <th>VCH</th>\n",
       "      <th>VCD</th>\n",
       "      <th>VCA</th>\n",
       "      <th>GBH</th>\n",
       "      <th>GBD</th>\n",
       "      <th>GBA</th>\n",
       "      <th>BSH</th>\n",
       "      <th>BSD</th>\n",
       "      <th>BSA</th>\n",
       "    </tr>\n",
       "  </thead>\n",
       "  <tbody>\n",
       "    <tr>\n",
       "      <th>0</th>\n",
       "      <td>1</td>\n",
       "      <td>1</td>\n",
       "      <td>1</td>\n",
       "      <td>2008/2009</td>\n",
       "      <td>1</td>\n",
       "      <td>2008-08-17 00:00:00</td>\n",
       "      <td>492473</td>\n",
       "      <td>9987</td>\n",
       "      <td>9993</td>\n",
       "      <td>1</td>\n",
       "      <td>...</td>\n",
       "      <td>4.0</td>\n",
       "      <td>1.65</td>\n",
       "      <td>3.40</td>\n",
       "      <td>4.50</td>\n",
       "      <td>1.78</td>\n",
       "      <td>3.25</td>\n",
       "      <td>4.00</td>\n",
       "      <td>1.73</td>\n",
       "      <td>3.40</td>\n",
       "      <td>4.2</td>\n",
       "    </tr>\n",
       "    <tr>\n",
       "      <th>1</th>\n",
       "      <td>2</td>\n",
       "      <td>1</td>\n",
       "      <td>1</td>\n",
       "      <td>2008/2009</td>\n",
       "      <td>1</td>\n",
       "      <td>2008-08-16 00:00:00</td>\n",
       "      <td>492474</td>\n",
       "      <td>10000</td>\n",
       "      <td>9994</td>\n",
       "      <td>0</td>\n",
       "      <td>...</td>\n",
       "      <td>3.8</td>\n",
       "      <td>2.00</td>\n",
       "      <td>3.25</td>\n",
       "      <td>3.25</td>\n",
       "      <td>1.85</td>\n",
       "      <td>3.25</td>\n",
       "      <td>3.75</td>\n",
       "      <td>1.91</td>\n",
       "      <td>3.25</td>\n",
       "      <td>3.6</td>\n",
       "    </tr>\n",
       "  </tbody>\n",
       "</table>\n",
       "<p>2 rows × 115 columns</p>\n",
       "</div>"
      ],
      "text/plain": [
       "   id  country_id  league_id     season  stage                 date  \\\n",
       "0   1           1          1  2008/2009      1  2008-08-17 00:00:00   \n",
       "1   2           1          1  2008/2009      1  2008-08-16 00:00:00   \n",
       "\n",
       "   match_api_id  home_team_api_id  away_team_api_id  home_team_goal ...   SJA  \\\n",
       "0        492473              9987              9993               1 ...   4.0   \n",
       "1        492474             10000              9994               0 ...   3.8   \n",
       "\n",
       "    VCH   VCD   VCA   GBH   GBD   GBA   BSH   BSD  BSA  \n",
       "0  1.65  3.40  4.50  1.78  3.25  4.00  1.73  3.40  4.2  \n",
       "1  2.00  3.25  3.25  1.85  3.25  3.75  1.91  3.25  3.6  \n",
       "\n",
       "[2 rows x 115 columns]"
      ]
     },
     "execution_count": 4,
     "metadata": {},
     "output_type": "execute_result"
    }
   ],
   "source": [
    "print('比赛数据表一共有{}列。 每一列代表的是： \\n\\n{}\\n'.format(match.shape[1], match.columns.values))\n",
    "print(match.info())\n",
    "print('\\n数据表的最开头两行内容如下：')\n",
    "match.head(2)"
   ]
  },
  {
   "cell_type": "markdown",
   "metadata": {},
   "source": [
    "解释：\n",
    "* id：比赛记录ID\n",
    "* country_id：比赛所在国家ID\n",
    "* league_id：比赛所在联赛ID\n",
    "* season：比赛所在的赛季\n",
    "* stage：比赛所在的轮数\n",
    "* date：比赛日期\n",
    "* match_api_id：比赛ID\n",
    "* home_team_api_id：主队ID\n",
    "* away_team_api_id：客队ID\n",
    "* home_team_goal：主队进球数\n",
    "* away_team_goal：客队进球数\n",
    "* home_player_X1：不明\n",
    "* goal：进球事件详细记录（以xml形式保存，下面类似数据解释相同）\n",
    "* shoton：射正\n",
    "* shotoff：射偏\n",
    "* foulcommit：犯规\n",
    "* card：红黄牌\n",
    "* cross：传中\n",
    "* corner：角球\n",
    "* possession：控球率\n",
    "* B365H：B365主队获胜赔率（其他博彩公司赔率解释相同）\n",
    "* B365D：B365双方打平赔率\n",
    "* B365A：B365客队获胜赔率"
   ]
  },
  {
   "cell_type": "markdown",
   "metadata": {},
   "source": [
    "下面把可读信息加入比赛数据表，对ID信息进行解读。\n",
    "\n",
    "加入国家名字 "
   ]
  },
  {
   "cell_type": "code",
   "execution_count": 5,
   "metadata": {},
   "outputs": [
    {
     "name": "stdout",
     "output_type": "stream",
     "text": [
      "合并后的表中最开头三行内容如下：\n"
     ]
    },
    {
     "data": {
      "text/html": [
       "<div>\n",
       "<style scoped>\n",
       "    .dataframe tbody tr th:only-of-type {\n",
       "        vertical-align: middle;\n",
       "    }\n",
       "\n",
       "    .dataframe tbody tr th {\n",
       "        vertical-align: top;\n",
       "    }\n",
       "\n",
       "    .dataframe thead th {\n",
       "        text-align: right;\n",
       "    }\n",
       "</style>\n",
       "<table border=\"1\" class=\"dataframe\">\n",
       "  <thead>\n",
       "    <tr style=\"text-align: right;\">\n",
       "      <th></th>\n",
       "      <th>id</th>\n",
       "      <th>country_id</th>\n",
       "      <th>league_id</th>\n",
       "      <th>season</th>\n",
       "      <th>stage</th>\n",
       "      <th>date</th>\n",
       "      <th>match_api_id</th>\n",
       "      <th>home_team_api_id</th>\n",
       "      <th>away_team_api_id</th>\n",
       "      <th>home_team_goal</th>\n",
       "      <th>...</th>\n",
       "      <th>VCH</th>\n",
       "      <th>VCD</th>\n",
       "      <th>VCA</th>\n",
       "      <th>GBH</th>\n",
       "      <th>GBD</th>\n",
       "      <th>GBA</th>\n",
       "      <th>BSH</th>\n",
       "      <th>BSD</th>\n",
       "      <th>BSA</th>\n",
       "      <th>country</th>\n",
       "    </tr>\n",
       "  </thead>\n",
       "  <tbody>\n",
       "    <tr>\n",
       "      <th>0</th>\n",
       "      <td>1</td>\n",
       "      <td>1</td>\n",
       "      <td>1</td>\n",
       "      <td>2008/2009</td>\n",
       "      <td>1</td>\n",
       "      <td>2008-08-17 00:00:00</td>\n",
       "      <td>492473</td>\n",
       "      <td>9987</td>\n",
       "      <td>9993</td>\n",
       "      <td>1</td>\n",
       "      <td>...</td>\n",
       "      <td>1.65</td>\n",
       "      <td>3.40</td>\n",
       "      <td>4.50</td>\n",
       "      <td>1.78</td>\n",
       "      <td>3.25</td>\n",
       "      <td>4.00</td>\n",
       "      <td>1.73</td>\n",
       "      <td>3.40</td>\n",
       "      <td>4.20</td>\n",
       "      <td>Belgium</td>\n",
       "    </tr>\n",
       "    <tr>\n",
       "      <th>1</th>\n",
       "      <td>2</td>\n",
       "      <td>1</td>\n",
       "      <td>1</td>\n",
       "      <td>2008/2009</td>\n",
       "      <td>1</td>\n",
       "      <td>2008-08-16 00:00:00</td>\n",
       "      <td>492474</td>\n",
       "      <td>10000</td>\n",
       "      <td>9994</td>\n",
       "      <td>0</td>\n",
       "      <td>...</td>\n",
       "      <td>2.00</td>\n",
       "      <td>3.25</td>\n",
       "      <td>3.25</td>\n",
       "      <td>1.85</td>\n",
       "      <td>3.25</td>\n",
       "      <td>3.75</td>\n",
       "      <td>1.91</td>\n",
       "      <td>3.25</td>\n",
       "      <td>3.60</td>\n",
       "      <td>Belgium</td>\n",
       "    </tr>\n",
       "    <tr>\n",
       "      <th>2</th>\n",
       "      <td>3</td>\n",
       "      <td>1</td>\n",
       "      <td>1</td>\n",
       "      <td>2008/2009</td>\n",
       "      <td>1</td>\n",
       "      <td>2008-08-16 00:00:00</td>\n",
       "      <td>492475</td>\n",
       "      <td>9984</td>\n",
       "      <td>8635</td>\n",
       "      <td>0</td>\n",
       "      <td>...</td>\n",
       "      <td>2.35</td>\n",
       "      <td>3.25</td>\n",
       "      <td>2.65</td>\n",
       "      <td>2.50</td>\n",
       "      <td>3.20</td>\n",
       "      <td>2.50</td>\n",
       "      <td>2.30</td>\n",
       "      <td>3.20</td>\n",
       "      <td>2.75</td>\n",
       "      <td>Belgium</td>\n",
       "    </tr>\n",
       "  </tbody>\n",
       "</table>\n",
       "<p>3 rows × 116 columns</p>\n",
       "</div>"
      ],
      "text/plain": [
       "   id  country_id  league_id     season  stage                 date  \\\n",
       "0   1           1          1  2008/2009      1  2008-08-17 00:00:00   \n",
       "1   2           1          1  2008/2009      1  2008-08-16 00:00:00   \n",
       "2   3           1          1  2008/2009      1  2008-08-16 00:00:00   \n",
       "\n",
       "   match_api_id  home_team_api_id  away_team_api_id  home_team_goal   ...     \\\n",
       "0        492473              9987              9993               1   ...      \n",
       "1        492474             10000              9994               0   ...      \n",
       "2        492475              9984              8635               0   ...      \n",
       "\n",
       "    VCH   VCD   VCA   GBH   GBD   GBA   BSH   BSD   BSA  country  \n",
       "0  1.65  3.40  4.50  1.78  3.25  4.00  1.73  3.40  4.20  Belgium  \n",
       "1  2.00  3.25  3.25  1.85  3.25  3.75  1.91  3.25  3.60  Belgium  \n",
       "2  2.35  3.25  2.65  2.50  3.20  2.50  2.30  3.20  2.75  Belgium  \n",
       "\n",
       "[3 rows x 116 columns]"
      ]
     },
     "execution_count": 5,
     "metadata": {},
     "output_type": "execute_result"
    }
   ],
   "source": [
    "# 把国家信息数据表的表头名字改成和比赛数据表相应栏一致，这样方便把国家名字加入到比赛信息数据表中\n",
    "country.columns = ['country_id', 'country']\n",
    "\n",
    "# 把国家名字加入比赛信息表中\n",
    "match = pd.merge(match, country, on='country_id', how='left')\n",
    "\n",
    "print('合并后的表中最开头三行内容如下：')\n",
    "match.head(3)"
   ]
  },
  {
   "cell_type": "markdown",
   "metadata": {},
   "source": [
    "加入联赛名字"
   ]
  },
  {
   "cell_type": "code",
   "execution_count": 6,
   "metadata": {},
   "outputs": [
    {
     "name": "stdout",
     "output_type": "stream",
     "text": [
      "合并后的表中最开头三行内容如下：\n"
     ]
    },
    {
     "data": {
      "text/html": [
       "<div>\n",
       "<style scoped>\n",
       "    .dataframe tbody tr th:only-of-type {\n",
       "        vertical-align: middle;\n",
       "    }\n",
       "\n",
       "    .dataframe tbody tr th {\n",
       "        vertical-align: top;\n",
       "    }\n",
       "\n",
       "    .dataframe thead th {\n",
       "        text-align: right;\n",
       "    }\n",
       "</style>\n",
       "<table border=\"1\" class=\"dataframe\">\n",
       "  <thead>\n",
       "    <tr style=\"text-align: right;\">\n",
       "      <th></th>\n",
       "      <th>id</th>\n",
       "      <th>country_id</th>\n",
       "      <th>league_id</th>\n",
       "      <th>season</th>\n",
       "      <th>stage</th>\n",
       "      <th>date</th>\n",
       "      <th>match_api_id</th>\n",
       "      <th>home_team_api_id</th>\n",
       "      <th>away_team_api_id</th>\n",
       "      <th>home_team_goal</th>\n",
       "      <th>...</th>\n",
       "      <th>VCD</th>\n",
       "      <th>VCA</th>\n",
       "      <th>GBH</th>\n",
       "      <th>GBD</th>\n",
       "      <th>GBA</th>\n",
       "      <th>BSH</th>\n",
       "      <th>BSD</th>\n",
       "      <th>BSA</th>\n",
       "      <th>country</th>\n",
       "      <th>league</th>\n",
       "    </tr>\n",
       "  </thead>\n",
       "  <tbody>\n",
       "    <tr>\n",
       "      <th>0</th>\n",
       "      <td>1</td>\n",
       "      <td>1</td>\n",
       "      <td>1</td>\n",
       "      <td>2008/2009</td>\n",
       "      <td>1</td>\n",
       "      <td>2008-08-17 00:00:00</td>\n",
       "      <td>492473</td>\n",
       "      <td>9987</td>\n",
       "      <td>9993</td>\n",
       "      <td>1</td>\n",
       "      <td>...</td>\n",
       "      <td>3.40</td>\n",
       "      <td>4.50</td>\n",
       "      <td>1.78</td>\n",
       "      <td>3.25</td>\n",
       "      <td>4.00</td>\n",
       "      <td>1.73</td>\n",
       "      <td>3.40</td>\n",
       "      <td>4.20</td>\n",
       "      <td>Belgium</td>\n",
       "      <td>Belgium Jupiler League</td>\n",
       "    </tr>\n",
       "    <tr>\n",
       "      <th>1</th>\n",
       "      <td>2</td>\n",
       "      <td>1</td>\n",
       "      <td>1</td>\n",
       "      <td>2008/2009</td>\n",
       "      <td>1</td>\n",
       "      <td>2008-08-16 00:00:00</td>\n",
       "      <td>492474</td>\n",
       "      <td>10000</td>\n",
       "      <td>9994</td>\n",
       "      <td>0</td>\n",
       "      <td>...</td>\n",
       "      <td>3.25</td>\n",
       "      <td>3.25</td>\n",
       "      <td>1.85</td>\n",
       "      <td>3.25</td>\n",
       "      <td>3.75</td>\n",
       "      <td>1.91</td>\n",
       "      <td>3.25</td>\n",
       "      <td>3.60</td>\n",
       "      <td>Belgium</td>\n",
       "      <td>Belgium Jupiler League</td>\n",
       "    </tr>\n",
       "    <tr>\n",
       "      <th>2</th>\n",
       "      <td>3</td>\n",
       "      <td>1</td>\n",
       "      <td>1</td>\n",
       "      <td>2008/2009</td>\n",
       "      <td>1</td>\n",
       "      <td>2008-08-16 00:00:00</td>\n",
       "      <td>492475</td>\n",
       "      <td>9984</td>\n",
       "      <td>8635</td>\n",
       "      <td>0</td>\n",
       "      <td>...</td>\n",
       "      <td>3.25</td>\n",
       "      <td>2.65</td>\n",
       "      <td>2.50</td>\n",
       "      <td>3.20</td>\n",
       "      <td>2.50</td>\n",
       "      <td>2.30</td>\n",
       "      <td>3.20</td>\n",
       "      <td>2.75</td>\n",
       "      <td>Belgium</td>\n",
       "      <td>Belgium Jupiler League</td>\n",
       "    </tr>\n",
       "  </tbody>\n",
       "</table>\n",
       "<p>3 rows × 117 columns</p>\n",
       "</div>"
      ],
      "text/plain": [
       "   id  country_id  league_id     season  stage                 date  \\\n",
       "0   1           1          1  2008/2009      1  2008-08-17 00:00:00   \n",
       "1   2           1          1  2008/2009      1  2008-08-16 00:00:00   \n",
       "2   3           1          1  2008/2009      1  2008-08-16 00:00:00   \n",
       "\n",
       "   match_api_id  home_team_api_id  away_team_api_id  home_team_goal  \\\n",
       "0        492473              9987              9993               1   \n",
       "1        492474             10000              9994               0   \n",
       "2        492475              9984              8635               0   \n",
       "\n",
       "            ...             VCD   VCA   GBH   GBD   GBA   BSH   BSD   BSA  \\\n",
       "0           ...            3.40  4.50  1.78  3.25  4.00  1.73  3.40  4.20   \n",
       "1           ...            3.25  3.25  1.85  3.25  3.75  1.91  3.25  3.60   \n",
       "2           ...            3.25  2.65  2.50  3.20  2.50  2.30  3.20  2.75   \n",
       "\n",
       "   country                  league  \n",
       "0  Belgium  Belgium Jupiler League  \n",
       "1  Belgium  Belgium Jupiler League  \n",
       "2  Belgium  Belgium Jupiler League  \n",
       "\n",
       "[3 rows x 117 columns]"
      ]
     },
     "execution_count": 6,
     "metadata": {},
     "output_type": "execute_result"
    }
   ],
   "source": [
    "# 把联赛信息数据表的表头名字改成和比赛数据表相应栏一致，这样方便把联赛名字加入到比赛信息数据表中\n",
    "league.columns = ['league_id', 'country_id','league']\n",
    "\n",
    "# 把联赛名字加入比赛信息表中\n",
    "match = pd.merge(match, league[['league_id','league']], on='league_id', how='left')\n",
    "\n",
    "print('合并后的表中最开头三行内容如下：')\n",
    "match.head(3)"
   ]
  },
  {
   "cell_type": "markdown",
   "metadata": {},
   "source": [
    "加入主队名称"
   ]
  },
  {
   "cell_type": "code",
   "execution_count": 7,
   "metadata": {},
   "outputs": [
    {
     "name": "stdout",
     "output_type": "stream",
     "text": [
      "合并后的表中最开头三行内容如下：\n"
     ]
    },
    {
     "data": {
      "text/html": [
       "<div>\n",
       "<style scoped>\n",
       "    .dataframe tbody tr th:only-of-type {\n",
       "        vertical-align: middle;\n",
       "    }\n",
       "\n",
       "    .dataframe tbody tr th {\n",
       "        vertical-align: top;\n",
       "    }\n",
       "\n",
       "    .dataframe thead th {\n",
       "        text-align: right;\n",
       "    }\n",
       "</style>\n",
       "<table border=\"1\" class=\"dataframe\">\n",
       "  <thead>\n",
       "    <tr style=\"text-align: right;\">\n",
       "      <th></th>\n",
       "      <th>id</th>\n",
       "      <th>country_id</th>\n",
       "      <th>league_id</th>\n",
       "      <th>season</th>\n",
       "      <th>stage</th>\n",
       "      <th>date</th>\n",
       "      <th>match_api_id</th>\n",
       "      <th>home_team_api_id</th>\n",
       "      <th>away_team_api_id</th>\n",
       "      <th>home_team_goal</th>\n",
       "      <th>...</th>\n",
       "      <th>VCA</th>\n",
       "      <th>GBH</th>\n",
       "      <th>GBD</th>\n",
       "      <th>GBA</th>\n",
       "      <th>BSH</th>\n",
       "      <th>BSD</th>\n",
       "      <th>BSA</th>\n",
       "      <th>country</th>\n",
       "      <th>league</th>\n",
       "      <th>home_team</th>\n",
       "    </tr>\n",
       "  </thead>\n",
       "  <tbody>\n",
       "    <tr>\n",
       "      <th>0</th>\n",
       "      <td>1</td>\n",
       "      <td>1</td>\n",
       "      <td>1</td>\n",
       "      <td>2008/2009</td>\n",
       "      <td>1</td>\n",
       "      <td>2008-08-17 00:00:00</td>\n",
       "      <td>492473</td>\n",
       "      <td>9987</td>\n",
       "      <td>9993</td>\n",
       "      <td>1</td>\n",
       "      <td>...</td>\n",
       "      <td>4.50</td>\n",
       "      <td>1.78</td>\n",
       "      <td>3.25</td>\n",
       "      <td>4.00</td>\n",
       "      <td>1.73</td>\n",
       "      <td>3.40</td>\n",
       "      <td>4.20</td>\n",
       "      <td>Belgium</td>\n",
       "      <td>Belgium Jupiler League</td>\n",
       "      <td>KRC Genk</td>\n",
       "    </tr>\n",
       "    <tr>\n",
       "      <th>1</th>\n",
       "      <td>2</td>\n",
       "      <td>1</td>\n",
       "      <td>1</td>\n",
       "      <td>2008/2009</td>\n",
       "      <td>1</td>\n",
       "      <td>2008-08-16 00:00:00</td>\n",
       "      <td>492474</td>\n",
       "      <td>10000</td>\n",
       "      <td>9994</td>\n",
       "      <td>0</td>\n",
       "      <td>...</td>\n",
       "      <td>3.25</td>\n",
       "      <td>1.85</td>\n",
       "      <td>3.25</td>\n",
       "      <td>3.75</td>\n",
       "      <td>1.91</td>\n",
       "      <td>3.25</td>\n",
       "      <td>3.60</td>\n",
       "      <td>Belgium</td>\n",
       "      <td>Belgium Jupiler League</td>\n",
       "      <td>SV Zulte-Waregem</td>\n",
       "    </tr>\n",
       "    <tr>\n",
       "      <th>2</th>\n",
       "      <td>3</td>\n",
       "      <td>1</td>\n",
       "      <td>1</td>\n",
       "      <td>2008/2009</td>\n",
       "      <td>1</td>\n",
       "      <td>2008-08-16 00:00:00</td>\n",
       "      <td>492475</td>\n",
       "      <td>9984</td>\n",
       "      <td>8635</td>\n",
       "      <td>0</td>\n",
       "      <td>...</td>\n",
       "      <td>2.65</td>\n",
       "      <td>2.50</td>\n",
       "      <td>3.20</td>\n",
       "      <td>2.50</td>\n",
       "      <td>2.30</td>\n",
       "      <td>3.20</td>\n",
       "      <td>2.75</td>\n",
       "      <td>Belgium</td>\n",
       "      <td>Belgium Jupiler League</td>\n",
       "      <td>KSV Cercle Brugge</td>\n",
       "    </tr>\n",
       "  </tbody>\n",
       "</table>\n",
       "<p>3 rows × 118 columns</p>\n",
       "</div>"
      ],
      "text/plain": [
       "   id  country_id  league_id     season  stage                 date  \\\n",
       "0   1           1          1  2008/2009      1  2008-08-17 00:00:00   \n",
       "1   2           1          1  2008/2009      1  2008-08-16 00:00:00   \n",
       "2   3           1          1  2008/2009      1  2008-08-16 00:00:00   \n",
       "\n",
       "   match_api_id  home_team_api_id  away_team_api_id  home_team_goal  \\\n",
       "0        492473              9987              9993               1   \n",
       "1        492474             10000              9994               0   \n",
       "2        492475              9984              8635               0   \n",
       "\n",
       "         ...           VCA   GBH   GBD   GBA   BSH   BSD   BSA  country  \\\n",
       "0        ...          4.50  1.78  3.25  4.00  1.73  3.40  4.20  Belgium   \n",
       "1        ...          3.25  1.85  3.25  3.75  1.91  3.25  3.60  Belgium   \n",
       "2        ...          2.65  2.50  3.20  2.50  2.30  3.20  2.75  Belgium   \n",
       "\n",
       "                   league          home_team  \n",
       "0  Belgium Jupiler League           KRC Genk  \n",
       "1  Belgium Jupiler League   SV Zulte-Waregem  \n",
       "2  Belgium Jupiler League  KSV Cercle Brugge  \n",
       "\n",
       "[3 rows x 118 columns]"
      ]
     },
     "execution_count": 7,
     "metadata": {},
     "output_type": "execute_result"
    }
   ],
   "source": [
    "# 对球队信息数据表进行复制，生成主队信息数据表\n",
    "home_team = team\n",
    "\n",
    "# 把主队信息数据表的表头名字改成和比赛数据表相应栏一致，这样方便把主队名字加入到比赛信息数据表中\n",
    "home_team.columns = ['id','home_team_api_id','home_team_fifa_api_id','home_team','home_team_short_name']\n",
    "\n",
    "# 把主队名字加入比赛信息表中\n",
    "match = pd.merge(match, home_team[['home_team_api_id','home_team']], on='home_team_api_id', how='left')\n",
    "\n",
    "print('合并后的表中最开头三行内容如下：')\n",
    "match.head(3)"
   ]
  },
  {
   "cell_type": "markdown",
   "metadata": {},
   "source": [
    "加入客队名称"
   ]
  },
  {
   "cell_type": "code",
   "execution_count": 8,
   "metadata": {},
   "outputs": [
    {
     "name": "stdout",
     "output_type": "stream",
     "text": [
      "合并后的表中最开头三行内容如下：\n"
     ]
    },
    {
     "data": {
      "text/html": [
       "<div>\n",
       "<style scoped>\n",
       "    .dataframe tbody tr th:only-of-type {\n",
       "        vertical-align: middle;\n",
       "    }\n",
       "\n",
       "    .dataframe tbody tr th {\n",
       "        vertical-align: top;\n",
       "    }\n",
       "\n",
       "    .dataframe thead th {\n",
       "        text-align: right;\n",
       "    }\n",
       "</style>\n",
       "<table border=\"1\" class=\"dataframe\">\n",
       "  <thead>\n",
       "    <tr style=\"text-align: right;\">\n",
       "      <th></th>\n",
       "      <th>id</th>\n",
       "      <th>country_id</th>\n",
       "      <th>league_id</th>\n",
       "      <th>season</th>\n",
       "      <th>stage</th>\n",
       "      <th>date</th>\n",
       "      <th>match_api_id</th>\n",
       "      <th>home_team_api_id</th>\n",
       "      <th>away_team_api_id</th>\n",
       "      <th>home_team_goal</th>\n",
       "      <th>...</th>\n",
       "      <th>GBH</th>\n",
       "      <th>GBD</th>\n",
       "      <th>GBA</th>\n",
       "      <th>BSH</th>\n",
       "      <th>BSD</th>\n",
       "      <th>BSA</th>\n",
       "      <th>country</th>\n",
       "      <th>league</th>\n",
       "      <th>home_team</th>\n",
       "      <th>away_team</th>\n",
       "    </tr>\n",
       "  </thead>\n",
       "  <tbody>\n",
       "    <tr>\n",
       "      <th>0</th>\n",
       "      <td>1</td>\n",
       "      <td>1</td>\n",
       "      <td>1</td>\n",
       "      <td>2008/2009</td>\n",
       "      <td>1</td>\n",
       "      <td>2008-08-17 00:00:00</td>\n",
       "      <td>492473</td>\n",
       "      <td>9987</td>\n",
       "      <td>9993</td>\n",
       "      <td>1</td>\n",
       "      <td>...</td>\n",
       "      <td>1.78</td>\n",
       "      <td>3.25</td>\n",
       "      <td>4.00</td>\n",
       "      <td>1.73</td>\n",
       "      <td>3.40</td>\n",
       "      <td>4.20</td>\n",
       "      <td>Belgium</td>\n",
       "      <td>Belgium Jupiler League</td>\n",
       "      <td>KRC Genk</td>\n",
       "      <td>Beerschot AC</td>\n",
       "    </tr>\n",
       "    <tr>\n",
       "      <th>1</th>\n",
       "      <td>2</td>\n",
       "      <td>1</td>\n",
       "      <td>1</td>\n",
       "      <td>2008/2009</td>\n",
       "      <td>1</td>\n",
       "      <td>2008-08-16 00:00:00</td>\n",
       "      <td>492474</td>\n",
       "      <td>10000</td>\n",
       "      <td>9994</td>\n",
       "      <td>0</td>\n",
       "      <td>...</td>\n",
       "      <td>1.85</td>\n",
       "      <td>3.25</td>\n",
       "      <td>3.75</td>\n",
       "      <td>1.91</td>\n",
       "      <td>3.25</td>\n",
       "      <td>3.60</td>\n",
       "      <td>Belgium</td>\n",
       "      <td>Belgium Jupiler League</td>\n",
       "      <td>SV Zulte-Waregem</td>\n",
       "      <td>Sporting Lokeren</td>\n",
       "    </tr>\n",
       "    <tr>\n",
       "      <th>2</th>\n",
       "      <td>3</td>\n",
       "      <td>1</td>\n",
       "      <td>1</td>\n",
       "      <td>2008/2009</td>\n",
       "      <td>1</td>\n",
       "      <td>2008-08-16 00:00:00</td>\n",
       "      <td>492475</td>\n",
       "      <td>9984</td>\n",
       "      <td>8635</td>\n",
       "      <td>0</td>\n",
       "      <td>...</td>\n",
       "      <td>2.50</td>\n",
       "      <td>3.20</td>\n",
       "      <td>2.50</td>\n",
       "      <td>2.30</td>\n",
       "      <td>3.20</td>\n",
       "      <td>2.75</td>\n",
       "      <td>Belgium</td>\n",
       "      <td>Belgium Jupiler League</td>\n",
       "      <td>KSV Cercle Brugge</td>\n",
       "      <td>RSC Anderlecht</td>\n",
       "    </tr>\n",
       "  </tbody>\n",
       "</table>\n",
       "<p>3 rows × 119 columns</p>\n",
       "</div>"
      ],
      "text/plain": [
       "   id  country_id  league_id     season  stage                 date  \\\n",
       "0   1           1          1  2008/2009      1  2008-08-17 00:00:00   \n",
       "1   2           1          1  2008/2009      1  2008-08-16 00:00:00   \n",
       "2   3           1          1  2008/2009      1  2008-08-16 00:00:00   \n",
       "\n",
       "   match_api_id  home_team_api_id  away_team_api_id  home_team_goal  \\\n",
       "0        492473              9987              9993               1   \n",
       "1        492474             10000              9994               0   \n",
       "2        492475              9984              8635               0   \n",
       "\n",
       "         ...          GBH   GBD   GBA   BSH   BSD   BSA  country  \\\n",
       "0        ...         1.78  3.25  4.00  1.73  3.40  4.20  Belgium   \n",
       "1        ...         1.85  3.25  3.75  1.91  3.25  3.60  Belgium   \n",
       "2        ...         2.50  3.20  2.50  2.30  3.20  2.75  Belgium   \n",
       "\n",
       "                   league          home_team         away_team  \n",
       "0  Belgium Jupiler League           KRC Genk      Beerschot AC  \n",
       "1  Belgium Jupiler League   SV Zulte-Waregem  Sporting Lokeren  \n",
       "2  Belgium Jupiler League  KSV Cercle Brugge    RSC Anderlecht  \n",
       "\n",
       "[3 rows x 119 columns]"
      ]
     },
     "execution_count": 8,
     "metadata": {},
     "output_type": "execute_result"
    }
   ],
   "source": [
    "# 对球队信息数据表进行复制，生成客队信息数据表\n",
    "away_team = team\n",
    "\n",
    "# 把客队信息数据表的表头名字改成和比赛数据表相应栏一致，这样方便把客队名字加入到比赛信息数据表中\n",
    "away_team.columns = ['id','away_team_api_id','away_team_fifa_api_id','away_team','away_team_short_name']\n",
    "\n",
    "# 把客队名字加入比赛信息表中\n",
    "match = pd.merge(match, away_team[['away_team_api_id','away_team']], on='away_team_api_id', how='left')\n",
    "\n",
    "print('合并后的表中最开头三行内容如下：')\n",
    "match.head(3)"
   ]
  },
  {
   "cell_type": "markdown",
   "metadata": {},
   "source": [
    "接下来选择需要的数据列，包括国家、联赛、赛季、轮数、比赛日期、主队、客队、主队进球数和客队进球数。然后新建两列：主队与客队之间的净胜球，以及两队的总进球数。"
   ]
  },
  {
   "cell_type": "code",
   "execution_count": 9,
   "metadata": {},
   "outputs": [],
   "source": [
    "# 选择需要的数据列\n",
    "selected_columns=['country', 'league', 'season', 'stage', 'date', 'home_team', 'away_team', \n",
    "                  'home_team_goal', 'away_team_goal']\n",
    "\n",
    "match_goal = match[selected_columns]\n",
    "\n",
    "for col in ['home_team_goal', 'away_team_goal']:\n",
    "    match_goal = match_goal[match_goal[col].notnull()]\n",
    "\n",
    "# 生成主队与客队之间的净胜球\n",
    "match_goal['home_team_gd']=match_goal['home_team_goal']-match_goal['away_team_goal']\n",
    "\n",
    "# 生成两队的总进球数\n",
    "match_goal['total_goal']=match_goal['home_team_goal'] + match_goal['away_team_goal']"
   ]
  },
  {
   "cell_type": "code",
   "execution_count": 10,
   "metadata": {},
   "outputs": [
    {
     "name": "stdout",
     "output_type": "stream",
     "text": [
      "<class 'pandas.core.frame.DataFrame'>\n",
      "Int64Index: 25979 entries, 0 to 25978\n",
      "Data columns (total 11 columns):\n",
      "country           25979 non-null object\n",
      "league            25979 non-null object\n",
      "season            25979 non-null object\n",
      "stage             25979 non-null int64\n",
      "date              25979 non-null object\n",
      "home_team         25979 non-null object\n",
      "away_team         25979 non-null object\n",
      "home_team_goal    25979 non-null int64\n",
      "away_team_goal    25979 non-null int64\n",
      "home_team_gd      25979 non-null int64\n",
      "total_goal        25979 non-null int64\n",
      "dtypes: int64(5), object(6)\n",
      "memory usage: 2.4+ MB\n"
     ]
    }
   ],
   "source": [
    "match_goal.info()"
   ]
  },
  {
   "cell_type": "markdown",
   "metadata": {},
   "source": [
    "可以看到，这一数据库包含了25979场比赛。"
   ]
  },
  {
   "cell_type": "markdown",
   "metadata": {},
   "source": [
    "#### <a id='1'></a>1、 欧洲各大联赛进球数据对比"
   ]
  },
  {
   "cell_type": "markdown",
   "metadata": {},
   "source": [
    "#### 主队场均进球数"
   ]
  },
  {
   "cell_type": "code",
   "execution_count": 11,
   "metadata": {},
   "outputs": [],
   "source": [
    "league_dict = {\"Belgium Jupiler League\": \"比甲\",\n",
    "               \"England Premier League\": \"英超\",\n",
    "               \"France Ligue 1\": \"法甲\",\n",
    "               \"Germany 1. Bundesliga\": \"德甲\",\n",
    "               \"Italy Serie A\": \"意甲\",\n",
    "               \"Netherlands Eredivisie\": \"荷甲\",\n",
    "               \"Poland Ekstraklasa\": \"波甲\",\n",
    "               \"Portugal Liga ZON Sagres\": \"葡超\",\n",
    "               \"Scotland Premier League\": \"苏超\",\n",
    "               \"Spain LIGA BBVA\": \"西甲\",\n",
    "               \"Switzerland Super League\": \"瑞超\"}\n",
    "\n",
    "league_list_cn = [league_dict[key] for key in match_goal['league'].values] # 联赛中文名"
   ]
  },
  {
   "cell_type": "code",
   "execution_count": 12,
   "metadata": {},
   "outputs": [
    {
     "data": {
      "text/plain": [
       "<matplotlib.text.Text at 0x25b9c932898>"
      ]
     },
     "execution_count": 12,
     "metadata": {},
     "output_type": "execute_result"
    },
    {
     "data": {
      "image/png": "[encoded data removed]",
      "text/plain": [
       "<matplotlib.figure.Figure at 0x25bb1d5c9e8>"
      ]
     },
     "metadata": {},
     "output_type": "display_data"
    }
   ],
   "source": [
    "plt.figure(figsize=(8,8))\n",
    "ax=sns.barplot(y=league_list_cn, x=match_goal[\"home_team_goal\"], color='b', alpha=0.5)\n",
    "plt.xlabel('主队场均进球数')\n",
    "plt.title('2008/09至2015/16赛季')"
   ]
  },
  {
   "cell_type": "markdown",
   "metadata": {},
   "source": [
    "荷甲的主队场均进球数最高，达到了1.78球。波兰甲级联赛的主队场均进球数最低，为1.39球。"
   ]
  },
  {
   "cell_type": "markdown",
   "metadata": {},
   "source": [
    "#### 客队场均进球数"
   ]
  },
  {
   "cell_type": "code",
   "execution_count": 13,
   "metadata": {},
   "outputs": [
    {
     "data": {
      "text/plain": [
       "<matplotlib.text.Text at 0x25b9c9d4630>"
      ]
     },
     "execution_count": 13,
     "metadata": {},
     "output_type": "execute_result"
    },
    {
     "data": {
      "image/png": "[encoded data removed]",
      "text/plain": [
       "<matplotlib.figure.Figure at 0x25b9c821390>"
      ]
     },
     "metadata": {},
     "output_type": "display_data"
    }
   ],
   "source": [
    "plt.figure(figsize=(8,8))\n",
    "ax=sns.barplot(y=league_list_cn, x=match_goal[\"away_team_goal\"], color='b', alpha=0.5)\n",
    "plt.xlabel('客队场均进球数')\n",
    "plt.title('2008/09至2015/16赛季')"
   ]
  },
  {
   "cell_type": "markdown",
   "metadata": {},
   "source": [
    "荷甲的客队场均进球数也是最高的，达到了1.30球。波甲的客队场均进球数最低，为1.03球。 "
   ]
  },
  {
   "cell_type": "markdown",
   "metadata": {},
   "source": [
    "#### 场均总进球数 "
   ]
  },
  {
   "cell_type": "code",
   "execution_count": 14,
   "metadata": {},
   "outputs": [
    {
     "data": {
      "text/plain": [
       "<matplotlib.text.Text at 0x25ba9ba5e10>"
      ]
     },
     "execution_count": 14,
     "metadata": {},
     "output_type": "execute_result"
    },
    {
     "data": {
      "image/png": "[encoded data removed]",
      "text/plain": [
       "<matplotlib.figure.Figure at 0x25b9c941780>"
      ]
     },
     "metadata": {},
     "output_type": "display_data"
    }
   ],
   "source": [
    "plt.figure(figsize=(8,8))\n",
    "ax=sns.barplot(y=league_list_cn, x=match_goal[\"total_goal\"], color='b', alpha=0.5)\n",
    "plt.xlabel('场均总进球数')\n",
    "plt.title('2008/09至2015/16赛季')"
   ]
  },
  {
   "cell_type": "markdown",
   "metadata": {},
   "source": [
    "荷甲的场均总进球数最多，达到了3.08球。波甲的场均进球数最低，为2.43球。"
   ]
  },
  {
   "cell_type": "markdown",
   "metadata": {},
   "source": [
    "#### 主队与客队之间的场均净胜球"
   ]
  },
  {
   "cell_type": "code",
   "execution_count": 15,
   "metadata": {},
   "outputs": [
    {
     "data": {
      "text/plain": [
       "<matplotlib.text.Text at 0x25ba323f978>"
      ]
     },
     "execution_count": 15,
     "metadata": {},
     "output_type": "execute_result"
    },
    {
     "data": {
      "image/png": "[encoded data removed]",
      "text/plain": [
       "<matplotlib.figure.Figure at 0x25bafad7d68>"
      ]
     },
     "metadata": {},
     "output_type": "display_data"
    }
   ],
   "source": [
    "plt.figure(figsize=(8,8))\n",
    "ax=sns.barplot(y=league_list_cn, x=match_goal[\"home_team_gd\"], color='b', alpha=0.5)\n",
    "plt.xlabel('主队与客队场均净胜球')\n",
    "plt.title('2008/09至2015/16赛季')"
   ]
  },
  {
   "cell_type": "markdown",
   "metadata": {},
   "source": [
    "* 在所有11个欧洲职业足球联赛中，主队的场均进球数都要比客队多。这表明欧洲职业足球比赛确实有主场优势。\n",
    "* 西甲的主场优势最为明显，主队场均净胜球达到了0.5个。\n",
    "* 苏格兰超级联赛的场均净胜球最少，为0.22个。"
   ]
  },
  {
   "cell_type": "markdown",
   "metadata": {},
   "source": [
    "#### 2、 <a id='2'></a>与进球相关的Top 10系列\n",
    "#### 10大主队进球最多的比赛"
   ]
  },
  {
   "cell_type": "code",
   "execution_count": 16,
   "metadata": {},
   "outputs": [
    {
     "data": {
      "text/html": [
       "<div>\n",
       "<style scoped>\n",
       "    .dataframe tbody tr th:only-of-type {\n",
       "        vertical-align: middle;\n",
       "    }\n",
       "\n",
       "    .dataframe tbody tr th {\n",
       "        vertical-align: top;\n",
       "    }\n",
       "\n",
       "    .dataframe thead th {\n",
       "        text-align: right;\n",
       "    }\n",
       "</style>\n",
       "<table border=\"1\" class=\"dataframe\">\n",
       "  <thead>\n",
       "    <tr style=\"text-align: right;\">\n",
       "      <th></th>\n",
       "      <th>country</th>\n",
       "      <th>league</th>\n",
       "      <th>season</th>\n",
       "      <th>stage</th>\n",
       "      <th>date</th>\n",
       "      <th>home_team</th>\n",
       "      <th>away_team</th>\n",
       "      <th>home_team_goal</th>\n",
       "      <th>away_team_goal</th>\n",
       "      <th>home_team_gd</th>\n",
       "      <th>total_goal</th>\n",
       "    </tr>\n",
       "  </thead>\n",
       "  <tbody>\n",
       "    <tr>\n",
       "      <th>24247</th>\n",
       "      <td>Spain</td>\n",
       "      <td>Spain LIGA BBVA</td>\n",
       "      <td>2015/2016</td>\n",
       "      <td>16</td>\n",
       "      <td>2015-12-20 00:00:00</td>\n",
       "      <td>Real Madrid CF</td>\n",
       "      <td>Rayo Vallecano</td>\n",
       "      <td>10</td>\n",
       "      <td>2</td>\n",
       "      <td>8</td>\n",
       "      <td>12</td>\n",
       "    </tr>\n",
       "    <tr>\n",
       "      <th>13898</th>\n",
       "      <td>Netherlands</td>\n",
       "      <td>Netherlands Eredivisie</td>\n",
       "      <td>2010/2011</td>\n",
       "      <td>10</td>\n",
       "      <td>2010-10-24 00:00:00</td>\n",
       "      <td>PSV</td>\n",
       "      <td>Feyenoord</td>\n",
       "      <td>10</td>\n",
       "      <td>0</td>\n",
       "      <td>10</td>\n",
       "      <td>10</td>\n",
       "    </tr>\n",
       "    <tr>\n",
       "      <th>24015</th>\n",
       "      <td>Spain</td>\n",
       "      <td>Spain LIGA BBVA</td>\n",
       "      <td>2014/2015</td>\n",
       "      <td>29</td>\n",
       "      <td>2015-04-05 00:00:00</td>\n",
       "      <td>Real Madrid CF</td>\n",
       "      <td>Granada CF</td>\n",
       "      <td>9</td>\n",
       "      <td>1</td>\n",
       "      <td>8</td>\n",
       "      <td>10</td>\n",
       "    </tr>\n",
       "    <tr>\n",
       "      <th>2156</th>\n",
       "      <td>England</td>\n",
       "      <td>England Premier League</td>\n",
       "      <td>2009/2010</td>\n",
       "      <td>13</td>\n",
       "      <td>2009-11-22 00:00:00</td>\n",
       "      <td>Tottenham Hotspur</td>\n",
       "      <td>Wigan Athletic</td>\n",
       "      <td>9</td>\n",
       "      <td>1</td>\n",
       "      <td>8</td>\n",
       "      <td>10</td>\n",
       "    </tr>\n",
       "    <tr>\n",
       "      <th>9210</th>\n",
       "      <td>Germany</td>\n",
       "      <td>Germany 1. Bundesliga</td>\n",
       "      <td>2012/2013</td>\n",
       "      <td>27</td>\n",
       "      <td>2013-03-30 00:00:00</td>\n",
       "      <td>FC Bayern Munich</td>\n",
       "      <td>Hamburger SV</td>\n",
       "      <td>9</td>\n",
       "      <td>2</td>\n",
       "      <td>7</td>\n",
       "      <td>11</td>\n",
       "    </tr>\n",
       "    <tr>\n",
       "      <th>20161</th>\n",
       "      <td>Scotland</td>\n",
       "      <td>Scotland Premier League</td>\n",
       "      <td>2010/2011</td>\n",
       "      <td>11</td>\n",
       "      <td>2010-11-06 00:00:00</td>\n",
       "      <td>Celtic</td>\n",
       "      <td>Aberdeen</td>\n",
       "      <td>9</td>\n",
       "      <td>0</td>\n",
       "      <td>9</td>\n",
       "      <td>9</td>\n",
       "    </tr>\n",
       "    <tr>\n",
       "      <th>4375</th>\n",
       "      <td>England</td>\n",
       "      <td>England Premier League</td>\n",
       "      <td>2014/2015</td>\n",
       "      <td>8</td>\n",
       "      <td>2014-10-18 00:00:00</td>\n",
       "      <td>Southampton</td>\n",
       "      <td>Sunderland</td>\n",
       "      <td>8</td>\n",
       "      <td>0</td>\n",
       "      <td>8</td>\n",
       "      <td>8</td>\n",
       "    </tr>\n",
       "    <tr>\n",
       "      <th>3338</th>\n",
       "      <td>England</td>\n",
       "      <td>England Premier League</td>\n",
       "      <td>2012/2013</td>\n",
       "      <td>18</td>\n",
       "      <td>2012-12-23 00:00:00</td>\n",
       "      <td>Chelsea</td>\n",
       "      <td>Aston Villa</td>\n",
       "      <td>8</td>\n",
       "      <td>0</td>\n",
       "      <td>8</td>\n",
       "      <td>8</td>\n",
       "    </tr>\n",
       "    <tr>\n",
       "      <th>22587</th>\n",
       "      <td>Spain</td>\n",
       "      <td>Spain LIGA BBVA</td>\n",
       "      <td>2010/2011</td>\n",
       "      <td>38</td>\n",
       "      <td>2011-05-21 00:00:00</td>\n",
       "      <td>Real Madrid CF</td>\n",
       "      <td>UD Almería</td>\n",
       "      <td>8</td>\n",
       "      <td>1</td>\n",
       "      <td>7</td>\n",
       "      <td>9</td>\n",
       "    </tr>\n",
       "    <tr>\n",
       "      <th>21337</th>\n",
       "      <td>Scotland</td>\n",
       "      <td>Scotland Premier League</td>\n",
       "      <td>2015/2016</td>\n",
       "      <td>17</td>\n",
       "      <td>2016-01-19 00:00:00</td>\n",
       "      <td>Celtic</td>\n",
       "      <td>Hamilton Academical FC</td>\n",
       "      <td>8</td>\n",
       "      <td>1</td>\n",
       "      <td>7</td>\n",
       "      <td>9</td>\n",
       "    </tr>\n",
       "  </tbody>\n",
       "</table>\n",
       "</div>"
      ],
      "text/plain": [
       "           country                   league     season  stage  \\\n",
       "24247        Spain          Spain LIGA BBVA  2015/2016     16   \n",
       "13898  Netherlands   Netherlands Eredivisie  2010/2011     10   \n",
       "24015        Spain          Spain LIGA BBVA  2014/2015     29   \n",
       "2156       England   England Premier League  2009/2010     13   \n",
       "9210       Germany    Germany 1. Bundesliga  2012/2013     27   \n",
       "20161     Scotland  Scotland Premier League  2010/2011     11   \n",
       "4375       England   England Premier League  2014/2015      8   \n",
       "3338       England   England Premier League  2012/2013     18   \n",
       "22587        Spain          Spain LIGA BBVA  2010/2011     38   \n",
       "21337     Scotland  Scotland Premier League  2015/2016     17   \n",
       "\n",
       "                      date          home_team               away_team  \\\n",
       "24247  2015-12-20 00:00:00     Real Madrid CF          Rayo Vallecano   \n",
       "13898  2010-10-24 00:00:00                PSV               Feyenoord   \n",
       "24015  2015-04-05 00:00:00     Real Madrid CF              Granada CF   \n",
       "2156   2009-11-22 00:00:00  Tottenham Hotspur          Wigan Athletic   \n",
       "9210   2013-03-30 00:00:00   FC Bayern Munich            Hamburger SV   \n",
       "20161  2010-11-06 00:00:00             Celtic                Aberdeen   \n",
       "4375   2014-10-18 00:00:00        Southampton              Sunderland   \n",
       "3338   2012-12-23 00:00:00            Chelsea             Aston Villa   \n",
       "22587  2011-05-21 00:00:00     Real Madrid CF              UD Almería   \n",
       "21337  2016-01-19 00:00:00             Celtic  Hamilton Academical FC   \n",
       "\n",
       "       home_team_goal  away_team_goal  home_team_gd  total_goal  \n",
       "24247              10               2             8          12  \n",
       "13898              10               0            10          10  \n",
       "24015               9               1             8          10  \n",
       "2156                9               1             8          10  \n",
       "9210                9               2             7          11  \n",
       "20161               9               0             9           9  \n",
       "4375                8               0             8           8  \n",
       "3338                8               0             8           8  \n",
       "22587               8               1             7           9  \n",
       "21337               8               1             7           9  "
      ]
     },
     "execution_count": 16,
     "metadata": {},
     "output_type": "execute_result"
    }
   ],
   "source": [
    "n_top = 10\n",
    "match_goal.sort_values('home_team_goal', ascending=False).head(n_top)"
   ]
  },
  {
   "cell_type": "markdown",
   "metadata": {},
   "source": [
    "并列排在第一位的是皇马10:2巴列卡诺（2015/2016赛季的西甲联赛），和埃因霍温10:0费耶诺德（2010/2011赛季的荷甲联赛）。"
   ]
  },
  {
   "cell_type": "markdown",
   "metadata": {},
   "source": [
    "#### 10大客队进球最多的比赛"
   ]
  },
  {
   "cell_type": "code",
   "execution_count": 17,
   "metadata": {},
   "outputs": [
    {
     "data": {
      "text/html": [
       "<div>\n",
       "<style scoped>\n",
       "    .dataframe tbody tr th:only-of-type {\n",
       "        vertical-align: middle;\n",
       "    }\n",
       "\n",
       "    .dataframe tbody tr th {\n",
       "        vertical-align: top;\n",
       "    }\n",
       "\n",
       "    .dataframe thead th {\n",
       "        text-align: right;\n",
       "    }\n",
       "</style>\n",
       "<table border=\"1\" class=\"dataframe\">\n",
       "  <thead>\n",
       "    <tr style=\"text-align: right;\">\n",
       "      <th></th>\n",
       "      <th>country</th>\n",
       "      <th>league</th>\n",
       "      <th>season</th>\n",
       "      <th>stage</th>\n",
       "      <th>date</th>\n",
       "      <th>home_team</th>\n",
       "      <th>away_team</th>\n",
       "      <th>home_team_goal</th>\n",
       "      <th>away_team_goal</th>\n",
       "      <th>home_team_gd</th>\n",
       "      <th>total_goal</th>\n",
       "    </tr>\n",
       "  </thead>\n",
       "  <tbody>\n",
       "    <tr>\n",
       "      <th>7660</th>\n",
       "      <td>France</td>\n",
       "      <td>France Ligue 1</td>\n",
       "      <td>2015/2016</td>\n",
       "      <td>30</td>\n",
       "      <td>2016-03-13 00:00:00</td>\n",
       "      <td>ES Troyes AC</td>\n",
       "      <td>Paris Saint-Germain</td>\n",
       "      <td>0</td>\n",
       "      <td>9</td>\n",
       "      <td>-9</td>\n",
       "      <td>9</td>\n",
       "    </tr>\n",
       "    <tr>\n",
       "      <th>22310</th>\n",
       "      <td>Spain</td>\n",
       "      <td>Spain LIGA BBVA</td>\n",
       "      <td>2010/2011</td>\n",
       "      <td>12</td>\n",
       "      <td>2010-11-20 00:00:00</td>\n",
       "      <td>UD Almería</td>\n",
       "      <td>FC Barcelona</td>\n",
       "      <td>0</td>\n",
       "      <td>8</td>\n",
       "      <td>-8</td>\n",
       "      <td>8</td>\n",
       "    </tr>\n",
       "    <tr>\n",
       "      <th>24450</th>\n",
       "      <td>Spain</td>\n",
       "      <td>Spain LIGA BBVA</td>\n",
       "      <td>2015/2016</td>\n",
       "      <td>34</td>\n",
       "      <td>2016-04-20 00:00:00</td>\n",
       "      <td>RC Deportivo de La Coruña</td>\n",
       "      <td>FC Barcelona</td>\n",
       "      <td>0</td>\n",
       "      <td>8</td>\n",
       "      <td>-8</td>\n",
       "      <td>8</td>\n",
       "    </tr>\n",
       "    <tr>\n",
       "      <th>8662</th>\n",
       "      <td>Germany</td>\n",
       "      <td>Germany 1. Bundesliga</td>\n",
       "      <td>2010/2011</td>\n",
       "      <td>33</td>\n",
       "      <td>2011-05-07 00:00:00</td>\n",
       "      <td>FC St. Pauli</td>\n",
       "      <td>FC Bayern Munich</td>\n",
       "      <td>1</td>\n",
       "      <td>8</td>\n",
       "      <td>-7</td>\n",
       "      <td>9</td>\n",
       "    </tr>\n",
       "    <tr>\n",
       "      <th>24122</th>\n",
       "      <td>Spain</td>\n",
       "      <td>Spain LIGA BBVA</td>\n",
       "      <td>2014/2015</td>\n",
       "      <td>4</td>\n",
       "      <td>2014-09-20 00:00:00</td>\n",
       "      <td>RC Deportivo de La Coruña</td>\n",
       "      <td>Real Madrid CF</td>\n",
       "      <td>2</td>\n",
       "      <td>8</td>\n",
       "      <td>-6</td>\n",
       "      <td>10</td>\n",
       "    </tr>\n",
       "    <tr>\n",
       "      <th>24081</th>\n",
       "      <td>Spain</td>\n",
       "      <td>Spain LIGA BBVA</td>\n",
       "      <td>2014/2015</td>\n",
       "      <td>35</td>\n",
       "      <td>2015-05-02 00:00:00</td>\n",
       "      <td>Córdoba CF</td>\n",
       "      <td>FC Barcelona</td>\n",
       "      <td>0</td>\n",
       "      <td>8</td>\n",
       "      <td>-8</td>\n",
       "      <td>8</td>\n",
       "    </tr>\n",
       "    <tr>\n",
       "      <th>24736</th>\n",
       "      <td>Switzerland</td>\n",
       "      <td>Switzerland Super League</td>\n",
       "      <td>2008/2009</td>\n",
       "      <td>9</td>\n",
       "      <td>2008-09-14 00:00:00</td>\n",
       "      <td>FC Vaduz</td>\n",
       "      <td>FC Zürich</td>\n",
       "      <td>1</td>\n",
       "      <td>7</td>\n",
       "      <td>-6</td>\n",
       "      <td>8</td>\n",
       "    </tr>\n",
       "    <tr>\n",
       "      <th>11214</th>\n",
       "      <td>Italy</td>\n",
       "      <td>Italy Serie A</td>\n",
       "      <td>2010/2011</td>\n",
       "      <td>27</td>\n",
       "      <td>2011-02-27 00:00:00</td>\n",
       "      <td>Palermo</td>\n",
       "      <td>Udinese</td>\n",
       "      <td>0</td>\n",
       "      <td>7</td>\n",
       "      <td>-7</td>\n",
       "      <td>7</td>\n",
       "    </tr>\n",
       "    <tr>\n",
       "      <th>25901</th>\n",
       "      <td>Switzerland</td>\n",
       "      <td>Switzerland Super League</td>\n",
       "      <td>2015/2016</td>\n",
       "      <td>28</td>\n",
       "      <td>2016-04-17 00:00:00</td>\n",
       "      <td>FC St. Gallen</td>\n",
       "      <td>FC Basel</td>\n",
       "      <td>0</td>\n",
       "      <td>7</td>\n",
       "      <td>-7</td>\n",
       "      <td>7</td>\n",
       "    </tr>\n",
       "    <tr>\n",
       "      <th>24765</th>\n",
       "      <td>Switzerland</td>\n",
       "      <td>Switzerland Super League</td>\n",
       "      <td>2009/2010</td>\n",
       "      <td>14</td>\n",
       "      <td>2009-10-29 00:00:00</td>\n",
       "      <td>AC Bellinzona</td>\n",
       "      <td>BSC Young Boys</td>\n",
       "      <td>1</td>\n",
       "      <td>7</td>\n",
       "      <td>-6</td>\n",
       "      <td>8</td>\n",
       "    </tr>\n",
       "  </tbody>\n",
       "</table>\n",
       "</div>"
      ],
      "text/plain": [
       "           country                    league     season  stage  \\\n",
       "7660        France            France Ligue 1  2015/2016     30   \n",
       "22310        Spain           Spain LIGA BBVA  2010/2011     12   \n",
       "24450        Spain           Spain LIGA BBVA  2015/2016     34   \n",
       "8662       Germany     Germany 1. Bundesliga  2010/2011     33   \n",
       "24122        Spain           Spain LIGA BBVA  2014/2015      4   \n",
       "24081        Spain           Spain LIGA BBVA  2014/2015     35   \n",
       "24736  Switzerland  Switzerland Super League  2008/2009      9   \n",
       "11214        Italy             Italy Serie A  2010/2011     27   \n",
       "25901  Switzerland  Switzerland Super League  2015/2016     28   \n",
       "24765  Switzerland  Switzerland Super League  2009/2010     14   \n",
       "\n",
       "                      date                  home_team            away_team  \\\n",
       "7660   2016-03-13 00:00:00               ES Troyes AC  Paris Saint-Germain   \n",
       "22310  2010-11-20 00:00:00                 UD Almería         FC Barcelona   \n",
       "24450  2016-04-20 00:00:00  RC Deportivo de La Coruña         FC Barcelona   \n",
       "8662   2011-05-07 00:00:00               FC St. Pauli     FC Bayern Munich   \n",
       "24122  2014-09-20 00:00:00  RC Deportivo de La Coruña       Real Madrid CF   \n",
       "24081  2015-05-02 00:00:00                 Córdoba CF         FC Barcelona   \n",
       "24736  2008-09-14 00:00:00                   FC Vaduz            FC Zürich   \n",
       "11214  2011-02-27 00:00:00                    Palermo              Udinese   \n",
       "25901  2016-04-17 00:00:00              FC St. Gallen             FC Basel   \n",
       "24765  2009-10-29 00:00:00              AC Bellinzona       BSC Young Boys   \n",
       "\n",
       "       home_team_goal  away_team_goal  home_team_gd  total_goal  \n",
       "7660                0               9            -9           9  \n",
       "22310               0               8            -8           8  \n",
       "24450               0               8            -8           8  \n",
       "8662                1               8            -7           9  \n",
       "24122               2               8            -6          10  \n",
       "24081               0               8            -8           8  \n",
       "24736               1               7            -6           8  \n",
       "11214               0               7            -7           7  \n",
       "25901               0               7            -7           7  \n",
       "24765               1               7            -6           8  "
      ]
     },
     "execution_count": 17,
     "metadata": {},
     "output_type": "execute_result"
    }
   ],
   "source": [
    "n_top = 10\n",
    "match_goal.sort_values('away_team_goal', ascending=False).head(n_top)"
   ]
  },
  {
   "cell_type": "markdown",
   "metadata": {},
   "source": [
    "排在第一位的是特鲁瓦0:9巴黎圣日耳曼（2015/2016赛季法甲联赛）。"
   ]
  },
  {
   "cell_type": "markdown",
   "metadata": {},
   "source": [
    "#### 10大主队净胜球最多的比赛"
   ]
  },
  {
   "cell_type": "code",
   "execution_count": 18,
   "metadata": {},
   "outputs": [
    {
     "data": {
      "text/html": [
       "<div>\n",
       "<style scoped>\n",
       "    .dataframe tbody tr th:only-of-type {\n",
       "        vertical-align: middle;\n",
       "    }\n",
       "\n",
       "    .dataframe tbody tr th {\n",
       "        vertical-align: top;\n",
       "    }\n",
       "\n",
       "    .dataframe thead th {\n",
       "        text-align: right;\n",
       "    }\n",
       "</style>\n",
       "<table border=\"1\" class=\"dataframe\">\n",
       "  <thead>\n",
       "    <tr style=\"text-align: right;\">\n",
       "      <th></th>\n",
       "      <th>country</th>\n",
       "      <th>league</th>\n",
       "      <th>season</th>\n",
       "      <th>stage</th>\n",
       "      <th>date</th>\n",
       "      <th>home_team</th>\n",
       "      <th>away_team</th>\n",
       "      <th>home_team_goal</th>\n",
       "      <th>away_team_goal</th>\n",
       "      <th>home_team_gd</th>\n",
       "      <th>total_goal</th>\n",
       "    </tr>\n",
       "  </thead>\n",
       "  <tbody>\n",
       "    <tr>\n",
       "      <th>13898</th>\n",
       "      <td>Netherlands</td>\n",
       "      <td>Netherlands Eredivisie</td>\n",
       "      <td>2010/2011</td>\n",
       "      <td>10</td>\n",
       "      <td>2010-10-24 00:00:00</td>\n",
       "      <td>PSV</td>\n",
       "      <td>Feyenoord</td>\n",
       "      <td>10</td>\n",
       "      <td>0</td>\n",
       "      <td>10</td>\n",
       "      <td>10</td>\n",
       "    </tr>\n",
       "    <tr>\n",
       "      <th>20161</th>\n",
       "      <td>Scotland</td>\n",
       "      <td>Scotland Premier League</td>\n",
       "      <td>2010/2011</td>\n",
       "      <td>11</td>\n",
       "      <td>2010-11-06 00:00:00</td>\n",
       "      <td>Celtic</td>\n",
       "      <td>Aberdeen</td>\n",
       "      <td>9</td>\n",
       "      <td>0</td>\n",
       "      <td>9</td>\n",
       "      <td>9</td>\n",
       "    </tr>\n",
       "    <tr>\n",
       "      <th>2156</th>\n",
       "      <td>England</td>\n",
       "      <td>England Premier League</td>\n",
       "      <td>2009/2010</td>\n",
       "      <td>13</td>\n",
       "      <td>2009-11-22 00:00:00</td>\n",
       "      <td>Tottenham Hotspur</td>\n",
       "      <td>Wigan Athletic</td>\n",
       "      <td>9</td>\n",
       "      <td>1</td>\n",
       "      <td>8</td>\n",
       "      <td>10</td>\n",
       "    </tr>\n",
       "    <tr>\n",
       "      <th>24247</th>\n",
       "      <td>Spain</td>\n",
       "      <td>Spain LIGA BBVA</td>\n",
       "      <td>2015/2016</td>\n",
       "      <td>16</td>\n",
       "      <td>2015-12-20 00:00:00</td>\n",
       "      <td>Real Madrid CF</td>\n",
       "      <td>Rayo Vallecano</td>\n",
       "      <td>10</td>\n",
       "      <td>2</td>\n",
       "      <td>8</td>\n",
       "      <td>12</td>\n",
       "    </tr>\n",
       "    <tr>\n",
       "      <th>22984</th>\n",
       "      <td>Spain</td>\n",
       "      <td>Spain LIGA BBVA</td>\n",
       "      <td>2011/2012</td>\n",
       "      <td>4</td>\n",
       "      <td>2011-09-17 00:00:00</td>\n",
       "      <td>FC Barcelona</td>\n",
       "      <td>CA Osasuna</td>\n",
       "      <td>8</td>\n",
       "      <td>0</td>\n",
       "      <td>8</td>\n",
       "      <td>8</td>\n",
       "    </tr>\n",
       "    <tr>\n",
       "      <th>9761</th>\n",
       "      <td>Germany</td>\n",
       "      <td>Germany 1. Bundesliga</td>\n",
       "      <td>2014/2015</td>\n",
       "      <td>21</td>\n",
       "      <td>2015-02-14 00:00:00</td>\n",
       "      <td>FC Bayern Munich</td>\n",
       "      <td>Hamburger SV</td>\n",
       "      <td>8</td>\n",
       "      <td>0</td>\n",
       "      <td>8</td>\n",
       "      <td>8</td>\n",
       "    </tr>\n",
       "    <tr>\n",
       "      <th>3338</th>\n",
       "      <td>England</td>\n",
       "      <td>England Premier League</td>\n",
       "      <td>2012/2013</td>\n",
       "      <td>18</td>\n",
       "      <td>2012-12-23 00:00:00</td>\n",
       "      <td>Chelsea</td>\n",
       "      <td>Aston Villa</td>\n",
       "      <td>8</td>\n",
       "      <td>0</td>\n",
       "      <td>8</td>\n",
       "      <td>8</td>\n",
       "    </tr>\n",
       "    <tr>\n",
       "      <th>24015</th>\n",
       "      <td>Spain</td>\n",
       "      <td>Spain LIGA BBVA</td>\n",
       "      <td>2014/2015</td>\n",
       "      <td>29</td>\n",
       "      <td>2015-04-05 00:00:00</td>\n",
       "      <td>Real Madrid CF</td>\n",
       "      <td>Granada CF</td>\n",
       "      <td>9</td>\n",
       "      <td>1</td>\n",
       "      <td>8</td>\n",
       "      <td>10</td>\n",
       "    </tr>\n",
       "    <tr>\n",
       "      <th>2420</th>\n",
       "      <td>England</td>\n",
       "      <td>England Premier League</td>\n",
       "      <td>2009/2010</td>\n",
       "      <td>38</td>\n",
       "      <td>2010-05-09 00:00:00</td>\n",
       "      <td>Chelsea</td>\n",
       "      <td>Wigan Athletic</td>\n",
       "      <td>8</td>\n",
       "      <td>0</td>\n",
       "      <td>8</td>\n",
       "      <td>8</td>\n",
       "    </tr>\n",
       "    <tr>\n",
       "      <th>4375</th>\n",
       "      <td>England</td>\n",
       "      <td>England Premier League</td>\n",
       "      <td>2014/2015</td>\n",
       "      <td>8</td>\n",
       "      <td>2014-10-18 00:00:00</td>\n",
       "      <td>Southampton</td>\n",
       "      <td>Sunderland</td>\n",
       "      <td>8</td>\n",
       "      <td>0</td>\n",
       "      <td>8</td>\n",
       "      <td>8</td>\n",
       "    </tr>\n",
       "  </tbody>\n",
       "</table>\n",
       "</div>"
      ],
      "text/plain": [
       "           country                   league     season  stage  \\\n",
       "13898  Netherlands   Netherlands Eredivisie  2010/2011     10   \n",
       "20161     Scotland  Scotland Premier League  2010/2011     11   \n",
       "2156       England   England Premier League  2009/2010     13   \n",
       "24247        Spain          Spain LIGA BBVA  2015/2016     16   \n",
       "22984        Spain          Spain LIGA BBVA  2011/2012      4   \n",
       "9761       Germany    Germany 1. Bundesliga  2014/2015     21   \n",
       "3338       England   England Premier League  2012/2013     18   \n",
       "24015        Spain          Spain LIGA BBVA  2014/2015     29   \n",
       "2420       England   England Premier League  2009/2010     38   \n",
       "4375       England   England Premier League  2014/2015      8   \n",
       "\n",
       "                      date          home_team       away_team  home_team_goal  \\\n",
       "13898  2010-10-24 00:00:00                PSV       Feyenoord              10   \n",
       "20161  2010-11-06 00:00:00             Celtic        Aberdeen               9   \n",
       "2156   2009-11-22 00:00:00  Tottenham Hotspur  Wigan Athletic               9   \n",
       "24247  2015-12-20 00:00:00     Real Madrid CF  Rayo Vallecano              10   \n",
       "22984  2011-09-17 00:00:00       FC Barcelona      CA Osasuna               8   \n",
       "9761   2015-02-14 00:00:00   FC Bayern Munich    Hamburger SV               8   \n",
       "3338   2012-12-23 00:00:00            Chelsea     Aston Villa               8   \n",
       "24015  2015-04-05 00:00:00     Real Madrid CF      Granada CF               9   \n",
       "2420   2010-05-09 00:00:00            Chelsea  Wigan Athletic               8   \n",
       "4375   2014-10-18 00:00:00        Southampton      Sunderland               8   \n",
       "\n",
       "       away_team_goal  home_team_gd  total_goal  \n",
       "13898               0            10          10  \n",
       "20161               0             9           9  \n",
       "2156                1             8          10  \n",
       "24247               2             8          12  \n",
       "22984               0             8           8  \n",
       "9761                0             8           8  \n",
       "3338                0             8           8  \n",
       "24015               1             8          10  \n",
       "2420                0             8           8  \n",
       "4375                0             8           8  "
      ]
     },
     "execution_count": 18,
     "metadata": {},
     "output_type": "execute_result"
    }
   ],
   "source": [
    "n_top = 10\n",
    "match_goal.sort_values('home_team_gd', ascending=False).head(n_top)"
   ]
  },
  {
   "cell_type": "markdown",
   "metadata": {},
   "source": [
    "排在第一位的是埃因霍温10:0费耶诺德（2010/2011赛季的荷甲联赛）。"
   ]
  },
  {
   "cell_type": "markdown",
   "metadata": {},
   "source": [
    "#### 10大客队净胜球最多的比赛"
   ]
  },
  {
   "cell_type": "code",
   "execution_count": 19,
   "metadata": {},
   "outputs": [
    {
     "data": {
      "text/html": [
       "<div>\n",
       "<style scoped>\n",
       "    .dataframe tbody tr th:only-of-type {\n",
       "        vertical-align: middle;\n",
       "    }\n",
       "\n",
       "    .dataframe tbody tr th {\n",
       "        vertical-align: top;\n",
       "    }\n",
       "\n",
       "    .dataframe thead th {\n",
       "        text-align: right;\n",
       "    }\n",
       "</style>\n",
       "<table border=\"1\" class=\"dataframe\">\n",
       "  <thead>\n",
       "    <tr style=\"text-align: right;\">\n",
       "      <th></th>\n",
       "      <th>country</th>\n",
       "      <th>league</th>\n",
       "      <th>season</th>\n",
       "      <th>stage</th>\n",
       "      <th>date</th>\n",
       "      <th>home_team</th>\n",
       "      <th>away_team</th>\n",
       "      <th>home_team_goal</th>\n",
       "      <th>away_team_goal</th>\n",
       "      <th>home_team_gd</th>\n",
       "      <th>total_goal</th>\n",
       "    </tr>\n",
       "  </thead>\n",
       "  <tbody>\n",
       "    <tr>\n",
       "      <th>7660</th>\n",
       "      <td>France</td>\n",
       "      <td>France Ligue 1</td>\n",
       "      <td>2015/2016</td>\n",
       "      <td>30</td>\n",
       "      <td>2016-03-13 00:00:00</td>\n",
       "      <td>ES Troyes AC</td>\n",
       "      <td>Paris Saint-Germain</td>\n",
       "      <td>0</td>\n",
       "      <td>9</td>\n",
       "      <td>-9</td>\n",
       "      <td>9</td>\n",
       "    </tr>\n",
       "    <tr>\n",
       "      <th>24450</th>\n",
       "      <td>Spain</td>\n",
       "      <td>Spain LIGA BBVA</td>\n",
       "      <td>2015/2016</td>\n",
       "      <td>34</td>\n",
       "      <td>2016-04-20 00:00:00</td>\n",
       "      <td>RC Deportivo de La Coruña</td>\n",
       "      <td>FC Barcelona</td>\n",
       "      <td>0</td>\n",
       "      <td>8</td>\n",
       "      <td>-8</td>\n",
       "      <td>8</td>\n",
       "    </tr>\n",
       "    <tr>\n",
       "      <th>22310</th>\n",
       "      <td>Spain</td>\n",
       "      <td>Spain LIGA BBVA</td>\n",
       "      <td>2010/2011</td>\n",
       "      <td>12</td>\n",
       "      <td>2010-11-20 00:00:00</td>\n",
       "      <td>UD Almería</td>\n",
       "      <td>FC Barcelona</td>\n",
       "      <td>0</td>\n",
       "      <td>8</td>\n",
       "      <td>-8</td>\n",
       "      <td>8</td>\n",
       "    </tr>\n",
       "    <tr>\n",
       "      <th>24081</th>\n",
       "      <td>Spain</td>\n",
       "      <td>Spain LIGA BBVA</td>\n",
       "      <td>2014/2015</td>\n",
       "      <td>35</td>\n",
       "      <td>2015-05-02 00:00:00</td>\n",
       "      <td>Córdoba CF</td>\n",
       "      <td>FC Barcelona</td>\n",
       "      <td>0</td>\n",
       "      <td>8</td>\n",
       "      <td>-8</td>\n",
       "      <td>8</td>\n",
       "    </tr>\n",
       "    <tr>\n",
       "      <th>11214</th>\n",
       "      <td>Italy</td>\n",
       "      <td>Italy Serie A</td>\n",
       "      <td>2010/2011</td>\n",
       "      <td>27</td>\n",
       "      <td>2011-02-27 00:00:00</td>\n",
       "      <td>Palermo</td>\n",
       "      <td>Udinese</td>\n",
       "      <td>0</td>\n",
       "      <td>7</td>\n",
       "      <td>-7</td>\n",
       "      <td>7</td>\n",
       "    </tr>\n",
       "    <tr>\n",
       "      <th>25901</th>\n",
       "      <td>Switzerland</td>\n",
       "      <td>Switzerland Super League</td>\n",
       "      <td>2015/2016</td>\n",
       "      <td>28</td>\n",
       "      <td>2016-04-17 00:00:00</td>\n",
       "      <td>FC St. Gallen</td>\n",
       "      <td>FC Basel</td>\n",
       "      <td>0</td>\n",
       "      <td>7</td>\n",
       "      <td>-7</td>\n",
       "      <td>7</td>\n",
       "    </tr>\n",
       "    <tr>\n",
       "      <th>22949</th>\n",
       "      <td>Spain</td>\n",
       "      <td>Spain LIGA BBVA</td>\n",
       "      <td>2011/2012</td>\n",
       "      <td>36</td>\n",
       "      <td>2012-04-29 00:00:00</td>\n",
       "      <td>Rayo Vallecano</td>\n",
       "      <td>FC Barcelona</td>\n",
       "      <td>0</td>\n",
       "      <td>7</td>\n",
       "      <td>-7</td>\n",
       "      <td>7</td>\n",
       "    </tr>\n",
       "    <tr>\n",
       "      <th>9395</th>\n",
       "      <td>Germany</td>\n",
       "      <td>Germany 1. Bundesliga</td>\n",
       "      <td>2013/2014</td>\n",
       "      <td>15</td>\n",
       "      <td>2013-12-07 00:00:00</td>\n",
       "      <td>SV Werder Bremen</td>\n",
       "      <td>FC Bayern Munich</td>\n",
       "      <td>0</td>\n",
       "      <td>7</td>\n",
       "      <td>-7</td>\n",
       "      <td>7</td>\n",
       "    </tr>\n",
       "    <tr>\n",
       "      <th>12463</th>\n",
       "      <td>Italy</td>\n",
       "      <td>Italy Serie A</td>\n",
       "      <td>2013/2014</td>\n",
       "      <td>4</td>\n",
       "      <td>2013-09-22 00:00:00</td>\n",
       "      <td>Sassuolo</td>\n",
       "      <td>Inter</td>\n",
       "      <td>0</td>\n",
       "      <td>7</td>\n",
       "      <td>-7</td>\n",
       "      <td>7</td>\n",
       "    </tr>\n",
       "    <tr>\n",
       "      <th>8662</th>\n",
       "      <td>Germany</td>\n",
       "      <td>Germany 1. Bundesliga</td>\n",
       "      <td>2010/2011</td>\n",
       "      <td>33</td>\n",
       "      <td>2011-05-07 00:00:00</td>\n",
       "      <td>FC St. Pauli</td>\n",
       "      <td>FC Bayern Munich</td>\n",
       "      <td>1</td>\n",
       "      <td>8</td>\n",
       "      <td>-7</td>\n",
       "      <td>9</td>\n",
       "    </tr>\n",
       "  </tbody>\n",
       "</table>\n",
       "</div>"
      ],
      "text/plain": [
       "           country                    league     season  stage  \\\n",
       "7660        France            France Ligue 1  2015/2016     30   \n",
       "24450        Spain           Spain LIGA BBVA  2015/2016     34   \n",
       "22310        Spain           Spain LIGA BBVA  2010/2011     12   \n",
       "24081        Spain           Spain LIGA BBVA  2014/2015     35   \n",
       "11214        Italy             Italy Serie A  2010/2011     27   \n",
       "25901  Switzerland  Switzerland Super League  2015/2016     28   \n",
       "22949        Spain           Spain LIGA BBVA  2011/2012     36   \n",
       "9395       Germany     Germany 1. Bundesliga  2013/2014     15   \n",
       "12463        Italy             Italy Serie A  2013/2014      4   \n",
       "8662       Germany     Germany 1. Bundesliga  2010/2011     33   \n",
       "\n",
       "                      date                  home_team            away_team  \\\n",
       "7660   2016-03-13 00:00:00               ES Troyes AC  Paris Saint-Germain   \n",
       "24450  2016-04-20 00:00:00  RC Deportivo de La Coruña         FC Barcelona   \n",
       "22310  2010-11-20 00:00:00                 UD Almería         FC Barcelona   \n",
       "24081  2015-05-02 00:00:00                 Córdoba CF         FC Barcelona   \n",
       "11214  2011-02-27 00:00:00                    Palermo              Udinese   \n",
       "25901  2016-04-17 00:00:00              FC St. Gallen             FC Basel   \n",
       "22949  2012-04-29 00:00:00             Rayo Vallecano         FC Barcelona   \n",
       "9395   2013-12-07 00:00:00           SV Werder Bremen     FC Bayern Munich   \n",
       "12463  2013-09-22 00:00:00                   Sassuolo                Inter   \n",
       "8662   2011-05-07 00:00:00               FC St. Pauli     FC Bayern Munich   \n",
       "\n",
       "       home_team_goal  away_team_goal  home_team_gd  total_goal  \n",
       "7660                0               9            -9           9  \n",
       "24450               0               8            -8           8  \n",
       "22310               0               8            -8           8  \n",
       "24081               0               8            -8           8  \n",
       "11214               0               7            -7           7  \n",
       "25901               0               7            -7           7  \n",
       "22949               0               7            -7           7  \n",
       "9395                0               7            -7           7  \n",
       "12463               0               7            -7           7  \n",
       "8662                1               8            -7           9  "
      ]
     },
     "execution_count": 19,
     "metadata": {},
     "output_type": "execute_result"
    }
   ],
   "source": [
    "n_top = 10\n",
    "match_goal.sort_values('home_team_gd').head(n_top)"
   ]
  },
  {
   "cell_type": "markdown",
   "metadata": {},
   "source": [
    "排在第一位的是特鲁瓦0:9巴黎圣日耳曼（2015/2016赛季法甲联赛）。"
   ]
  },
  {
   "cell_type": "markdown",
   "metadata": {},
   "source": [
    "#### 10大总进球数最多的比赛"
   ]
  },
  {
   "cell_type": "code",
   "execution_count": 20,
   "metadata": {},
   "outputs": [
    {
     "data": {
      "text/html": [
       "<div>\n",
       "<style scoped>\n",
       "    .dataframe tbody tr th:only-of-type {\n",
       "        vertical-align: middle;\n",
       "    }\n",
       "\n",
       "    .dataframe tbody tr th {\n",
       "        vertical-align: top;\n",
       "    }\n",
       "\n",
       "    .dataframe thead th {\n",
       "        text-align: right;\n",
       "    }\n",
       "</style>\n",
       "<table border=\"1\" class=\"dataframe\">\n",
       "  <thead>\n",
       "    <tr style=\"text-align: right;\">\n",
       "      <th></th>\n",
       "      <th>country</th>\n",
       "      <th>league</th>\n",
       "      <th>season</th>\n",
       "      <th>stage</th>\n",
       "      <th>date</th>\n",
       "      <th>home_team</th>\n",
       "      <th>away_team</th>\n",
       "      <th>home_team_goal</th>\n",
       "      <th>away_team_goal</th>\n",
       "      <th>home_team_gd</th>\n",
       "      <th>total_goal</th>\n",
       "    </tr>\n",
       "  </thead>\n",
       "  <tbody>\n",
       "    <tr>\n",
       "      <th>20106</th>\n",
       "      <td>Scotland</td>\n",
       "      <td>Scotland Premier League</td>\n",
       "      <td>2009/2010</td>\n",
       "      <td>37</td>\n",
       "      <td>2010-05-05 00:00:00</td>\n",
       "      <td>Motherwell</td>\n",
       "      <td>Hibernian</td>\n",
       "      <td>6</td>\n",
       "      <td>6</td>\n",
       "      <td>0</td>\n",
       "      <td>12</td>\n",
       "    </tr>\n",
       "    <tr>\n",
       "      <th>24247</th>\n",
       "      <td>Spain</td>\n",
       "      <td>Spain LIGA BBVA</td>\n",
       "      <td>2015/2016</td>\n",
       "      <td>16</td>\n",
       "      <td>2015-12-20 00:00:00</td>\n",
       "      <td>Real Madrid CF</td>\n",
       "      <td>Rayo Vallecano</td>\n",
       "      <td>10</td>\n",
       "      <td>2</td>\n",
       "      <td>8</td>\n",
       "      <td>12</td>\n",
       "    </tr>\n",
       "    <tr>\n",
       "      <th>9210</th>\n",
       "      <td>Germany</td>\n",
       "      <td>Germany 1. Bundesliga</td>\n",
       "      <td>2012/2013</td>\n",
       "      <td>27</td>\n",
       "      <td>2013-03-30 00:00:00</td>\n",
       "      <td>FC Bayern Munich</td>\n",
       "      <td>Hamburger SV</td>\n",
       "      <td>9</td>\n",
       "      <td>2</td>\n",
       "      <td>7</td>\n",
       "      <td>11</td>\n",
       "    </tr>\n",
       "    <tr>\n",
       "      <th>3092</th>\n",
       "      <td>England</td>\n",
       "      <td>England Premier League</td>\n",
       "      <td>2011/2012</td>\n",
       "      <td>3</td>\n",
       "      <td>2011-08-28 00:00:00</td>\n",
       "      <td>Manchester United</td>\n",
       "      <td>Arsenal</td>\n",
       "      <td>8</td>\n",
       "      <td>2</td>\n",
       "      <td>6</td>\n",
       "      <td>10</td>\n",
       "    </tr>\n",
       "    <tr>\n",
       "      <th>3368</th>\n",
       "      <td>England</td>\n",
       "      <td>England Premier League</td>\n",
       "      <td>2012/2013</td>\n",
       "      <td>20</td>\n",
       "      <td>2012-12-29 00:00:00</td>\n",
       "      <td>Arsenal</td>\n",
       "      <td>Newcastle United</td>\n",
       "      <td>7</td>\n",
       "      <td>3</td>\n",
       "      <td>4</td>\n",
       "      <td>10</td>\n",
       "    </tr>\n",
       "    <tr>\n",
       "      <th>23443</th>\n",
       "      <td>Spain</td>\n",
       "      <td>Spain LIGA BBVA</td>\n",
       "      <td>2013/2014</td>\n",
       "      <td>11</td>\n",
       "      <td>2013-10-30 00:00:00</td>\n",
       "      <td>Real Madrid CF</td>\n",
       "      <td>Sevilla FC</td>\n",
       "      <td>7</td>\n",
       "      <td>3</td>\n",
       "      <td>4</td>\n",
       "      <td>10</td>\n",
       "    </tr>\n",
       "    <tr>\n",
       "      <th>13898</th>\n",
       "      <td>Netherlands</td>\n",
       "      <td>Netherlands Eredivisie</td>\n",
       "      <td>2010/2011</td>\n",
       "      <td>10</td>\n",
       "      <td>2010-10-24 00:00:00</td>\n",
       "      <td>PSV</td>\n",
       "      <td>Feyenoord</td>\n",
       "      <td>10</td>\n",
       "      <td>0</td>\n",
       "      <td>10</td>\n",
       "      <td>10</td>\n",
       "    </tr>\n",
       "    <tr>\n",
       "      <th>24015</th>\n",
       "      <td>Spain</td>\n",
       "      <td>Spain LIGA BBVA</td>\n",
       "      <td>2014/2015</td>\n",
       "      <td>29</td>\n",
       "      <td>2015-04-05 00:00:00</td>\n",
       "      <td>Real Madrid CF</td>\n",
       "      <td>Granada CF</td>\n",
       "      <td>9</td>\n",
       "      <td>1</td>\n",
       "      <td>8</td>\n",
       "      <td>10</td>\n",
       "    </tr>\n",
       "    <tr>\n",
       "      <th>24113</th>\n",
       "      <td>Spain</td>\n",
       "      <td>Spain LIGA BBVA</td>\n",
       "      <td>2014/2015</td>\n",
       "      <td>38</td>\n",
       "      <td>2015-05-23 00:00:00</td>\n",
       "      <td>Real Madrid CF</td>\n",
       "      <td>Getafe CF</td>\n",
       "      <td>7</td>\n",
       "      <td>3</td>\n",
       "      <td>4</td>\n",
       "      <td>10</td>\n",
       "    </tr>\n",
       "    <tr>\n",
       "      <th>24122</th>\n",
       "      <td>Spain</td>\n",
       "      <td>Spain LIGA BBVA</td>\n",
       "      <td>2014/2015</td>\n",
       "      <td>4</td>\n",
       "      <td>2014-09-20 00:00:00</td>\n",
       "      <td>RC Deportivo de La Coruña</td>\n",
       "      <td>Real Madrid CF</td>\n",
       "      <td>2</td>\n",
       "      <td>8</td>\n",
       "      <td>-6</td>\n",
       "      <td>10</td>\n",
       "    </tr>\n",
       "  </tbody>\n",
       "</table>\n",
       "</div>"
      ],
      "text/plain": [
       "           country                   league     season  stage  \\\n",
       "20106     Scotland  Scotland Premier League  2009/2010     37   \n",
       "24247        Spain          Spain LIGA BBVA  2015/2016     16   \n",
       "9210       Germany    Germany 1. Bundesliga  2012/2013     27   \n",
       "3092       England   England Premier League  2011/2012      3   \n",
       "3368       England   England Premier League  2012/2013     20   \n",
       "23443        Spain          Spain LIGA BBVA  2013/2014     11   \n",
       "13898  Netherlands   Netherlands Eredivisie  2010/2011     10   \n",
       "24015        Spain          Spain LIGA BBVA  2014/2015     29   \n",
       "24113        Spain          Spain LIGA BBVA  2014/2015     38   \n",
       "24122        Spain          Spain LIGA BBVA  2014/2015      4   \n",
       "\n",
       "                      date                  home_team         away_team  \\\n",
       "20106  2010-05-05 00:00:00                 Motherwell         Hibernian   \n",
       "24247  2015-12-20 00:00:00             Real Madrid CF    Rayo Vallecano   \n",
       "9210   2013-03-30 00:00:00           FC Bayern Munich      Hamburger SV   \n",
       "3092   2011-08-28 00:00:00          Manchester United           Arsenal   \n",
       "3368   2012-12-29 00:00:00                    Arsenal  Newcastle United   \n",
       "23443  2013-10-30 00:00:00             Real Madrid CF        Sevilla FC   \n",
       "13898  2010-10-24 00:00:00                        PSV         Feyenoord   \n",
       "24015  2015-04-05 00:00:00             Real Madrid CF        Granada CF   \n",
       "24113  2015-05-23 00:00:00             Real Madrid CF         Getafe CF   \n",
       "24122  2014-09-20 00:00:00  RC Deportivo de La Coruña    Real Madrid CF   \n",
       "\n",
       "       home_team_goal  away_team_goal  home_team_gd  total_goal  \n",
       "20106               6               6             0          12  \n",
       "24247              10               2             8          12  \n",
       "9210                9               2             7          11  \n",
       "3092                8               2             6          10  \n",
       "3368                7               3             4          10  \n",
       "23443               7               3             4          10  \n",
       "13898              10               0            10          10  \n",
       "24015               9               1             8          10  \n",
       "24113               7               3             4          10  \n",
       "24122               2               8            -6          10  "
      ]
     },
     "execution_count": 20,
     "metadata": {},
     "output_type": "execute_result"
    }
   ],
   "source": [
    "n_top = 10\n",
    "match_goal.sort_values('total_goal', ascending=False).head(n_top)"
   ]
  },
  {
   "cell_type": "markdown",
   "metadata": {},
   "source": [
    "并列排在第一位的是：马瑟韦尔6:6希伯尼安（2009/2010苏格兰超级联赛）和皇马10:2巴列卡诺（2015/2016赛季的西甲联赛）。"
   ]
  },
  {
   "cell_type": "markdown",
   "metadata": {},
   "source": [
    "#### 主队和客队进球数都超过4个（不包含4个）的比赛"
   ]
  },
  {
   "cell_type": "code",
   "execution_count": 21,
   "metadata": {},
   "outputs": [
    {
     "data": {
      "text/html": [
       "<div>\n",
       "<style scoped>\n",
       "    .dataframe tbody tr th:only-of-type {\n",
       "        vertical-align: middle;\n",
       "    }\n",
       "\n",
       "    .dataframe tbody tr th {\n",
       "        vertical-align: top;\n",
       "    }\n",
       "\n",
       "    .dataframe thead th {\n",
       "        text-align: right;\n",
       "    }\n",
       "</style>\n",
       "<table border=\"1\" class=\"dataframe\">\n",
       "  <thead>\n",
       "    <tr style=\"text-align: right;\">\n",
       "      <th></th>\n",
       "      <th>country</th>\n",
       "      <th>league</th>\n",
       "      <th>season</th>\n",
       "      <th>stage</th>\n",
       "      <th>date</th>\n",
       "      <th>home_team</th>\n",
       "      <th>away_team</th>\n",
       "      <th>home_team_goal</th>\n",
       "      <th>away_team_goal</th>\n",
       "      <th>home_team_gd</th>\n",
       "      <th>total_goal</th>\n",
       "    </tr>\n",
       "  </thead>\n",
       "  <tbody>\n",
       "    <tr>\n",
       "      <th>3565</th>\n",
       "      <td>England</td>\n",
       "      <td>England Premier League</td>\n",
       "      <td>2012/2013</td>\n",
       "      <td>38</td>\n",
       "      <td>2013-05-19 00:00:00</td>\n",
       "      <td>West Bromwich Albion</td>\n",
       "      <td>Manchester United</td>\n",
       "      <td>5</td>\n",
       "      <td>5</td>\n",
       "      <td>0</td>\n",
       "      <td>10</td>\n",
       "    </tr>\n",
       "    <tr>\n",
       "      <th>5191</th>\n",
       "      <td>France</td>\n",
       "      <td>France Ligue 1</td>\n",
       "      <td>2009/2010</td>\n",
       "      <td>13</td>\n",
       "      <td>2009-11-08 00:00:00</td>\n",
       "      <td>Olympique Lyonnais</td>\n",
       "      <td>Olympique de Marseille</td>\n",
       "      <td>5</td>\n",
       "      <td>5</td>\n",
       "      <td>0</td>\n",
       "      <td>10</td>\n",
       "    </tr>\n",
       "    <tr>\n",
       "      <th>20106</th>\n",
       "      <td>Scotland</td>\n",
       "      <td>Scotland Premier League</td>\n",
       "      <td>2009/2010</td>\n",
       "      <td>37</td>\n",
       "      <td>2010-05-05 00:00:00</td>\n",
       "      <td>Motherwell</td>\n",
       "      <td>Hibernian</td>\n",
       "      <td>6</td>\n",
       "      <td>6</td>\n",
       "      <td>0</td>\n",
       "      <td>12</td>\n",
       "    </tr>\n",
       "  </tbody>\n",
       "</table>\n",
       "</div>"
      ],
      "text/plain": [
       "        country                   league     season  stage  \\\n",
       "3565    England   England Premier League  2012/2013     38   \n",
       "5191     France           France Ligue 1  2009/2010     13   \n",
       "20106  Scotland  Scotland Premier League  2009/2010     37   \n",
       "\n",
       "                      date             home_team               away_team  \\\n",
       "3565   2013-05-19 00:00:00  West Bromwich Albion       Manchester United   \n",
       "5191   2009-11-08 00:00:00    Olympique Lyonnais  Olympique de Marseille   \n",
       "20106  2010-05-05 00:00:00            Motherwell               Hibernian   \n",
       "\n",
       "       home_team_goal  away_team_goal  home_team_gd  total_goal  \n",
       "3565                5               5             0          10  \n",
       "5191                5               5             0          10  \n",
       "20106               6               6             0          12  "
      ]
     },
     "execution_count": 21,
     "metadata": {},
     "output_type": "execute_result"
    }
   ],
   "source": [
    "match_goal[(match_goal['home_team_goal'] > 4)&(match_goal['away_team_goal'] > 4)]"
   ]
  },
  {
   "cell_type": "markdown",
   "metadata": {},
   "source": [
    "一共有三场：西布朗维奇5:5曼联（2012/2013赛季英格兰超级联赛），里昂5:5马赛（2009/2010赛季法甲联赛）和马瑟韦尔6:6希伯尼安（2009/2010苏格兰超级联赛）。"
   ]
  },
  {
   "cell_type": "markdown",
   "metadata": {},
   "source": [
    "#### 10大进攻最强的主队"
   ]
  },
  {
   "cell_type": "code",
   "execution_count": 22,
   "metadata": {},
   "outputs": [],
   "source": [
    "team_dict = {'Real Madrid CF': '皇家马德里',\n",
    "             'FC Barcelona': '巴塞罗那',\n",
    "             'FC Bayern Munich': '拜仁慕尼黑',\n",
    "             'PSV': '埃因霍温',\n",
    "             'Ajax': '阿贾克斯',\n",
    "             'SL Benfica': '本菲卡',\n",
    "             'Celtic': '凯尔特人',\n",
    "             'FC Basel': '巴塞尔',\n",
    "             'Manchester City': '曼彻斯特城',\n",
    "             'FC Porto': '波尔图',\n",
    "             'Legia Warszawa': '华沙军团',\n",
    "             'Rangers': '格拉斯哥流浪者',\n",
    "             'RSC Anderlecht': '安德莱赫特',\n",
    "             'Lech Poznań': '波兹南莱赫',\n",
    "             'Juventus': '尤文图斯',\n",
    "             'Sporting CP': '葡萄牙体育'}"
   ]
  },
  {
   "cell_type": "code",
   "execution_count": 23,
   "metadata": {},
   "outputs": [],
   "source": [
    "# Average home team goal stats\n",
    "home_avg_goal = match_goal[['home_team','home_team_goal','away_team_goal','total_goal','home_team_gd']].groupby('home_team',as_index=False).mean()"
   ]
  },
  {
   "cell_type": "code",
   "execution_count": 24,
   "metadata": {},
   "outputs": [
    {
     "data": {
      "text/plain": [
       "<matplotlib.text.Text at 0x25b9caea128>"
      ]
     },
     "execution_count": 24,
     "metadata": {},
     "output_type": "execute_result"
    },
    {
     "data": {
      "image/png": "[encoded data removed]",
      "text/plain": [
       "<matplotlib.figure.Figure at 0x25b9c817278>"
      ]
     },
     "metadata": {},
     "output_type": "display_data"
    }
   ],
   "source": [
    "# Top counts number\n",
    "n_top = 10\n",
    "\n",
    "# get top counts name table\n",
    "top_home_team_attack = home_avg_goal.sort_values('home_team_goal',ascending=False)[['home_team', 'home_team_goal']].head(n_top)\n",
    "top_home_team_attack_cn = [team_dict[key] for key in top_home_team_attack['home_team'].values] # 球队中文名\n",
    "\n",
    "# Make a barhplot\n",
    "fig, ax = plt.subplots(figsize=(8,8))\n",
    "\n",
    "ax.barh(np.arange(n_top), top_home_team_attack['home_team_goal'].values, align = 'center')\n",
    "\n",
    "# Set x&y label, ticklabel and their size\n",
    "ax.set_yticks(np.arange(n_top))\n",
    "ax.set_yticklabels(top_home_team_attack_cn)\n",
    "ax.invert_yaxis()\n",
    "ax.set_xticklabels(ax.get_xticks())\n",
    "ax.set_xlabel('场均进球数')\n",
    "ax.set_title('{}大最佳进攻主队'.format(n_top))"
   ]
  },
  {
   "cell_type": "markdown",
   "metadata": {},
   "source": [
    "进攻能力最强的主队前三名：皇马，巴萨和拜仁。"
   ]
  },
  {
   "cell_type": "markdown",
   "metadata": {},
   "source": [
    "#### 10大防守最强的主队"
   ]
  },
  {
   "cell_type": "code",
   "execution_count": 25,
   "metadata": {},
   "outputs": [
    {
     "data": {
      "text/plain": [
       "<matplotlib.text.Text at 0x25bafaa1a58>"
      ]
     },
     "execution_count": 25,
     "metadata": {},
     "output_type": "execute_result"
    },
    {
     "data": {
      "image/png": "[encoded data removed]",
      "text/plain": [
       "<matplotlib.figure.Figure at 0x25baf9c5630>"
      ]
     },
     "metadata": {},
     "output_type": "display_data"
    }
   ],
   "source": [
    "# Top counts number\n",
    "n_top = 10\n",
    "\n",
    "# get top counts name table\n",
    "top_home_team_defence = home_avg_goal.sort_values('away_team_goal')[['home_team', 'away_team_goal']].head(n_top)\n",
    "top_home_team_defence_cn = [team_dict[key] for key in top_home_team_defence['home_team'].values] # 球队中文名\n",
    "\n",
    "# Make a barhplot\n",
    "fig, ax = plt.subplots(figsize=(8,8))\n",
    "\n",
    "ax.barh(np.arange(n_top), top_home_team_defence['away_team_goal'].values, align = 'center')\n",
    "\n",
    "# Set x&y label, ticklabel and their size\n",
    "ax.set_yticks(np.arange(n_top))\n",
    "ax.set_yticklabels(top_home_team_defence_cn)\n",
    "ax.invert_yaxis()\n",
    "ax.set_xticklabels(ax.get_xticks())\n",
    "ax.set_xlabel('场均丢球数')\n",
    "ax.set_title('{}大最佳防守主队'.format(n_top))"
   ]
  },
  {
   "cell_type": "markdown",
   "metadata": {},
   "source": [
    "防守最强的主队前三名为：波尔图，阿贾克斯和凯尔特人。"
   ]
  },
  {
   "cell_type": "markdown",
   "metadata": {},
   "source": [
    "#### 10大进攻最强的客队"
   ]
  },
  {
   "cell_type": "code",
   "execution_count": 26,
   "metadata": {},
   "outputs": [],
   "source": [
    "# Average away team stats\n",
    "away_avg_goal = match_goal[['away_team','home_team_goal','away_team_goal','total_goal','home_team_gd']].groupby('away_team',as_index=False).mean()"
   ]
  },
  {
   "cell_type": "code",
   "execution_count": 27,
   "metadata": {},
   "outputs": [
    {
     "data": {
      "text/plain": [
       "<matplotlib.text.Text at 0x25ba31e9828>"
      ]
     },
     "execution_count": 27,
     "metadata": {},
     "output_type": "execute_result"
    },
    {
     "data": {
      "image/png": "[encoded data removed]",
      "text/plain": [
       "<matplotlib.figure.Figure at 0x25bafa885c0>"
      ]
     },
     "metadata": {},
     "output_type": "display_data"
    }
   ],
   "source": [
    "# Top counts number\n",
    "n_top = 10\n",
    "\n",
    "# get top counts name table\n",
    "top_away_team_attack = away_avg_goal.sort_values('away_team_goal',ascending=False)[['away_team', 'away_team_goal']].head(n_top)\n",
    "top_away_team_attack_cn = [team_dict[key] for key in top_away_team_attack['away_team'].values] # 球队中文名\n",
    "\n",
    "# Make a barhplot\n",
    "fig, ax = plt.subplots(figsize=(8,8))\n",
    "\n",
    "ax.barh(np.arange(n_top), top_away_team_attack['away_team_goal'].values, align = 'center')\n",
    "\n",
    "# Set x&y label, ticklabel and their size\n",
    "ax.set_yticks(np.arange(n_top))\n",
    "ax.set_yticklabels(top_away_team_attack_cn)\n",
    "ax.invert_yaxis()\n",
    "ax.set_xticklabels(ax.get_xticks())\n",
    "ax.set_xlabel('场均进球数')\n",
    "ax.set_title('{}大最佳进攻客队'.format(n_top))"
   ]
  },
  {
   "cell_type": "markdown",
   "metadata": {},
   "source": [
    "进攻最强的客队前三名是：巴萨，皇马和阿贾克斯。"
   ]
  },
  {
   "cell_type": "markdown",
   "metadata": {},
   "source": [
    "#### 10大防守最强的客队"
   ]
  },
  {
   "cell_type": "code",
   "execution_count": 28,
   "metadata": {},
   "outputs": [
    {
     "data": {
      "text/plain": [
       "<matplotlib.text.Text at 0x25ba9a8ada0>"
      ]
     },
     "execution_count": 28,
     "metadata": {},
     "output_type": "execute_result"
    },
    {
     "data": {
      "image/png": "[encoded data removed]",
      "text/plain": [
       "<matplotlib.figure.Figure at 0x25ba321cc50>"
      ]
     },
     "metadata": {},
     "output_type": "display_data"
    }
   ],
   "source": [
    "# Top counts number\n",
    "n_top = 10\n",
    "\n",
    "# get top counts name table\n",
    "top_away_team_defence = away_avg_goal.sort_values('home_team_goal')[['away_team', 'home_team_goal']].head(n_top)\n",
    "top_away_team_defence_cn = [team_dict[key] for key in top_away_team_defence['away_team'].values] # 球队中文名\n",
    "# Make a barhplot\n",
    "fig, ax = plt.subplots(figsize=(8,8))\n",
    "\n",
    "ax.barh(np.arange(n_top), top_away_team_defence['home_team_goal'].values, align = 'center')\n",
    "\n",
    "# Set x&y label, ticklabel and their size\n",
    "ax.set_yticks(np.arange(n_top))\n",
    "ax.set_yticklabels(top_away_team_defence_cn)\n",
    "ax.invert_yaxis()\n",
    "ax.set_xticklabels(ax.get_xticks())\n",
    "ax.set_xlabel('场均丢球数')\n",
    "ax.set_title('{}大最佳防守客队'.format(n_top))"
   ]
  },
  {
   "cell_type": "markdown",
   "metadata": {},
   "source": [
    "防守最强的客队前三名是：格拉斯哥流浪者，波尔图和本菲卡。"
   ]
  },
  {
   "cell_type": "markdown",
   "metadata": {},
   "source": [
    "#### <a id='3'></a>3、 进球数与泊松分布\n",
    "泊松分布表示如下：$$P(X = k) = \\frac{\\lambda^ke^{-\\lambda}}{k!}, k = 0,1,2,...$$\n",
    "\n",
    "其中$\\lambda$为事件出现的期望值。"
   ]
  },
  {
   "cell_type": "markdown",
   "metadata": {},
   "source": [
    "验证足球比赛进球数是否服从泊松分布的步骤\n",
    "1. 利用泊松分布模型对足球比赛的进球数数据进行拟合，得到对$\\lambda$的估计。事实上，这一过程相当简单，因为由概率论与数理统计的知识可以知道，对$\\lambda$的估计就是场均进球数。所以第一步就是计算场均进球数。\n",
    "2. 利用泊松分布模型和场均进球数，计算出进球数的理论计算分布。\n",
    "3. 比较实际数据与理论计算分布，如果非常接近，就说明足球比赛的进球数分布服从泊松分布。"
   ]
  },
  {
   "cell_type": "markdown",
   "metadata": {},
   "source": [
    "#### 主队进球数分布"
   ]
  },
  {
   "cell_type": "code",
   "execution_count": 29,
   "metadata": {},
   "outputs": [
    {
     "data": {
      "text/plain": [
       "<matplotlib.legend.Legend at 0x25ba650aa90>"
      ]
     },
     "execution_count": 29,
     "metadata": {},
     "output_type": "execute_result"
    },
    {
     "data": {
      "image/png": "[encoded data removed]",
      "text/plain": [
       "<matplotlib.figure.Figure at 0x25ba66830b8>"
      ]
     },
     "metadata": {},
     "output_type": "display_data"
    }
   ],
   "source": [
    "# Estimate lambda for home team goal\n",
    "lambda_home = match_goal['home_team_goal'].mean()\n",
    "\n",
    "plt.figure(figsize=(10,6))\n",
    "plt.plot(np.arange(11), poisson.pmf(np.arange(11), lambda_home)*match_goal.shape[0], '-o', label=\"泊松分布（$\\lambda = %.2f$）\"%lambda_home)\n",
    "ax=sns.distplot(match_goal['home_team_goal'],kde=False, label='实际数据')\n",
    "plt.xlabel('主队一场比赛进球数')\n",
    "plt.ylabel('比赛场次')\n",
    "plt.legend()"
   ]
  },
  {
   "cell_type": "markdown",
   "metadata": {},
   "source": [
    "#### 客队进球数分布"
   ]
  },
  {
   "cell_type": "code",
   "execution_count": 30,
   "metadata": {},
   "outputs": [
    {
     "data": {
      "text/plain": [
       "<matplotlib.legend.Legend at 0x25bb1d0ff28>"
      ]
     },
     "execution_count": 30,
     "metadata": {},
     "output_type": "execute_result"
    },
    {
     "data": {
      "image/png": "[encoded data removed]",
      "text/plain": [
       "<matplotlib.figure.Figure at 0x25bafa06780>"
      ]
     },
     "metadata": {},
     "output_type": "display_data"
    }
   ],
   "source": [
    "# Estimate lambda for home team goal\n",
    "lambda_away=match_goal['away_team_goal'].mean()\n",
    "\n",
    "plt.figure(figsize=(10,6))\n",
    "plt.plot(np.arange(11), poisson.pmf(np.arange(11), lambda_away)*match_goal.shape[0], '-o', label=\"泊松分布（$\\lambda = %.2f$）\"%lambda_away)\n",
    "ax=sns.distplot(match_goal['away_team_goal'],kde=False, label='实际数据')\n",
    "plt.xlabel('客队一场比赛进球数')\n",
    "plt.ylabel('比赛场次')\n",
    "plt.legend()"
   ]
  },
  {
   "cell_type": "markdown",
   "metadata": {},
   "source": [
    "从以上两个结果可以知道，足球比赛进球数确实服从泊松分布。\n",
    "\n",
    "下面利用泊松分布进行推广计算。"
   ]
  },
  {
   "cell_type": "markdown",
   "metadata": {},
   "source": [
    "#### 总进球数分布\n",
    "总进球数也应该服从泊松分布。这是因为：主队进球数 ~ $P(\\lambda_{home})$，客队进球数 ~ $P(\\lambda_{away})$，所以总进球数 ~ $P(\\lambda_{home}+\\lambda_{away})$（详细推导过程请查看链接）[[1]](https://math.stackexchange.com/questions/221078/poisson-distribution-of-sum-of-two-random-independent-variables-x-y)。"
   ]
  },
  {
   "cell_type": "code",
   "execution_count": 31,
   "metadata": {},
   "outputs": [
    {
     "data": {
      "text/plain": [
       "<matplotlib.legend.Legend at 0x25ba9a6e7f0>"
      ]
     },
     "execution_count": 31,
     "metadata": {},
     "output_type": "execute_result"
    },
    {
     "data": {
      "image/png": "[encoded data removed]",
      "text/plain": [
       "<matplotlib.figure.Figure at 0x25bb1cec400>"
      ]
     },
     "metadata": {},
     "output_type": "display_data"
    }
   ],
   "source": [
    "# Estimate lambda for total goal\n",
    "lambda_total=match_goal['total_goal'].mean()\n",
    "\n",
    "plt.figure(figsize=(10,6))\n",
    "plt.plot(np.arange(11), poisson.pmf(np.arange(11), lambda_total)*match_goal.shape[0], '-o', label=\"泊松分布（$\\lambda = %.2f$）\"%lambda_total)\n",
    "ax=sns.distplot(match_goal['total_goal'],kde=False, label='实际数据')\n",
    "plt.xlabel('主客两队一场比赛总进球数')\n",
    "plt.ylabel('比赛场次')\n",
    "plt.legend()\n",
    "#plt.savefig('poisson_match_goal.jpg', dpi=400)"
   ]
  },
  {
   "cell_type": "markdown",
   "metadata": {},
   "source": [
    "#### 主队与客队之间的净胜球分布"
   ]
  },
  {
   "cell_type": "markdown",
   "metadata": {},
   "source": [
    "因为主队和客队的进球数服从泊松分布，由理论推导可知，两队的净胜球数服从Skellam分布（详细推导请参看链接[[2]](https://en.wikipedia.org/wiki/Skellam_distribution) [[3]](https://stats.stackexchange.com/questions/47749/how-to-calculate-cumulative-poisson-probabilities-without-adding-each-one-if-no)）。"
   ]
  },
  {
   "cell_type": "code",
   "execution_count": 32,
   "metadata": {},
   "outputs": [
    {
     "data": {
      "text/plain": [
       "<matplotlib.legend.Legend at 0x25ba1eebba8>"
      ]
     },
     "execution_count": 32,
     "metadata": {},
     "output_type": "execute_result"
    },
    {
     "data": {
      "image/png": "[encoded data removed]",
      "text/plain": [
       "<matplotlib.figure.Figure at 0x25bae7c7f28>"
      ]
     },
     "metadata": {},
     "output_type": "display_data"
    }
   ],
   "source": [
    "# define goal difference range for plot\n",
    "gd_range = np.arange(20) - 10   # -10 to 9\n",
    "\n",
    "plt.figure(figsize=(10,6))\n",
    "sns.distplot(match_goal['home_team_gd'], kde=False, label='实际数据')\n",
    "plt.plot(gd_range, skellam.pmf(gd_range, lambda_home, lambda_away)*match_goal.shape[0], '-o', label=\"估计值\")\n",
    "plt.xlabel('主客两队一场比赛净胜球')\n",
    "plt.ylabel('比赛场次')\n",
    "plt.legend()"
   ]
  },
  {
   "cell_type": "markdown",
   "metadata": {},
   "source": [
    "#### 比赛胜平负比例"
   ]
  },
  {
   "cell_type": "markdown",
   "metadata": {},
   "source": [
    "利用泊松分布模型和场均进球数还可以预估出足球比赛胜平负的总体比例。"
   ]
  },
  {
   "cell_type": "code",
   "execution_count": 33,
   "metadata": {},
   "outputs": [],
   "source": [
    "# Encode match result\n",
    "# home team win:  0\n",
    "# home team draw: 1\n",
    "# home team lose: 2\n",
    "match_goal['result'] = np.where(match_goal['home_team_gd'] > 0, 0, np.where(match_goal['home_team_gd'] < 0, 2, 1))"
   ]
  },
  {
   "cell_type": "code",
   "execution_count": 34,
   "metadata": {},
   "outputs": [
    {
     "name": "stdout",
     "output_type": "stream",
     "text": [
      "主队获胜实际比例：45.87%\n",
      "主队获胜概率估计：46.16%\n",
      "\n",
      "双方打平实际比例：25.39%\n",
      "双方打平概率估计：25.24%\n",
      "\n",
      "客队获胜实际比例：28.74%\n",
      "客队获胜概率估计：28.60%\n",
      "\n"
     ]
    }
   ],
   "source": [
    "# Use Possion Distribution to predict match result percentage\n",
    "p_win, p_draw, p_lose = 0, 0, 0\n",
    "\n",
    "# Maxmium number of goals for a team per match\n",
    "n_max = 20\n",
    "\n",
    "# Loop over all possibility of home team goal\n",
    "for i in np.arange(n_max):\n",
    "    # Loop over all possibility of away team goal\n",
    "    for j in np.arange(n_max):\n",
    "        # home team win\n",
    "        if i > j:\n",
    "            p_win = p_win+poisson.pmf(np.arange(n_max), lambda_home)[i]*poisson.pmf(np.arange(n_max), lambda_away)[j]\n",
    "        # draw\n",
    "        elif i == j:\n",
    "            p_draw = p_draw+poisson.pmf(np.arange(n_max), lambda_home)[i]*poisson.pmf(np.arange(n_max), lambda_away)[j]\n",
    "        # home team lose\n",
    "        else:\n",
    "            p_lose = p_lose+poisson.pmf(np.arange(n_max), lambda_home)[i]*poisson.pmf(np.arange(n_max), lambda_away)[j]\n",
    "\n",
    "# home team win ratio\n",
    "print('主队获胜实际比例：{:.2f}%'.format(match_goal.groupby('result', as_index=False).count()['country'].values[0]/match_goal.shape[0]*100))\n",
    "print('主队获胜概率估计：{:.2f}%\\n'.format(p_win*100))\n",
    "\n",
    "# draw ratio\n",
    "print('双方打平实际比例：{:.2f}%'.format(match_goal.groupby('result', as_index=False).count()['country'].values[1]/match_goal.shape[0]*100))\n",
    "print('双方打平概率估计：{:.2f}%\\n'.format(p_draw*100))\n",
    "\n",
    "# home team lose ratio\n",
    "print('客队获胜实际比例：{:.2f}%'.format(match_goal.groupby('result', as_index=False).count()['country'].values[2]/match_goal.shape[0]*100))\n",
    "print('客队获胜概率估计：{:.2f}%\\n'.format(p_lose*100))"
   ]
  },
  {
   "cell_type": "markdown",
   "metadata": {},
   "source": [
    "等价地，也可以利用Skellam分布得到相同的结果。"
   ]
  },
  {
   "cell_type": "code",
   "execution_count": 35,
   "metadata": {},
   "outputs": [
    {
     "name": "stdout",
     "output_type": "stream",
     "text": [
      "主队获胜实际比例：45.87%\n",
      "主队获胜概率估计：46.16%\n",
      "\n",
      "双方打平实际比例：25.39%\n",
      "双方打平概率估计：25.24%\n",
      "\n",
      "客队获胜实际比例：28.74%\n",
      "客队获胜概率估计：28.60%\n",
      "\n"
     ]
    }
   ],
   "source": [
    "# Use Skellam Distribution to predict match result percentage\n",
    "\n",
    "# n_max: range of goal difference. For example, if n_max = 3, the calcution will add up p(1), p(2) and p(3) for home team win,\n",
    "# and will add up p(-1), (p-2) and p(-3) for home team lose\n",
    "n_max = 20\n",
    "\n",
    "p_win = np.sum(skellam.pmf(np.arange(n_max)+1, lambda_home, lambda_away))\n",
    "p_draw = np.sum(skellam.pmf(0, lambda_home, lambda_away))\n",
    "p_lose = np.sum(skellam.pmf(np.arange(n_max)-n_max, lambda_home, lambda_away))\n",
    "\n",
    "# home team win ratio\n",
    "print('主队获胜实际比例：{:.2f}%'.format(match_goal.groupby('result', as_index=False).count()['country'].values[0]/match_goal.shape[0]*100))\n",
    "print('主队获胜概率估计：{:.2f}%\\n'.format(p_win*100))\n",
    "\n",
    "# draw ratio\n",
    "print('双方打平实际比例：{:.2f}%'.format(match_goal.groupby('result', as_index=False).count()['country'].values[1]/match_goal.shape[0]*100))\n",
    "print('双方打平概率估计：{:.2f}%\\n'.format(p_draw*100))\n",
    "\n",
    "# home team lose ratio\n",
    "print('客队获胜实际比例：{:.2f}%'.format(match_goal.groupby('result', as_index=False).count()['country'].values[2]/match_goal.shape[0]*100))\n",
    "print('客队获胜概率估计：{:.2f}%\\n'.format(p_lose*100))"
   ]
  },
  {
   "cell_type": "markdown",
   "metadata": {},
   "source": [
    "可视化显示如下"
   ]
  },
  {
   "cell_type": "code",
   "execution_count": 36,
   "metadata": {},
   "outputs": [
    {
     "data": {
      "text/plain": [
       "<matplotlib.legend.Legend at 0x25ba99efa90>"
      ]
     },
     "execution_count": 36,
     "metadata": {},
     "output_type": "execute_result"
    },
    {
     "data": {
      "image/png": "[encoded data removed]",
      "text/plain": [
       "<matplotlib.figure.Figure at 0x25bae8948d0>"
      ]
     },
     "metadata": {},
     "output_type": "display_data"
    }
   ],
   "source": [
    "# Plot number of 3 match results against predicted number of 3 match results (home team win/draw/lose)\n",
    "\n",
    "plt.figure(figsize=(10,6))\n",
    "ax = sns.distplot(match_goal['result'], kde=False, label='实际数据')\n",
    "plt.plot(np.arange(3), match_goal.shape[0]*np.array([p_win, p_draw, p_lose]), '-o', label=\"预测\")\n",
    "ax.set_xticks(np.arange(3))\n",
    "ax.set_xticklabels(['主队获胜', '双方打平', '客队获胜'])\n",
    "plt.xlabel('')\n",
    "plt.ylabel('比赛场次')\n",
    "plt.legend()"
   ]
  },
  {
   "cell_type": "markdown",
   "metadata": {},
   "source": [
    "预测的比例和实际比例非常接近。"
   ]
  },
  {
   "cell_type": "markdown",
   "metadata": {},
   "source": [
    "#### 比分的分布"
   ]
  },
  {
   "cell_type": "markdown",
   "metadata": {},
   "source": [
    "利用泊松分布模型和场均进球数还可以估计各种比分的出现比例（区分主客队，主队在前，客队在后。比如，1:0代表主队1:0客队，0:1代表主队0:1客队）。"
   ]
  },
  {
   "cell_type": "code",
   "execution_count": 37,
   "metadata": {},
   "outputs": [],
   "source": [
    "# max goal for each team\n",
    "max_goal = 4\n",
    "\n",
    "# The row index is home team score, and the column index is away team score,\n",
    "# the value is the probability for this match score\n",
    "# define a matrix to store prediced probability for match scores\n",
    "match_score_pred = np.zeros((max_goal+1,max_goal+1))\n",
    "\n",
    "for i in np.arange(max_goal+1):\n",
    "    for j in np.arange(max_goal+1):\n",
    "        # Predict with poisson distribution\n",
    "        match_score_pred[i,j] = poisson.pmf(np.arange(max_goal+1), lambda_home)[i]*poisson.pmf(np.arange(max_goal+1), lambda_away)[j]\n",
    "\n",
    "# define a matrix to store actual percentage for match scores\n",
    "match_score = np.zeros((max_goal+1, max_goal+1))\n",
    "\n",
    "for i in np.arange(max_goal+1):\n",
    "    for j in np.arange(max_goal+1):\n",
    "        match_score[i,j] = match_goal[(match_goal['home_team_goal'] == i)&(match_goal['away_team_goal'] == j)].shape[0]/match_goal.shape[0]"
   ]
  },
  {
   "cell_type": "code",
   "execution_count": 38,
   "metadata": {},
   "outputs": [
    {
     "name": "stdout",
     "output_type": "stream",
     "text": [
      "比分预测\n",
      "比分 | 实际比例 | 估计比例\n",
      "0:0     7.61%     6.68%\n",
      "0:1     7.17%     7.76%\n",
      "0:2     4.64%     4.50%\n",
      "0:3     2.06%     1.74%\n",
      "0:4     0.85%     0.51%\n",
      "1:0    10.17%    10.32%\n",
      "1:1    11.60%    11.98%\n",
      "1:2     6.39%     6.96%\n",
      "1:3     2.85%     2.69%\n",
      "1:4     0.95%     0.78%\n",
      "2:0     8.21%     7.97%\n",
      "2:1     8.39%     9.26%\n",
      "2:2     5.04%     5.37%\n",
      "2:3     1.88%     2.08%\n",
      "2:4     0.64%     0.60%\n",
      "3:0     4.34%     4.10%\n",
      "3:1     4.64%     4.77%\n",
      "3:2     2.36%     2.77%\n",
      "3:3     1.02%     1.07%\n",
      "3:4     0.19%     0.31%\n",
      "4:0     2.07%     1.59%\n",
      "4:1     1.84%     1.84%\n",
      "4:2     0.94%     1.07%\n",
      "4:3     0.33%     0.41%\n",
      "4:4     0.10%     0.12%\n"
     ]
    }
   ],
   "source": [
    "print('比分预测')\n",
    "print('比分 | 实际比例 | 估计比例')\n",
    "for i in np.arange(max_goal+1):\n",
    "    for j in np.arange(max_goal+1):\n",
    "        print('{:1.0f}:{}{:9.2f}%{:9.2f}%'.format(i, j, match_score[i,j]*100, match_score_pred[i, j]*100))"
   ]
  },
  {
   "cell_type": "markdown",
   "metadata": {},
   "source": [
    "估计的比例与实际比例非常接近。"
   ]
  },
  {
   "cell_type": "markdown",
   "metadata": {},
   "source": [
    "#### 最常见的10种比分"
   ]
  },
  {
   "cell_type": "code",
   "execution_count": 39,
   "metadata": {},
   "outputs": [
    {
     "name": "stdout",
     "output_type": "stream",
     "text": [
      "预计最常见的10种比分\n",
      "比分 | 估计比例\n",
      "1:1    11.98%\n",
      "1:0    10.32%\n",
      "2:1     9.26%\n",
      "2:0     7.97%\n",
      "0:1     7.76%\n",
      "1:2     6.96%\n",
      "0:0     6.68%\n",
      "2:2     5.37%\n",
      "3:1     4.77%\n",
      "0:2     4.50%\n",
      "\n",
      "实际最常见的10种比分\n",
      "比分 | 实际比例\n",
      "1:1    11.60%\n",
      "1:0    10.17%\n",
      "2:1     8.39%\n",
      "2:0     8.21%\n",
      "0:0     7.61%\n",
      "0:1     7.17%\n",
      "1:2     6.39%\n",
      "2:2     5.04%\n",
      "3:1     4.64%\n",
      "0:2     4.64%\n"
     ]
    }
   ],
   "source": [
    "# Top 10 popular match scores\n",
    "n_top = 10\n",
    "\n",
    "print('预计最常见的{}种比分'.format(n_top))\n",
    "print('比分 | 估计比例')\n",
    "\n",
    "for i in np.arange(n_top):\n",
    "    home_index = np.argwhere(match_score_pred == np.partition(match_score_pred.flatten(), -i-1)[-i-1])[0][0]\n",
    "    away_index = np.argwhere(match_score_pred == np.partition(match_score_pred.flatten(), -i-1)[-i-1])[0][1]\n",
    "    print('{:1.0f}:{}{:9.2f}%'.format(home_index, away_index, np.partition(match_score_pred.flatten(), -i-1)[-i-1]*100))\n",
    "\n",
    "print('\\n实际最常见的{}种比分'.format(n_top))\n",
    "print('比分 | 实际比例')\n",
    "for i in np.arange(10):\n",
    "    home_index = np.argwhere(match_score == np.partition(match_score.flatten(), -i-1)[-i-1])[0][0]\n",
    "    away_index = np.argwhere(match_score == np.partition(match_score.flatten(), -i-1)[-i-1])[0][1]\n",
    "    print('{:1.0f}:{}{:9.2f}%'.format(home_index, away_index, np.partition(match_score.flatten(), -i-1)[-i-1]*100))"
   ]
  },
  {
   "cell_type": "markdown",
   "metadata": {},
   "source": [
    "在当前场均进球数的情况下，足球比赛最可能出现的比分是1:1，其次是1:0，然后是2:1和2:0。"
   ]
  }
 ],
 "metadata": {
  "anaconda-cloud": {},
  "kernelspec": {
   "display_name": "Python 3",
   "language": "python",
   "name": "python3"
  },
  "language_info": {
   "codemirror_mode": {
    "name": "ipython",
    "version": 3
   },
   "file_extension": ".py",
   "mimetype": "text/x-python",
   "name": "python",
   "nbconvert_exporter": "python",
   "pygments_lexer": "ipython3",
   "version": "3.5.2"
  }
 },
 "nbformat": 4,
 "nbformat_minor": 1
}
