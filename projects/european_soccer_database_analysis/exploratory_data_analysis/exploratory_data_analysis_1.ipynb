{
 "cells": [
  {
   "cell_type": "markdown",
   "metadata": {},
   "source": [
    "## Kaggle European Soccer Database Analysis\n",
    "### 1. Exploratory Data Analysis - Country, League, Team and Player Tables"
   ]
  },
  {
   "cell_type": "markdown",
   "metadata": {},
   "source": [
    "The data are downloaded here: [Kaggle European Soccer Database](https://www.kaggle.com/hugomathien/soccer).\n",
    "### Highlights\n",
    "\n",
    "* **Relative age effect (RAE) among football players is confirmed.**\n",
    "* **Football players have an average height of 181.9 cm and average weight of 168.4 lb (76.4 kg).**\n",
    "      \n",
    "### Table of Contents\n",
    "#### 1.1 [Country](#Country)\n",
    "#### 1.2 [League](#League)\n",
    "#### 1.3 [Team](#Team)\n",
    "#### 1.4 [Player](#Player)"
   ]
  },
  {
   "cell_type": "markdown",
   "metadata": {},
   "source": [
    "First of all, let's import required python modules for data analysis as below."
   ]
  },
  {
   "cell_type": "code",
   "execution_count": 21,
   "metadata": {},
   "outputs": [
    {
     "name": "stdout",
     "output_type": "stream",
     "text": [
      "All general modules are imported.\n"
     ]
    }
   ],
   "source": [
    "%matplotlib inline\n",
    "import numpy as np\n",
    "import matplotlib.pyplot as plt\n",
    "import pandas as pd\n",
    "import seaborn as sns\n",
    "import sqlite3\n",
    "from scipy.stats import norm\n",
    "import pickle\n",
    "from tqdm import tqdm\n",
    "import os\n",
    "\n",
    "sns.set_style('whitegrid')\n",
    "sns.set_context('notebook')\n",
    "\n",
    "print('All general modules are imported.')"
   ]
  },
  {
   "cell_type": "markdown",
   "metadata": {},
   "source": [
    "Establish the connection to database. Change the database file directory as you wish."
   ]
  },
  {
   "cell_type": "code",
   "execution_count": 2,
   "metadata": {
    "scrolled": true
   },
   "outputs": [
    {
     "name": "stdout",
     "output_type": "stream",
     "text": [
      "Connection to the database is established.\n",
      "\n",
      "Following Tables are found in the database:\n",
      "sqlite_sequence\n",
      "Player_Attributes\n",
      "Player\n",
      "Match\n",
      "League\n",
      "Country\n",
      "Team\n",
      "Team_Attributes\n"
     ]
    }
   ],
   "source": [
    "# Establish connection to sql database\n",
    "\n",
    "# database file name\n",
    "db_filename = 'database.sqlite'\n",
    "\n",
    "# change database file directory as you wish\n",
    "db_filedir = os.path.join(os.path.pardir, os.path.pardir, os.path.pardir, 'data_source', 'kaggle', db_filename)\n",
    "\n",
    "try:\n",
    "    con=sqlite3.connect(db_filedir)\n",
    "    print('Connection to the database is established.\\n')\n",
    "except Exception as e:\n",
    "    print('Unable to establish the connection.')\n",
    "\n",
    "cursor=con.execute(\"select name from sqlite_master where type='table'\")\n",
    "print('Following Tables are found in the database:')\n",
    "for i in cursor.fetchall():\n",
    "    print('{}'.format(i[0]))"
   ]
  },
  {
   "cell_type": "markdown",
   "metadata": {},
   "source": [
    "Analysis of Player_Attributes and Team_Attributes is not taken in this work. This is because the rates of players and teams are from the game EA sports, which are not very objective.\n",
    "\n",
    "In this section, all tables will be explored except match table. Match table will be deferred to next notebook."
   ]
  },
  {
   "cell_type": "code",
   "execution_count": 3,
   "metadata": {},
   "outputs": [
    {
     "name": "stdout",
     "output_type": "stream",
     "text": [
      "Successfully load player table from the database.\n",
      "Successfully load league table from the database.\n",
      "Successfully load country table from the database.\n",
      "Successfully load team table from the database.\n"
     ]
    }
   ],
   "source": [
    "# read player table\n",
    "try:\n",
    "    player = pd.read_sql_query('select * from Player',con)\n",
    "    print('Successfully load player table from the database.')\n",
    "except Exception as e:\n",
    "    print('Unable to load player table from the database.')\n",
    "    \n",
    "# read league table\n",
    "try:\n",
    "    league=pd.read_sql_query('select * from League',con)\n",
    "    print('Successfully load league table from the database.')\n",
    "except Exception as e:\n",
    "    print('Unable to load league table from the database.')\n",
    "\n",
    "# read country table\n",
    "try:\n",
    "    country=pd.read_sql_query('select * from Country',con)\n",
    "    print('Successfully load country table from the database.')\n",
    "except Exception as e:\n",
    "    print('Unable to load country table from the database.')\n",
    "\n",
    "# read team table\n",
    "try:\n",
    "    team=pd.read_sql_query('select * from Team', con)\n",
    "    print('Successfully load team table from the database.')\n",
    "except Exception as e:\n",
    "    print('Unable to load team table from the database.')"
   ]
  },
  {
   "cell_type": "markdown",
   "metadata": {},
   "source": [
    "### <a id='Country'></a>1.1 Country"
   ]
  },
  {
   "cell_type": "markdown",
   "metadata": {},
   "source": [
    "Next, let's explore country table."
   ]
  },
  {
   "cell_type": "code",
   "execution_count": 4,
   "metadata": {},
   "outputs": [
    {
     "name": "stdout",
     "output_type": "stream",
     "text": [
      "<class 'pandas.core.frame.DataFrame'>\n",
      "RangeIndex: 11 entries, 0 to 10\n",
      "Data columns (total 2 columns):\n",
      "id      11 non-null int64\n",
      "name    11 non-null object\n",
      "dtypes: int64(1), object(1)\n",
      "memory usage: 256.0+ bytes\n",
      "None\n",
      "       id         name\n",
      "0       1      Belgium\n",
      "1    1729      England\n",
      "2    4769       France\n",
      "3    7809      Germany\n",
      "4   10257        Italy\n",
      "5   13274  Netherlands\n",
      "6   15722       Poland\n",
      "7   17642     Portugal\n",
      "8   19694     Scotland\n",
      "9   21518        Spain\n",
      "10  24558  Switzerland\n"
     ]
    }
   ],
   "source": [
    "print(country.info())\n",
    "print(country)"
   ]
  },
  {
   "cell_type": "markdown",
   "metadata": {},
   "source": [
    "There are 11 European countries."
   ]
  },
  {
   "cell_type": "markdown",
   "metadata": {},
   "source": [
    "### <a id='League'></a>1.2 League"
   ]
  },
  {
   "cell_type": "markdown",
   "metadata": {},
   "source": [
    "Next league table."
   ]
  },
  {
   "cell_type": "code",
   "execution_count": 5,
   "metadata": {},
   "outputs": [
    {
     "name": "stdout",
     "output_type": "stream",
     "text": [
      "<class 'pandas.core.frame.DataFrame'>\n",
      "RangeIndex: 11 entries, 0 to 10\n",
      "Data columns (total 3 columns):\n",
      "id            11 non-null int64\n",
      "country_id    11 non-null int64\n",
      "name          11 non-null object\n",
      "dtypes: int64(2), object(1)\n",
      "memory usage: 344.0+ bytes\n",
      "None\n",
      "       id  country_id                      name\n",
      "0       1           1    Belgium Jupiler League\n",
      "1    1729        1729    England Premier League\n",
      "2    4769        4769            France Ligue 1\n",
      "3    7809        7809     Germany 1. Bundesliga\n",
      "4   10257       10257             Italy Serie A\n",
      "5   13274       13274    Netherlands Eredivisie\n",
      "6   15722       15722        Poland Ekstraklasa\n",
      "7   17642       17642  Portugal Liga ZON Sagres\n",
      "8   19694       19694   Scotland Premier League\n",
      "9   21518       21518           Spain LIGA BBVA\n",
      "10  24558       24558  Switzerland Super League\n"
     ]
    }
   ],
   "source": [
    "print(league.info())\n",
    "print(league)"
   ]
  },
  {
   "cell_type": "markdown",
   "metadata": {},
   "source": [
    "They are all first tier leagues in the 11 countries shown in the country table."
   ]
  },
  {
   "cell_type": "markdown",
   "metadata": {},
   "source": [
    "### <a id='Team'></a>1.3 Team"
   ]
  },
  {
   "cell_type": "markdown",
   "metadata": {},
   "source": [
    "Then team table."
   ]
  },
  {
   "cell_type": "code",
   "execution_count": 6,
   "metadata": {},
   "outputs": [
    {
     "name": "stdout",
     "output_type": "stream",
     "text": [
      "<class 'pandas.core.frame.DataFrame'>\n",
      "RangeIndex: 299 entries, 0 to 298\n",
      "Data columns (total 5 columns):\n",
      "id                  299 non-null int64\n",
      "team_api_id         299 non-null int64\n",
      "team_fifa_api_id    288 non-null float64\n",
      "team_long_name      299 non-null object\n",
      "team_short_name     299 non-null object\n",
      "dtypes: float64(1), int64(2), object(2)\n",
      "memory usage: 11.8+ KB\n",
      "None\n"
     ]
    },
    {
     "data": {
      "text/html": [
       "<div>\n",
       "<style>\n",
       "    .dataframe thead tr:only-child th {\n",
       "        text-align: right;\n",
       "    }\n",
       "\n",
       "    .dataframe thead th {\n",
       "        text-align: left;\n",
       "    }\n",
       "\n",
       "    .dataframe tbody tr th {\n",
       "        vertical-align: top;\n",
       "    }\n",
       "</style>\n",
       "<table border=\"1\" class=\"dataframe\">\n",
       "  <thead>\n",
       "    <tr style=\"text-align: right;\">\n",
       "      <th></th>\n",
       "      <th>id</th>\n",
       "      <th>team_api_id</th>\n",
       "      <th>team_fifa_api_id</th>\n",
       "      <th>team_long_name</th>\n",
       "      <th>team_short_name</th>\n",
       "    </tr>\n",
       "  </thead>\n",
       "  <tbody>\n",
       "    <tr>\n",
       "      <th>0</th>\n",
       "      <td>1</td>\n",
       "      <td>9987</td>\n",
       "      <td>673.0</td>\n",
       "      <td>KRC Genk</td>\n",
       "      <td>GEN</td>\n",
       "    </tr>\n",
       "    <tr>\n",
       "      <th>1</th>\n",
       "      <td>2</td>\n",
       "      <td>9993</td>\n",
       "      <td>675.0</td>\n",
       "      <td>Beerschot AC</td>\n",
       "      <td>BAC</td>\n",
       "    </tr>\n",
       "    <tr>\n",
       "      <th>2</th>\n",
       "      <td>3</td>\n",
       "      <td>10000</td>\n",
       "      <td>15005.0</td>\n",
       "      <td>SV Zulte-Waregem</td>\n",
       "      <td>ZUL</td>\n",
       "    </tr>\n",
       "    <tr>\n",
       "      <th>3</th>\n",
       "      <td>4</td>\n",
       "      <td>9994</td>\n",
       "      <td>2007.0</td>\n",
       "      <td>Sporting Lokeren</td>\n",
       "      <td>LOK</td>\n",
       "    </tr>\n",
       "    <tr>\n",
       "      <th>4</th>\n",
       "      <td>5</td>\n",
       "      <td>9984</td>\n",
       "      <td>1750.0</td>\n",
       "      <td>KSV Cercle Brugge</td>\n",
       "      <td>CEB</td>\n",
       "    </tr>\n",
       "  </tbody>\n",
       "</table>\n",
       "</div>"
      ],
      "text/plain": [
       "   id  team_api_id  team_fifa_api_id     team_long_name team_short_name\n",
       "0   1         9987             673.0           KRC Genk             GEN\n",
       "1   2         9993             675.0       Beerschot AC             BAC\n",
       "2   3        10000           15005.0   SV Zulte-Waregem             ZUL\n",
       "3   4         9994            2007.0   Sporting Lokeren             LOK\n",
       "4   5         9984            1750.0  KSV Cercle Brugge             CEB"
      ]
     },
     "execution_count": 6,
     "metadata": {},
     "output_type": "execute_result"
    }
   ],
   "source": [
    "print(team.info())\n",
    "team.head()"
   ]
  },
  {
   "cell_type": "markdown",
   "metadata": {},
   "source": [
    "There are 299 teams in the team table. Among them, 11 teams don't have fifa_api_id."
   ]
  },
  {
   "cell_type": "code",
   "execution_count": 7,
   "metadata": {},
   "outputs": [
    {
     "name": "stdout",
     "output_type": "stream",
     "text": [
      "id                   0\n",
      "team_api_id          0\n",
      "team_fifa_api_id    11\n",
      "team_long_name       0\n",
      "team_short_name      0\n",
      "dtype: int64\n"
     ]
    }
   ],
   "source": [
    "print(team.isnull().sum())"
   ]
  },
  {
   "cell_type": "markdown",
   "metadata": {},
   "source": [
    "The 11 teams are:"
   ]
  },
  {
   "cell_type": "code",
   "execution_count": 8,
   "metadata": {},
   "outputs": [
    {
     "data": {
      "text/html": [
       "<div>\n",
       "<style>\n",
       "    .dataframe thead tr:only-child th {\n",
       "        text-align: right;\n",
       "    }\n",
       "\n",
       "    .dataframe thead th {\n",
       "        text-align: left;\n",
       "    }\n",
       "\n",
       "    .dataframe tbody tr th {\n",
       "        vertical-align: top;\n",
       "    }\n",
       "</style>\n",
       "<table border=\"1\" class=\"dataframe\">\n",
       "  <thead>\n",
       "    <tr style=\"text-align: right;\">\n",
       "      <th></th>\n",
       "      <th>id</th>\n",
       "      <th>team_api_id</th>\n",
       "      <th>team_fifa_api_id</th>\n",
       "      <th>team_long_name</th>\n",
       "      <th>team_short_name</th>\n",
       "    </tr>\n",
       "  </thead>\n",
       "  <tbody>\n",
       "    <tr>\n",
       "      <th>8</th>\n",
       "      <td>9</td>\n",
       "      <td>7947</td>\n",
       "      <td>NaN</td>\n",
       "      <td>FCV Dender EH</td>\n",
       "      <td>DEN</td>\n",
       "    </tr>\n",
       "    <tr>\n",
       "      <th>14</th>\n",
       "      <td>15</td>\n",
       "      <td>4049</td>\n",
       "      <td>NaN</td>\n",
       "      <td>Tubize</td>\n",
       "      <td>TUB</td>\n",
       "    </tr>\n",
       "    <tr>\n",
       "      <th>170</th>\n",
       "      <td>26561</td>\n",
       "      <td>6601</td>\n",
       "      <td>NaN</td>\n",
       "      <td>FC Volendam</td>\n",
       "      <td>VOL</td>\n",
       "    </tr>\n",
       "    <tr>\n",
       "      <th>204</th>\n",
       "      <td>34816</td>\n",
       "      <td>177361</td>\n",
       "      <td>NaN</td>\n",
       "      <td>Termalica Bruk-Bet Nieciecza</td>\n",
       "      <td>TBN</td>\n",
       "    </tr>\n",
       "    <tr>\n",
       "      <th>208</th>\n",
       "      <td>35286</td>\n",
       "      <td>7992</td>\n",
       "      <td>NaN</td>\n",
       "      <td>Trofense</td>\n",
       "      <td>TRO</td>\n",
       "    </tr>\n",
       "    <tr>\n",
       "      <th>213</th>\n",
       "      <td>35291</td>\n",
       "      <td>10213</td>\n",
       "      <td>NaN</td>\n",
       "      <td>Amadora</td>\n",
       "      <td>AMA</td>\n",
       "    </tr>\n",
       "    <tr>\n",
       "      <th>223</th>\n",
       "      <td>36248</td>\n",
       "      <td>9765</td>\n",
       "      <td>NaN</td>\n",
       "      <td>Portimonense</td>\n",
       "      <td>POR</td>\n",
       "    </tr>\n",
       "    <tr>\n",
       "      <th>225</th>\n",
       "      <td>36723</td>\n",
       "      <td>4064</td>\n",
       "      <td>NaN</td>\n",
       "      <td>Feirense</td>\n",
       "      <td>FEI</td>\n",
       "    </tr>\n",
       "    <tr>\n",
       "      <th>232</th>\n",
       "      <td>38789</td>\n",
       "      <td>6367</td>\n",
       "      <td>NaN</td>\n",
       "      <td>Uniao da Madeira</td>\n",
       "      <td>MAD</td>\n",
       "    </tr>\n",
       "    <tr>\n",
       "      <th>233</th>\n",
       "      <td>38791</td>\n",
       "      <td>188163</td>\n",
       "      <td>NaN</td>\n",
       "      <td>Tondela</td>\n",
       "      <td>TON</td>\n",
       "    </tr>\n",
       "    <tr>\n",
       "      <th>298</th>\n",
       "      <td>51606</td>\n",
       "      <td>7896</td>\n",
       "      <td>NaN</td>\n",
       "      <td>Lugano</td>\n",
       "      <td>LUG</td>\n",
       "    </tr>\n",
       "  </tbody>\n",
       "</table>\n",
       "</div>"
      ],
      "text/plain": [
       "        id  team_api_id  team_fifa_api_id                team_long_name  \\\n",
       "8        9         7947               NaN                 FCV Dender EH   \n",
       "14      15         4049               NaN                        Tubize   \n",
       "170  26561         6601               NaN                   FC Volendam   \n",
       "204  34816       177361               NaN  Termalica Bruk-Bet Nieciecza   \n",
       "208  35286         7992               NaN                      Trofense   \n",
       "213  35291        10213               NaN                       Amadora   \n",
       "223  36248         9765               NaN                  Portimonense   \n",
       "225  36723         4064               NaN                      Feirense   \n",
       "232  38789         6367               NaN              Uniao da Madeira   \n",
       "233  38791       188163               NaN                       Tondela   \n",
       "298  51606         7896               NaN                        Lugano   \n",
       "\n",
       "    team_short_name  \n",
       "8               DEN  \n",
       "14              TUB  \n",
       "170             VOL  \n",
       "204             TBN  \n",
       "208             TRO  \n",
       "213             AMA  \n",
       "223             POR  \n",
       "225             FEI  \n",
       "232             MAD  \n",
       "233             TON  \n",
       "298             LUG  "
      ]
     },
     "execution_count": 8,
     "metadata": {},
     "output_type": "execute_result"
    }
   ],
   "source": [
    "team[team['team_fifa_api_id'].isnull()]"
   ]
  },
  {
   "cell_type": "markdown",
   "metadata": {},
   "source": [
    "#### 1.3.1 team_api_id"
   ]
  },
  {
   "cell_type": "code",
   "execution_count": 9,
   "metadata": {},
   "outputs": [
    {
     "name": "stdout",
     "output_type": "stream",
     "text": [
      "The number of unique team_api_id is 299.\n"
     ]
    }
   ],
   "source": [
    "print('The number of unique team_api_id is {}.'.format(team.team_api_id.unique().shape[0]))"
   ]
  },
  {
   "cell_type": "markdown",
   "metadata": {},
   "source": [
    "So each team has its own team_api_id."
   ]
  },
  {
   "cell_type": "markdown",
   "metadata": {},
   "source": [
    "#### 1.3.2 team_fifa_api_id"
   ]
  },
  {
   "cell_type": "code",
   "execution_count": 10,
   "metadata": {},
   "outputs": [
    {
     "name": "stdout",
     "output_type": "stream",
     "text": [
      "The number of unique team_fifa_api_id is 285.\n"
     ]
    }
   ],
   "source": [
    "print('The number of unique team_fifa_api_id is {}.'.format(team[team.team_fifa_api_id.notnull()].team_fifa_api_id.unique().shape[0]))"
   ]
  },
  {
   "cell_type": "markdown",
   "metadata": {},
   "source": [
    "288 teams have 285 team_fifa_api_id. Some teams share same team_fifa_api_id."
   ]
  },
  {
   "cell_type": "code",
   "execution_count": 11,
   "metadata": {},
   "outputs": [
    {
     "name": "stdout",
     "output_type": "stream",
     "text": [
      "The shared team_fifa_ids are: [    301.  111429.  111560.]\n"
     ]
    },
    {
     "data": {
      "text/html": [
       "<div>\n",
       "<style>\n",
       "    .dataframe thead tr:only-child th {\n",
       "        text-align: right;\n",
       "    }\n",
       "\n",
       "    .dataframe thead th {\n",
       "        text-align: left;\n",
       "    }\n",
       "\n",
       "    .dataframe tbody tr th {\n",
       "        vertical-align: top;\n",
       "    }\n",
       "</style>\n",
       "<table border=\"1\" class=\"dataframe\">\n",
       "  <thead>\n",
       "    <tr style=\"text-align: right;\">\n",
       "      <th></th>\n",
       "      <th>id</th>\n",
       "      <th>team_api_id</th>\n",
       "      <th>team_fifa_api_id</th>\n",
       "      <th>team_long_name</th>\n",
       "      <th>team_short_name</th>\n",
       "    </tr>\n",
       "  </thead>\n",
       "  <tbody>\n",
       "    <tr>\n",
       "      <th>15</th>\n",
       "      <td>16</td>\n",
       "      <td>9996</td>\n",
       "      <td>111560.0</td>\n",
       "      <td>Royal Excel Mouscron</td>\n",
       "      <td>MOU</td>\n",
       "    </tr>\n",
       "    <tr>\n",
       "      <th>24</th>\n",
       "      <td>2510</td>\n",
       "      <td>274581</td>\n",
       "      <td>111560.0</td>\n",
       "      <td>Royal Excel Mouscron</td>\n",
       "      <td>MOP</td>\n",
       "    </tr>\n",
       "    <tr>\n",
       "      <th>182</th>\n",
       "      <td>31444</td>\n",
       "      <td>8031</td>\n",
       "      <td>111429.0</td>\n",
       "      <td>Polonia Bytom</td>\n",
       "      <td>POB</td>\n",
       "    </tr>\n",
       "    <tr>\n",
       "      <th>183</th>\n",
       "      <td>31445</td>\n",
       "      <td>8020</td>\n",
       "      <td>111429.0</td>\n",
       "      <td>Polonia Bytom</td>\n",
       "      <td>GOR</td>\n",
       "    </tr>\n",
       "    <tr>\n",
       "      <th>189</th>\n",
       "      <td>31451</td>\n",
       "      <td>8244</td>\n",
       "      <td>301.0</td>\n",
       "      <td>Widzew Łódź</td>\n",
       "      <td>LOD</td>\n",
       "    </tr>\n",
       "    <tr>\n",
       "      <th>199</th>\n",
       "      <td>32409</td>\n",
       "      <td>8024</td>\n",
       "      <td>301.0</td>\n",
       "      <td>Widzew Łódź</td>\n",
       "      <td>WID</td>\n",
       "    </tr>\n",
       "  </tbody>\n",
       "</table>\n",
       "</div>"
      ],
      "text/plain": [
       "        id  team_api_id  team_fifa_api_id        team_long_name  \\\n",
       "15      16         9996          111560.0  Royal Excel Mouscron   \n",
       "24    2510       274581          111560.0  Royal Excel Mouscron   \n",
       "182  31444         8031          111429.0         Polonia Bytom   \n",
       "183  31445         8020          111429.0         Polonia Bytom   \n",
       "189  31451         8244             301.0           Widzew Łódź   \n",
       "199  32409         8024             301.0           Widzew Łódź   \n",
       "\n",
       "    team_short_name  \n",
       "15              MOU  \n",
       "24              MOP  \n",
       "182             POB  \n",
       "183             GOR  \n",
       "189             LOD  \n",
       "199             WID  "
      ]
     },
     "execution_count": 11,
     "metadata": {},
     "output_type": "execute_result"
    }
   ],
   "source": [
    "counts_fifa_id = team.groupby('team_fifa_api_id',as_index=False).count()\n",
    "shared_fifa_id = counts_fifa_id[counts_fifa_id['id']!=1]['team_fifa_api_id'].values\n",
    "print('The shared team_fifa_ids are: {}'.format(shared_fifa_id))\n",
    "team[team['team_fifa_api_id'].isin(shared_fifa_id)]"
   ]
  },
  {
   "cell_type": "markdown",
   "metadata": {},
   "source": [
    "3 paris of teams share same team_fifa_api_id, with 2 teams in each pair. However, from their team_long_name attribute, the teams in each pair should mean the same team, even somehow they have different team_short_name as well as team_api_id."
   ]
  },
  {
   "cell_type": "markdown",
   "metadata": {},
   "source": [
    "#### 1.3.3 team_long_name and team_short_name"
   ]
  },
  {
   "cell_type": "code",
   "execution_count": 12,
   "metadata": {},
   "outputs": [
    {
     "name": "stdout",
     "output_type": "stream",
     "text": [
      "The number of unique team_long_name is 296.\n",
      "The number of unique team_short_name is 259.\n"
     ]
    }
   ],
   "source": [
    "print('The number of unique team_long_name is {}.'.format(team.team_long_name.unique().shape[0]))\n",
    "print('The number of unique team_short_name is {}.'.format(team.team_short_name.unique().shape[0]))"
   ]
  },
  {
   "cell_type": "markdown",
   "metadata": {},
   "source": [
    "Quite a few teams share same team_short_name.\n",
    "\n",
    "So the summary of team table:\n",
    "    1. 296 teams;\n",
    "    2. 282 teams have their own unique team_fifa_api_id and team_api_id;\n",
    "    3. 11 teams have unique team_api_id, but no team_fifa_api_id;\n",
    "    4. 3 teams have unique team_fifa_api_id, but each team has 2 team_api_ids.\n",
    "    5. Each team has its own unique team_long_name;\n",
    "    6. A few teams share same team_short_name."
   ]
  },
  {
   "cell_type": "markdown",
   "metadata": {},
   "source": [
    "### <a id='Player'></a>1.4 Player\n",
    "Finally player table."
   ]
  },
  {
   "cell_type": "code",
   "execution_count": 13,
   "metadata": {},
   "outputs": [
    {
     "name": "stdout",
     "output_type": "stream",
     "text": [
      "<class 'pandas.core.frame.DataFrame'>\n",
      "RangeIndex: 11060 entries, 0 to 11059\n",
      "Data columns (total 7 columns):\n",
      "id                    11060 non-null int64\n",
      "player_api_id         11060 non-null int64\n",
      "player_name           11060 non-null object\n",
      "player_fifa_api_id    11060 non-null int64\n",
      "birthday              11060 non-null object\n",
      "height                11060 non-null float64\n",
      "weight                11060 non-null int64\n",
      "dtypes: float64(1), int64(4), object(2)\n",
      "memory usage: 604.9+ KB\n",
      "None\n"
     ]
    },
    {
     "data": {
      "text/html": [
       "<div>\n",
       "<style>\n",
       "    .dataframe thead tr:only-child th {\n",
       "        text-align: right;\n",
       "    }\n",
       "\n",
       "    .dataframe thead th {\n",
       "        text-align: left;\n",
       "    }\n",
       "\n",
       "    .dataframe tbody tr th {\n",
       "        vertical-align: top;\n",
       "    }\n",
       "</style>\n",
       "<table border=\"1\" class=\"dataframe\">\n",
       "  <thead>\n",
       "    <tr style=\"text-align: right;\">\n",
       "      <th></th>\n",
       "      <th>id</th>\n",
       "      <th>player_api_id</th>\n",
       "      <th>player_name</th>\n",
       "      <th>player_fifa_api_id</th>\n",
       "      <th>birthday</th>\n",
       "      <th>height</th>\n",
       "      <th>weight</th>\n",
       "    </tr>\n",
       "  </thead>\n",
       "  <tbody>\n",
       "    <tr>\n",
       "      <th>0</th>\n",
       "      <td>1</td>\n",
       "      <td>505942</td>\n",
       "      <td>Aaron Appindangoye</td>\n",
       "      <td>218353</td>\n",
       "      <td>1992-02-29 00:00:00</td>\n",
       "      <td>182.88</td>\n",
       "      <td>187</td>\n",
       "    </tr>\n",
       "    <tr>\n",
       "      <th>1</th>\n",
       "      <td>2</td>\n",
       "      <td>155782</td>\n",
       "      <td>Aaron Cresswell</td>\n",
       "      <td>189615</td>\n",
       "      <td>1989-12-15 00:00:00</td>\n",
       "      <td>170.18</td>\n",
       "      <td>146</td>\n",
       "    </tr>\n",
       "    <tr>\n",
       "      <th>2</th>\n",
       "      <td>3</td>\n",
       "      <td>162549</td>\n",
       "      <td>Aaron Doran</td>\n",
       "      <td>186170</td>\n",
       "      <td>1991-05-13 00:00:00</td>\n",
       "      <td>170.18</td>\n",
       "      <td>163</td>\n",
       "    </tr>\n",
       "    <tr>\n",
       "      <th>3</th>\n",
       "      <td>4</td>\n",
       "      <td>30572</td>\n",
       "      <td>Aaron Galindo</td>\n",
       "      <td>140161</td>\n",
       "      <td>1982-05-08 00:00:00</td>\n",
       "      <td>182.88</td>\n",
       "      <td>198</td>\n",
       "    </tr>\n",
       "    <tr>\n",
       "      <th>4</th>\n",
       "      <td>5</td>\n",
       "      <td>23780</td>\n",
       "      <td>Aaron Hughes</td>\n",
       "      <td>17725</td>\n",
       "      <td>1979-11-08 00:00:00</td>\n",
       "      <td>182.88</td>\n",
       "      <td>154</td>\n",
       "    </tr>\n",
       "  </tbody>\n",
       "</table>\n",
       "</div>"
      ],
      "text/plain": [
       "   id  player_api_id         player_name  player_fifa_api_id  \\\n",
       "0   1         505942  Aaron Appindangoye              218353   \n",
       "1   2         155782     Aaron Cresswell              189615   \n",
       "2   3         162549         Aaron Doran              186170   \n",
       "3   4          30572       Aaron Galindo              140161   \n",
       "4   5          23780        Aaron Hughes               17725   \n",
       "\n",
       "              birthday  height  weight  \n",
       "0  1992-02-29 00:00:00  182.88     187  \n",
       "1  1989-12-15 00:00:00  170.18     146  \n",
       "2  1991-05-13 00:00:00  170.18     163  \n",
       "3  1982-05-08 00:00:00  182.88     198  \n",
       "4  1979-11-08 00:00:00  182.88     154  "
      ]
     },
     "execution_count": 13,
     "metadata": {},
     "output_type": "execute_result"
    }
   ],
   "source": [
    "print(player.info())\n",
    "player.head()"
   ]
  },
  {
   "cell_type": "markdown",
   "metadata": {},
   "source": [
    "#### 1.4.1 Player IDs"
   ]
  },
  {
   "cell_type": "code",
   "execution_count": 14,
   "metadata": {},
   "outputs": [
    {
     "name": "stdout",
     "output_type": "stream",
     "text": [
      "The number of unique player_api_id is 11060.\n",
      "The number of unique player_fifa_api_id is 11060.\n"
     ]
    }
   ],
   "source": [
    "print('The number of unique player_api_id is {}.'.format(player.player_api_id.unique().shape[0]))\n",
    "print('The number of unique player_fifa_api_id is {}.'.format(player.player_fifa_api_id.unique().shape[0]))"
   ]
  },
  {
   "cell_type": "markdown",
   "metadata": {},
   "source": [
    "There are 11060 players in the player table. Each player has his own player_api_id and player_fifa_api_id."
   ]
  },
  {
   "cell_type": "markdown",
   "metadata": {},
   "source": [
    "#### 1.4.2 Player Name"
   ]
  },
  {
   "cell_type": "code",
   "execution_count": 15,
   "metadata": {},
   "outputs": [
    {
     "name": "stdout",
     "output_type": "stream",
     "text": [
      "The number of unique player_name is 10848.\n"
     ]
    }
   ],
   "source": [
    "print('The number of unique player_name is {}.'.format(player.player_name.unique().shape[0]))"
   ]
  },
  {
   "cell_type": "markdown",
   "metadata": {},
   "source": [
    "Some players have same names."
   ]
  },
  {
   "cell_type": "code",
   "execution_count": 22,
   "metadata": {},
   "outputs": [
    {
     "data": {
      "image/png": "[encoded data removed]",
      "text/plain": [
       "<matplotlib.figure.Figure at 0x18f757d9588>"
      ]
     },
     "metadata": {},
     "output_type": "display_data"
    }
   ],
   "source": [
    "# Top counts number\n",
    "top_num = 10\n",
    "\n",
    "# get top counts name table\n",
    "top_counts_name = player.groupby('player_name',as_index=False).count().sort_values('player_api_id',ascending=False).head(top_num)\n",
    "\n",
    "# Make a barhplot\n",
    "fig, ax = plt.subplots()\n",
    "\n",
    "ax.barh(np.arange(top_num), top_counts_name['player_api_id'].values, align = 'center')\n",
    "\n",
    "# Set x&y label, ticklabel and their size\n",
    "ax.set_yticks(np.arange(top_num))\n",
    "ax.set_yticklabels(top_counts_name['player_name'].values, fontsize='large')\n",
    "ax.invert_yaxis()\n",
    "ax.set_xticklabels(ax.get_xticks(), fontsize='large')\n",
    "ax.set_xlabel('Counts', fontsize='large')\n",
    "ax.set_title('Top {} Popular Names'.format(top_num), fontsize='large')\n",
    "\n",
    "plt.tight_layout()"
   ]
  },
  {
   "cell_type": "markdown",
   "metadata": {},
   "source": [
    "#### 1.4.3 player birthday\n",
    "10 players were born on 1989/3/2."
   ]
  },
  {
   "cell_type": "code",
   "execution_count": 23,
   "metadata": {},
   "outputs": [
    {
     "data": {
      "image/png": "[encoded data removed]",
      "text/plain": [
       "<matplotlib.figure.Figure at 0x18f76d53b00>"
      ]
     },
     "metadata": {},
     "output_type": "display_data"
    }
   ],
   "source": [
    "# Top counts number\n",
    "top_num = 10\n",
    "\n",
    "# get top counts name table\n",
    "top_counts_birthday = player.groupby('birthday',as_index=False).count().sort_values('player_api_id',ascending=False).head(top_num)\n",
    "\n",
    "# Make a barhplot\n",
    "fig, ax = plt.subplots()\n",
    "\n",
    "ax.barh(np.arange(top_num), top_counts_birthday['player_api_id'].values, align = 'center')\n",
    "\n",
    "# Set x&y label, ticklabel and their size\n",
    "ax.set_yticks(np.arange(top_num))\n",
    "ax.set_yticklabels(top_counts_birthday['birthday'].values, fontsize='large')\n",
    "ax.invert_yaxis()\n",
    "ax.set_xticklabels(ax.get_xticks(), fontsize='large')\n",
    "ax.set_xlabel('Counts', fontsize='large')\n",
    "ax.set_title('Top {} Popular Birthdays'.format(top_num), fontsize='large')\n",
    "\n",
    "plt.tight_layout()"
   ]
  },
  {
   "cell_type": "code",
   "execution_count": 24,
   "metadata": {},
   "outputs": [
    {
     "data": {
      "image/png": "[encoded data removed]",
      "text/plain": [
       "<matplotlib.figure.Figure at 0x18f756d1dd8>"
      ]
     },
     "metadata": {},
     "output_type": "display_data"
    }
   ],
   "source": [
    "player['birthday'] = pd.to_datetime(player['birthday'], yearfirst=True)\n",
    "player['month'] = [i.month for i in player['birthday']]\n",
    "\n",
    "month_name = ['Jan', 'Feb', 'Mar', 'Apr', 'May', 'Jun', 'Jul', 'Aug', 'Sep', 'Oct', 'Nov', 'Dec']\n",
    "\n",
    "month_gby = player.groupby(by='month', as_index=False).count()\n",
    "\n",
    "# Make a barhplot\n",
    "fig, ax = plt.subplots()\n",
    "\n",
    "ax.barh(month_gby['month'], month_gby['birthday'], align = 'center')\n",
    "\n",
    "# Set x&y label, ticklabel and their size\n",
    "ax.set_yticks(month_gby['month'])\n",
    "ax.set_yticklabels(month_name, fontsize='large')\n",
    "ax.invert_yaxis()\n",
    "ax.set_xticklabels(ax.get_xticks(), fontsize='large')\n",
    "ax.set_xlabel('Counts', fontsize='large')\n",
    "ax.set_title('European Football Players Born in Each Month of the Year'.format(top_num), fontsize='large')\n",
    "\n",
    "plt.tight_layout()"
   ]
  },
  {
   "cell_type": "markdown",
   "metadata": {},
   "source": [
    "This result confirms relative age effect (RAE), or month of birth bias(https://en.wikipedia.org/wiki/Relative_age_effect). The bias is based on specific cut-off dates to establish eligibility for inclusion, and it is used to describe participation is higher amongst those born early in the relevant selection period.\n",
    "\n",
    "The most commonly used cut-off date for youth international sporting competition is 1 January, which is the case for FIFA and the 6 international football confederations (AFC, CAF, CONCACAF, CONMEBOL, OFC and UEFA). This results players born in Januray to have an advantage to be professional football players.\n",
    "\n",
    "By contrast, in English football, children are placed into year groups based on whether they are born before or on 1 September. So this results a different performance of bias, according to [The Science of Soccer](https://www.amazon.com/Science-Soccer-John-Wesson/dp/0750308133)."
   ]
  },
  {
   "cell_type": "markdown",
   "metadata": {},
   "source": [
    "#### 1.4.4 player height\n",
    "Player height follows Normal Distribution."
   ]
  },
  {
   "cell_type": "code",
   "execution_count": 25,
   "metadata": {},
   "outputs": [
    {
     "name": "stdout",
     "output_type": "stream",
     "text": [
      "Average player height is 181.9 cm.\n",
      "The shortest player is Juan Quero. His height is 157.5 cm.\n",
      "The tallest player is Kristof van Hout. His height is 208.3 cm.\n"
     ]
    },
    {
     "data": {
      "image/png": "[encoded data removed]",
      "text/plain": [
       "<matplotlib.figure.Figure at 0x18f76ee8518>"
      ]
     },
     "metadata": {},
     "output_type": "display_data"
    }
   ],
   "source": [
    "sns.distplot(player['height'],bins=20,kde=True,\n",
    "            kde_kws={\"bw\": 4, \"label\": \"KDE\"})\n",
    "plt.axvline(player['height'].mean(), 0, 1, color='r', label='Average Height')\n",
    "plt.xlabel('Player Height Distribution (cm)')\n",
    "plt.legend()\n",
    "\n",
    "print('Average player height is {:.1f} cm.'.format(player['height'].mean()))\n",
    "print('The shortest player is {}. His height is {:.1f} cm.'.format(player[player.height==np.min(player.height)].player_name.values[0],\n",
    "                                                               np.min(player.height)))\n",
    "print('The tallest player is {}. His height is {:.1f} cm.'.format(player[player.height==np.max(player.height)].player_name.values[0],\n",
    "                                                              np.max(player.height)))"
   ]
  },
  {
   "cell_type": "markdown",
   "metadata": {},
   "source": [
    "#### 1.4.5 player weight\n",
    "\n",
    "Player weight also follows Normal Distribution."
   ]
  },
  {
   "cell_type": "code",
   "execution_count": 26,
   "metadata": {},
   "outputs": [
    {
     "name": "stdout",
     "output_type": "stream",
     "text": [
      "Average player weight is 168.4 lb (76.4 kg).\n",
      "The lightest player is Juan Quero. His weight is 117.0 lb (53.1 kg).\n",
      "The heaviest player is Kristof van Hout. His weight is 243.0 lb (110.2 kg).\n"
     ]
    },
    {
     "data": {
      "image/png": "[encoded data removed]",
      "text/plain": [
       "<matplotlib.figure.Figure at 0x18f76e158d0>"
      ]
     },
     "metadata": {},
     "output_type": "display_data"
    }
   ],
   "source": [
    "sns.distplot(player['weight'],bins=20,\n",
    "            kde_kws={\"bw\": 4, \"label\": \"KDE\"})\n",
    "plt.axvline(player['weight'].mean(), 0, 1, color='r', label='Average Weight')\n",
    "plt.xlabel('Player Weight Distribution (lbs)')\n",
    "plt.legend()\n",
    "\n",
    "print('Average player weight is {:.1f} lb ({:.1f} kg).'.format(player['weight'].mean(), player['weight'].mean()*0.4536))\n",
    "print('The lightest player is {}. His weight is {:.1f} lb ({:.1f} kg).'.format(player[player.weight==np.min(player.weight)].player_name.values[0],\n",
    "                                                                   np.min(player.weight), np.min(player.weight)*0.4536))\n",
    "print('The heaviest player is {}. His weight is {:.1f} lb ({:.1f} kg).'.format(player[player.weight==np.max(player.weight)].player_name.values[0],\n",
    "                                                              np.max(player.weight), np.max(player.weight)*0.4536))"
   ]
  }
 ],
 "metadata": {
  "anaconda-cloud": {},
  "kernelspec": {
   "display_name": "Python 3",
   "language": "python",
   "name": "python3"
  },
  "language_info": {
   "codemirror_mode": {
    "name": "ipython",
    "version": 3
   },
   "file_extension": ".py",
   "mimetype": "text/x-python",
   "name": "python",
   "nbconvert_exporter": "python",
   "pygments_lexer": "ipython3",
   "version": "3.5.2"
  }
 },
 "nbformat": 4,
 "nbformat_minor": 1
}
