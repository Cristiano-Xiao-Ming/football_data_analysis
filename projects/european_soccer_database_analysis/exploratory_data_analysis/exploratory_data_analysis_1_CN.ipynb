{
 "cells": [
  {
   "cell_type": "markdown",
   "metadata": {},
   "source": [
    "### 写在前面：大数据能否改变足球比赛？\n",
    "#### 作者：带球小弟\n",
    "不管你喜不喜欢，足球比赛转播中都会播报比赛双方的各项数据统计，包括控球率、射门次数、角球次数、传球次数、越位次数等等。事实上，足球比赛已经全方位地拥抱了数据。教练会用数据分析软件来准备比赛，球迷会用比赛数据统计来探讨比赛，球探会用球员数据系统来挖掘球员。抛开一切，对于足球比赛本身大家最关心的也就是比分，进球数和球队积分，这些通通都是数据，只是现在的数据类型更加丰富和复杂了。\n",
    "\n",
    "在这一大数据和人工智能时代，数据的重要性已经被广泛接受。事实上，数据已经被用来改变体育比赛了。最著名的案例发生在棒球，最后还被拍成了电影《点球成金》。很多人相信同样的事情也会发生在足球，这其中就包括了本人。\n",
    "\n",
    "然而，面对数据，也有很多人感到的不是希望，而是焦虑。我很难去说这样的人一定是保守的。原因有以下两点。\n",
    "\n",
    "首先，数据本身往往太过复杂而令人难以理解。任何想要通过直接阅读数据来理解数据的尝试都很困难。\n",
    "\n",
    "其次，想要从数据中得到结论也没有想象中那么简单。这里要对数据分析泼盆冷水，降低一下你对数据分析的期待：数据分析并不一定能给出令人满意的答案，即使有大数据也不行。事实上，大数据在某种程度上来说并没有使得分析变得更加简单，反而是增加了困难。原因在于，很多情况下大数据带来的不是更多的信息，而是更多的“噪音”。如果没有合适的工具和方法论，要想从“噪音”中提取有效信息其实更加困难。\n",
    "\n",
    "要化解上述困难，需要我们能够正确地对待数据和数据分析。对待数据，我们需要去把握的不是数据，而是数据背后的规律。这样的态度有助于我们不会在纷繁的数据中迷失。对待数据分析，我们需要事实求是。确保使用恰当的数据分析工具，正确理解数据分析的结论，并用实践去检验结论。本人在对数据分析过程进行说明的同时，也会对如何正确使用数据分析的方法论进行讨论。这样的讨论普遍适用，而非只限于足球数据。\n",
    "\n",
    "最后，我希望数据分析能够在未来帮助到中国足球。本人相信，中国足球现在还很落后，但是马上就会有很大的进步。这样的进步还用不到数据和数据分析。等到中国足球发展到一定程度想要利用数据更进一步的时候，希望现在的讨论能够对中国足球有所帮助。"
   ]
  },
  {
   "cell_type": "markdown",
   "metadata": {},
   "source": [
    "## 第一部分：初步了解欧洲足球数据库\n",
    "\n",
    "这一部分旨在对这一数据库有一个整体了解，对数据分析有一个初步认知。"
   ]
  },
  {
   "cell_type": "markdown",
   "metadata": {},
   "source": [
    "### 技术说明\n",
    "\n",
    "理论工具：最主要的数学理论是概率论和数理统计，以及由此发展出来的机器学习算法，包括现在很热门的深度学习（或者叫做神经网络）。\n",
    "\n",
    "编程工具：python。\n",
    "\n",
    "数据来源：[欧洲足球数据库](https://www.kaggle.com/hugomathien/soccer)。这是本人所能找到可以直接拿来使用的最全的足球数据。之后我还会介绍如何从足球数据网站爬数据，尽请期待。\n",
    "\n",
    "语言能力：虽然所有的数据分析均用中文叙述，但是因为数据库本身是英文的（这也是现在中文数据库很薄弱的地方），所以一定的英文基础是需要的。"
   ]
  },
  {
   "cell_type": "markdown",
   "metadata": {},
   "source": [
    "### 主要发现\n",
    "\n",
    "* 在足球运动员中出现了所谓的“球员出生月份偏见”。一月份出生的球员最多，十二月份出生的球员最少。\n",
    "* 欧洲职业足球联赛的球员平均身高达到了181.9cm，平均体重为76.4kg。身材最瘦小的球员身高157.5 cm，体重53.1kg。身材最魁梧的球员身高达到了208.3 cm，体重110.2 kg。\n",
    "* 名字叫达尼诺的球员最多，其次是保利尼奥。\n",
    "      \n",
    "### 报告内容\n",
    "#### 1. [国家](#Country)\n",
    "#### 2. [联赛](#League)\n",
    "#### 3. [球队](#Team)\n",
    "#### 4. [球员](#Player)"
   ]
  },
  {
   "cell_type": "markdown",
   "metadata": {},
   "source": [
    "### 数据分析过程"
   ]
  },
  {
   "cell_type": "markdown",
   "metadata": {},
   "source": [
    "首先，我们导入数据分析所需要的模块。"
   ]
  },
  {
   "cell_type": "code",
   "execution_count": 2,
   "metadata": {},
   "outputs": [
    {
     "name": "stdout",
     "output_type": "stream",
     "text": [
      "All general modules are imported.\n"
     ]
    }
   ],
   "source": [
    "%matplotlib inline\n",
    "import numpy as np\n",
    "import matplotlib.pyplot as plt\n",
    "import pandas as pd\n",
    "import seaborn as sns\n",
    "import sqlite3\n",
    "from scipy.stats import norm\n",
    "import pickle\n",
    "from tqdm import tqdm\n",
    "import os\n",
    "\n",
    "sns.set_style('whitegrid')\n",
    "sns.set_context('poster')\n",
    "\n",
    "print('All general modules are imported.')"
   ]
  },
  {
   "cell_type": "markdown",
   "metadata": {},
   "source": [
    "根据实际情况修改数据库文件路径，然后连接数据库。"
   ]
  },
  {
   "cell_type": "code",
   "execution_count": 3,
   "metadata": {
    "scrolled": true
   },
   "outputs": [
    {
     "name": "stdout",
     "output_type": "stream",
     "text": [
      "Connection to the database is established.\n",
      "\n",
      "Following Tables are found in the database:\n",
      "sqlite_sequence\n",
      "Player_Attributes\n",
      "Player\n",
      "Match\n",
      "League\n",
      "Country\n",
      "Team\n",
      "Team_Attributes\n"
     ]
    }
   ],
   "source": [
    "# 与数据库建立连接\n",
    "\n",
    "# 数据库文件名称\n",
    "db_filename = 'database.sqlite'\n",
    "\n",
    "# 根据实际情况修改以下数据库文件路径\n",
    "db_filedir = os.path.join(os.path.pardir, os.path.pardir, os.path.pardir, 'data_source', 'kaggle', db_filename)\n",
    "\n",
    "try:\n",
    "    con=sqlite3.connect(db_filedir)\n",
    "    print('Connection to the database is established.\\n')\n",
    "except Exception as e:\n",
    "    print('Unable to establish the connection.')\n",
    "\n",
    "cursor=con.execute(\"select name from sqlite_master where type='table'\")\n",
    "print('Following Tables are found in the database:')\n",
    "for i in cursor.fetchall():\n",
    "    print('{}'.format(i[0]))"
   ]
  },
  {
   "cell_type": "markdown",
   "metadata": {},
   "source": [
    "可以看到，这一数据库中包含了以下数据表：球员属性、球员、比赛、联赛、国家、球队和球队属性。对于球员属性和球队属性的评分来自于EA游戏，由于这样的数据不够客观，所以这里就不做分析了。\n",
    "\n",
    "下面的分析只限于：球员、比赛、联赛、国家和球队。因为比赛是分析的最主要部分，所以单独作为一个部分。这一次会对所有剩下的数据表做一个梳理和初步分析。"
   ]
  },
  {
   "cell_type": "code",
   "execution_count": 4,
   "metadata": {},
   "outputs": [
    {
     "name": "stdout",
     "output_type": "stream",
     "text": [
      "Successfully load player table from the database.\n",
      "Successfully load league table from the database.\n",
      "Successfully load country table from the database.\n",
      "Successfully load team table from the database.\n"
     ]
    }
   ],
   "source": [
    "# 读取球员数据表格\n",
    "try:\n",
    "    player = pd.read_sql_query('select * from Player',con)\n",
    "    print('Successfully load player table from the database.')\n",
    "except Exception as e:\n",
    "    print('Unable to load player table from the database.')\n",
    "    \n",
    "# 读取联赛数据表格\n",
    "try:\n",
    "    league=pd.read_sql_query('select * from League',con)\n",
    "    print('Successfully load league table from the database.')\n",
    "except Exception as e:\n",
    "    print('Unable to load league table from the database.')\n",
    "\n",
    "# 读取国家数据表格\n",
    "try:\n",
    "    country=pd.read_sql_query('select * from Country',con)\n",
    "    print('Successfully load country table from the database.')\n",
    "except Exception as e:\n",
    "    print('Unable to load country table from the database.')\n",
    "\n",
    "# 读取球队数据表格\n",
    "try:\n",
    "    team=pd.read_sql_query('select * from Team', con)\n",
    "    print('Successfully load team table from the database.')\n",
    "except Exception as e:\n",
    "    print('Unable to load team table from the database.')"
   ]
  },
  {
   "cell_type": "markdown",
   "metadata": {},
   "source": [
    "#### <a id='Country'></a>1. 国家"
   ]
  },
  {
   "cell_type": "markdown",
   "metadata": {},
   "source": [
    "下面我们来看看国家这个数据表里有什么内容。"
   ]
  },
  {
   "cell_type": "code",
   "execution_count": 5,
   "metadata": {},
   "outputs": [
    {
     "name": "stdout",
     "output_type": "stream",
     "text": [
      "<class 'pandas.core.frame.DataFrame'>\n",
      "RangeIndex: 11 entries, 0 to 10\n",
      "Data columns (total 2 columns):\n",
      "id      11 non-null int64\n",
      "name    11 non-null object\n",
      "dtypes: int64(1), object(1)\n",
      "memory usage: 256.0+ bytes\n",
      "None\n"
     ]
    },
    {
     "data": {
      "text/html": [
       "<div>\n",
       "<style scoped>\n",
       "    .dataframe tbody tr th:only-of-type {\n",
       "        vertical-align: middle;\n",
       "    }\n",
       "\n",
       "    .dataframe tbody tr th {\n",
       "        vertical-align: top;\n",
       "    }\n",
       "\n",
       "    .dataframe thead th {\n",
       "        text-align: right;\n",
       "    }\n",
       "</style>\n",
       "<table border=\"1\" class=\"dataframe\">\n",
       "  <thead>\n",
       "    <tr style=\"text-align: right;\">\n",
       "      <th></th>\n",
       "      <th>id</th>\n",
       "      <th>name</th>\n",
       "    </tr>\n",
       "  </thead>\n",
       "  <tbody>\n",
       "    <tr>\n",
       "      <th>0</th>\n",
       "      <td>1</td>\n",
       "      <td>Belgium</td>\n",
       "    </tr>\n",
       "    <tr>\n",
       "      <th>1</th>\n",
       "      <td>1729</td>\n",
       "      <td>England</td>\n",
       "    </tr>\n",
       "    <tr>\n",
       "      <th>2</th>\n",
       "      <td>4769</td>\n",
       "      <td>France</td>\n",
       "    </tr>\n",
       "    <tr>\n",
       "      <th>3</th>\n",
       "      <td>7809</td>\n",
       "      <td>Germany</td>\n",
       "    </tr>\n",
       "    <tr>\n",
       "      <th>4</th>\n",
       "      <td>10257</td>\n",
       "      <td>Italy</td>\n",
       "    </tr>\n",
       "    <tr>\n",
       "      <th>5</th>\n",
       "      <td>13274</td>\n",
       "      <td>Netherlands</td>\n",
       "    </tr>\n",
       "    <tr>\n",
       "      <th>6</th>\n",
       "      <td>15722</td>\n",
       "      <td>Poland</td>\n",
       "    </tr>\n",
       "    <tr>\n",
       "      <th>7</th>\n",
       "      <td>17642</td>\n",
       "      <td>Portugal</td>\n",
       "    </tr>\n",
       "    <tr>\n",
       "      <th>8</th>\n",
       "      <td>19694</td>\n",
       "      <td>Scotland</td>\n",
       "    </tr>\n",
       "    <tr>\n",
       "      <th>9</th>\n",
       "      <td>21518</td>\n",
       "      <td>Spain</td>\n",
       "    </tr>\n",
       "    <tr>\n",
       "      <th>10</th>\n",
       "      <td>24558</td>\n",
       "      <td>Switzerland</td>\n",
       "    </tr>\n",
       "  </tbody>\n",
       "</table>\n",
       "</div>"
      ],
      "text/plain": [
       "       id         name\n",
       "0       1      Belgium\n",
       "1    1729      England\n",
       "2    4769       France\n",
       "3    7809      Germany\n",
       "4   10257        Italy\n",
       "5   13274  Netherlands\n",
       "6   15722       Poland\n",
       "7   17642     Portugal\n",
       "8   19694     Scotland\n",
       "9   21518        Spain\n",
       "10  24558  Switzerland"
      ]
     },
     "execution_count": 5,
     "metadata": {},
     "output_type": "execute_result"
    }
   ],
   "source": [
    "print(country.info())\n",
    "country"
   ]
  },
  {
   "cell_type": "markdown",
   "metadata": {},
   "source": [
    "阅读数据表的方法为：首先阅读表的表头，看看每一列代表什么含义。其次看一下数据表的大小是是多少，有多少行和多少列。最后再节选开头几个具体的数据进行查看。因为国家这个数据表很小，所以我们可以不用节选而进行完整地阅读。\n",
    "\n",
    "我们可以看到这一数据表中包括了十一个国家（地区）以及其对应的国家ID。这十一个国家是：比利时、英格兰、法国、德国、意大利、荷兰、波兰、葡萄牙、苏格兰、西班牙和瑞士。"
   ]
  },
  {
   "cell_type": "markdown",
   "metadata": {},
   "source": [
    "#### <a id='League'></a>2. 联赛"
   ]
  },
  {
   "cell_type": "markdown",
   "metadata": {},
   "source": [
    "下面看一下联赛数据表中有什么内容。联赛数据表中有联赛名称，对应的联赛ID和国家ID。可以看到，这十一个联赛都是该国的顶级联赛。"
   ]
  },
  {
   "cell_type": "code",
   "execution_count": 6,
   "metadata": {},
   "outputs": [
    {
     "name": "stdout",
     "output_type": "stream",
     "text": [
      "<class 'pandas.core.frame.DataFrame'>\n",
      "RangeIndex: 11 entries, 0 to 10\n",
      "Data columns (total 3 columns):\n",
      "id            11 non-null int64\n",
      "country_id    11 non-null int64\n",
      "name          11 non-null object\n",
      "dtypes: int64(2), object(1)\n",
      "memory usage: 344.0+ bytes\n",
      "None\n"
     ]
    },
    {
     "data": {
      "text/html": [
       "<div>\n",
       "<style scoped>\n",
       "    .dataframe tbody tr th:only-of-type {\n",
       "        vertical-align: middle;\n",
       "    }\n",
       "\n",
       "    .dataframe tbody tr th {\n",
       "        vertical-align: top;\n",
       "    }\n",
       "\n",
       "    .dataframe thead th {\n",
       "        text-align: right;\n",
       "    }\n",
       "</style>\n",
       "<table border=\"1\" class=\"dataframe\">\n",
       "  <thead>\n",
       "    <tr style=\"text-align: right;\">\n",
       "      <th></th>\n",
       "      <th>id</th>\n",
       "      <th>country_id</th>\n",
       "      <th>name</th>\n",
       "    </tr>\n",
       "  </thead>\n",
       "  <tbody>\n",
       "    <tr>\n",
       "      <th>0</th>\n",
       "      <td>1</td>\n",
       "      <td>1</td>\n",
       "      <td>Belgium Jupiler League</td>\n",
       "    </tr>\n",
       "    <tr>\n",
       "      <th>1</th>\n",
       "      <td>1729</td>\n",
       "      <td>1729</td>\n",
       "      <td>England Premier League</td>\n",
       "    </tr>\n",
       "    <tr>\n",
       "      <th>2</th>\n",
       "      <td>4769</td>\n",
       "      <td>4769</td>\n",
       "      <td>France Ligue 1</td>\n",
       "    </tr>\n",
       "    <tr>\n",
       "      <th>3</th>\n",
       "      <td>7809</td>\n",
       "      <td>7809</td>\n",
       "      <td>Germany 1. Bundesliga</td>\n",
       "    </tr>\n",
       "    <tr>\n",
       "      <th>4</th>\n",
       "      <td>10257</td>\n",
       "      <td>10257</td>\n",
       "      <td>Italy Serie A</td>\n",
       "    </tr>\n",
       "    <tr>\n",
       "      <th>5</th>\n",
       "      <td>13274</td>\n",
       "      <td>13274</td>\n",
       "      <td>Netherlands Eredivisie</td>\n",
       "    </tr>\n",
       "    <tr>\n",
       "      <th>6</th>\n",
       "      <td>15722</td>\n",
       "      <td>15722</td>\n",
       "      <td>Poland Ekstraklasa</td>\n",
       "    </tr>\n",
       "    <tr>\n",
       "      <th>7</th>\n",
       "      <td>17642</td>\n",
       "      <td>17642</td>\n",
       "      <td>Portugal Liga ZON Sagres</td>\n",
       "    </tr>\n",
       "    <tr>\n",
       "      <th>8</th>\n",
       "      <td>19694</td>\n",
       "      <td>19694</td>\n",
       "      <td>Scotland Premier League</td>\n",
       "    </tr>\n",
       "    <tr>\n",
       "      <th>9</th>\n",
       "      <td>21518</td>\n",
       "      <td>21518</td>\n",
       "      <td>Spain LIGA BBVA</td>\n",
       "    </tr>\n",
       "    <tr>\n",
       "      <th>10</th>\n",
       "      <td>24558</td>\n",
       "      <td>24558</td>\n",
       "      <td>Switzerland Super League</td>\n",
       "    </tr>\n",
       "  </tbody>\n",
       "</table>\n",
       "</div>"
      ],
      "text/plain": [
       "       id  country_id                      name\n",
       "0       1           1    Belgium Jupiler League\n",
       "1    1729        1729    England Premier League\n",
       "2    4769        4769            France Ligue 1\n",
       "3    7809        7809     Germany 1. Bundesliga\n",
       "4   10257       10257             Italy Serie A\n",
       "5   13274       13274    Netherlands Eredivisie\n",
       "6   15722       15722        Poland Ekstraklasa\n",
       "7   17642       17642  Portugal Liga ZON Sagres\n",
       "8   19694       19694   Scotland Premier League\n",
       "9   21518       21518           Spain LIGA BBVA\n",
       "10  24558       24558  Switzerland Super League"
      ]
     },
     "execution_count": 6,
     "metadata": {},
     "output_type": "execute_result"
    }
   ],
   "source": [
    "print(league.info())\n",
    "league"
   ]
  },
  {
   "cell_type": "markdown",
   "metadata": {},
   "source": [
    "#### <a id='Team'></a>3. 球队"
   ]
  },
  {
   "cell_type": "markdown",
   "metadata": {},
   "source": [
    "下面是球队数字表。"
   ]
  },
  {
   "cell_type": "code",
   "execution_count": 7,
   "metadata": {},
   "outputs": [
    {
     "name": "stdout",
     "output_type": "stream",
     "text": [
      "<class 'pandas.core.frame.DataFrame'>\n",
      "RangeIndex: 299 entries, 0 to 298\n",
      "Data columns (total 5 columns):\n",
      "id                  299 non-null int64\n",
      "team_api_id         299 non-null int64\n",
      "team_fifa_api_id    288 non-null float64\n",
      "team_long_name      299 non-null object\n",
      "team_short_name     299 non-null object\n",
      "dtypes: float64(1), int64(2), object(2)\n",
      "memory usage: 11.8+ KB\n",
      "None\n"
     ]
    },
    {
     "data": {
      "text/html": [
       "<div>\n",
       "<style scoped>\n",
       "    .dataframe tbody tr th:only-of-type {\n",
       "        vertical-align: middle;\n",
       "    }\n",
       "\n",
       "    .dataframe tbody tr th {\n",
       "        vertical-align: top;\n",
       "    }\n",
       "\n",
       "    .dataframe thead th {\n",
       "        text-align: right;\n",
       "    }\n",
       "</style>\n",
       "<table border=\"1\" class=\"dataframe\">\n",
       "  <thead>\n",
       "    <tr style=\"text-align: right;\">\n",
       "      <th></th>\n",
       "      <th>id</th>\n",
       "      <th>team_api_id</th>\n",
       "      <th>team_fifa_api_id</th>\n",
       "      <th>team_long_name</th>\n",
       "      <th>team_short_name</th>\n",
       "    </tr>\n",
       "  </thead>\n",
       "  <tbody>\n",
       "    <tr>\n",
       "      <th>0</th>\n",
       "      <td>1</td>\n",
       "      <td>9987</td>\n",
       "      <td>673.0</td>\n",
       "      <td>KRC Genk</td>\n",
       "      <td>GEN</td>\n",
       "    </tr>\n",
       "    <tr>\n",
       "      <th>1</th>\n",
       "      <td>2</td>\n",
       "      <td>9993</td>\n",
       "      <td>675.0</td>\n",
       "      <td>Beerschot AC</td>\n",
       "      <td>BAC</td>\n",
       "    </tr>\n",
       "    <tr>\n",
       "      <th>2</th>\n",
       "      <td>3</td>\n",
       "      <td>10000</td>\n",
       "      <td>15005.0</td>\n",
       "      <td>SV Zulte-Waregem</td>\n",
       "      <td>ZUL</td>\n",
       "    </tr>\n",
       "    <tr>\n",
       "      <th>3</th>\n",
       "      <td>4</td>\n",
       "      <td>9994</td>\n",
       "      <td>2007.0</td>\n",
       "      <td>Sporting Lokeren</td>\n",
       "      <td>LOK</td>\n",
       "    </tr>\n",
       "    <tr>\n",
       "      <th>4</th>\n",
       "      <td>5</td>\n",
       "      <td>9984</td>\n",
       "      <td>1750.0</td>\n",
       "      <td>KSV Cercle Brugge</td>\n",
       "      <td>CEB</td>\n",
       "    </tr>\n",
       "  </tbody>\n",
       "</table>\n",
       "</div>"
      ],
      "text/plain": [
       "   id  team_api_id  team_fifa_api_id     team_long_name team_short_name\n",
       "0   1         9987             673.0           KRC Genk             GEN\n",
       "1   2         9993             675.0       Beerschot AC             BAC\n",
       "2   3        10000           15005.0   SV Zulte-Waregem             ZUL\n",
       "3   4         9994            2007.0   Sporting Lokeren             LOK\n",
       "4   5         9984            1750.0  KSV Cercle Brugge             CEB"
      ]
     },
     "execution_count": 7,
     "metadata": {},
     "output_type": "execute_result"
    }
   ],
   "source": [
    "print(team.info())\n",
    "team.head()"
   ]
  },
  {
   "cell_type": "markdown",
   "metadata": {},
   "source": [
    "球队数字表中有球队的全称、简称、球队的team_api_id和team_fifa_api_id。"
   ]
  },
  {
   "cell_type": "code",
   "execution_count": 8,
   "metadata": {},
   "outputs": [
    {
     "name": "stdout",
     "output_type": "stream",
     "text": [
      "id                   0\n",
      "team_api_id          0\n",
      "team_fifa_api_id    11\n",
      "team_long_name       0\n",
      "team_short_name      0\n",
      "dtype: int64\n"
     ]
    }
   ],
   "source": [
    "print(team.isnull().sum())"
   ]
  },
  {
   "cell_type": "markdown",
   "metadata": {},
   "source": [
    "表中一共有299只球队，其中有288只球队有team_fifa_api_id，这就意味着剩下11只球队没有team_fifa_api_id。\n",
    "\n",
    "这十一支球队是："
   ]
  },
  {
   "cell_type": "code",
   "execution_count": 9,
   "metadata": {},
   "outputs": [
    {
     "data": {
      "text/html": [
       "<div>\n",
       "<style scoped>\n",
       "    .dataframe tbody tr th:only-of-type {\n",
       "        vertical-align: middle;\n",
       "    }\n",
       "\n",
       "    .dataframe tbody tr th {\n",
       "        vertical-align: top;\n",
       "    }\n",
       "\n",
       "    .dataframe thead th {\n",
       "        text-align: right;\n",
       "    }\n",
       "</style>\n",
       "<table border=\"1\" class=\"dataframe\">\n",
       "  <thead>\n",
       "    <tr style=\"text-align: right;\">\n",
       "      <th></th>\n",
       "      <th>id</th>\n",
       "      <th>team_api_id</th>\n",
       "      <th>team_fifa_api_id</th>\n",
       "      <th>team_long_name</th>\n",
       "      <th>team_short_name</th>\n",
       "    </tr>\n",
       "  </thead>\n",
       "  <tbody>\n",
       "    <tr>\n",
       "      <th>8</th>\n",
       "      <td>9</td>\n",
       "      <td>7947</td>\n",
       "      <td>NaN</td>\n",
       "      <td>FCV Dender EH</td>\n",
       "      <td>DEN</td>\n",
       "    </tr>\n",
       "    <tr>\n",
       "      <th>14</th>\n",
       "      <td>15</td>\n",
       "      <td>4049</td>\n",
       "      <td>NaN</td>\n",
       "      <td>Tubize</td>\n",
       "      <td>TUB</td>\n",
       "    </tr>\n",
       "    <tr>\n",
       "      <th>170</th>\n",
       "      <td>26561</td>\n",
       "      <td>6601</td>\n",
       "      <td>NaN</td>\n",
       "      <td>FC Volendam</td>\n",
       "      <td>VOL</td>\n",
       "    </tr>\n",
       "    <tr>\n",
       "      <th>204</th>\n",
       "      <td>34816</td>\n",
       "      <td>177361</td>\n",
       "      <td>NaN</td>\n",
       "      <td>Termalica Bruk-Bet Nieciecza</td>\n",
       "      <td>TBN</td>\n",
       "    </tr>\n",
       "    <tr>\n",
       "      <th>208</th>\n",
       "      <td>35286</td>\n",
       "      <td>7992</td>\n",
       "      <td>NaN</td>\n",
       "      <td>Trofense</td>\n",
       "      <td>TRO</td>\n",
       "    </tr>\n",
       "    <tr>\n",
       "      <th>213</th>\n",
       "      <td>35291</td>\n",
       "      <td>10213</td>\n",
       "      <td>NaN</td>\n",
       "      <td>Amadora</td>\n",
       "      <td>AMA</td>\n",
       "    </tr>\n",
       "    <tr>\n",
       "      <th>223</th>\n",
       "      <td>36248</td>\n",
       "      <td>9765</td>\n",
       "      <td>NaN</td>\n",
       "      <td>Portimonense</td>\n",
       "      <td>POR</td>\n",
       "    </tr>\n",
       "    <tr>\n",
       "      <th>225</th>\n",
       "      <td>36723</td>\n",
       "      <td>4064</td>\n",
       "      <td>NaN</td>\n",
       "      <td>Feirense</td>\n",
       "      <td>FEI</td>\n",
       "    </tr>\n",
       "    <tr>\n",
       "      <th>232</th>\n",
       "      <td>38789</td>\n",
       "      <td>6367</td>\n",
       "      <td>NaN</td>\n",
       "      <td>Uniao da Madeira</td>\n",
       "      <td>MAD</td>\n",
       "    </tr>\n",
       "    <tr>\n",
       "      <th>233</th>\n",
       "      <td>38791</td>\n",
       "      <td>188163</td>\n",
       "      <td>NaN</td>\n",
       "      <td>Tondela</td>\n",
       "      <td>TON</td>\n",
       "    </tr>\n",
       "    <tr>\n",
       "      <th>298</th>\n",
       "      <td>51606</td>\n",
       "      <td>7896</td>\n",
       "      <td>NaN</td>\n",
       "      <td>Lugano</td>\n",
       "      <td>LUG</td>\n",
       "    </tr>\n",
       "  </tbody>\n",
       "</table>\n",
       "</div>"
      ],
      "text/plain": [
       "        id  team_api_id  team_fifa_api_id                team_long_name  \\\n",
       "8        9         7947               NaN                 FCV Dender EH   \n",
       "14      15         4049               NaN                        Tubize   \n",
       "170  26561         6601               NaN                   FC Volendam   \n",
       "204  34816       177361               NaN  Termalica Bruk-Bet Nieciecza   \n",
       "208  35286         7992               NaN                      Trofense   \n",
       "213  35291        10213               NaN                       Amadora   \n",
       "223  36248         9765               NaN                  Portimonense   \n",
       "225  36723         4064               NaN                      Feirense   \n",
       "232  38789         6367               NaN              Uniao da Madeira   \n",
       "233  38791       188163               NaN                       Tondela   \n",
       "298  51606         7896               NaN                        Lugano   \n",
       "\n",
       "    team_short_name  \n",
       "8               DEN  \n",
       "14              TUB  \n",
       "170             VOL  \n",
       "204             TBN  \n",
       "208             TRO  \n",
       "213             AMA  \n",
       "223             POR  \n",
       "225             FEI  \n",
       "232             MAD  \n",
       "233             TON  \n",
       "298             LUG  "
      ]
     },
     "execution_count": 9,
     "metadata": {},
     "output_type": "execute_result"
    }
   ],
   "source": [
    "team[team['team_fifa_api_id'].isnull()]"
   ]
  },
  {
   "cell_type": "markdown",
   "metadata": {},
   "source": [
    "#### 3.1 team_api_id"
   ]
  },
  {
   "cell_type": "code",
   "execution_count": 10,
   "metadata": {},
   "outputs": [
    {
     "name": "stdout",
     "output_type": "stream",
     "text": [
      "The number of unique team_api_id is 299.\n"
     ]
    }
   ],
   "source": [
    "print('The number of unique team_api_id is {}.'.format(team.team_api_id.unique().shape[0]))"
   ]
  },
  {
   "cell_type": "markdown",
   "metadata": {},
   "source": [
    "上面的输出表明，每只球队都有单独的team_api_id。"
   ]
  },
  {
   "cell_type": "markdown",
   "metadata": {},
   "source": [
    "#### 3.2 team_fifa_api_id"
   ]
  },
  {
   "cell_type": "code",
   "execution_count": 11,
   "metadata": {},
   "outputs": [
    {
     "name": "stdout",
     "output_type": "stream",
     "text": [
      "The number of unique team_fifa_api_id is 285.\n"
     ]
    }
   ],
   "source": [
    "print('The number of unique team_fifa_api_id is {}.'.format(team[team.team_fifa_api_id.notnull()].team_fifa_api_id.unique().shape[0]))"
   ]
  },
  {
   "cell_type": "markdown",
   "metadata": {},
   "source": [
    "上面的输出表明，288只球队中有285个team_fifa_api_id。这就意味着有些球队的team_fifa_api_id相同。"
   ]
  },
  {
   "cell_type": "code",
   "execution_count": 12,
   "metadata": {},
   "outputs": [
    {
     "name": "stdout",
     "output_type": "stream",
     "text": [
      "The shared team_fifa_ids are: [    301.  111429.  111560.]\n"
     ]
    },
    {
     "data": {
      "text/html": [
       "<div>\n",
       "<style scoped>\n",
       "    .dataframe tbody tr th:only-of-type {\n",
       "        vertical-align: middle;\n",
       "    }\n",
       "\n",
       "    .dataframe tbody tr th {\n",
       "        vertical-align: top;\n",
       "    }\n",
       "\n",
       "    .dataframe thead th {\n",
       "        text-align: right;\n",
       "    }\n",
       "</style>\n",
       "<table border=\"1\" class=\"dataframe\">\n",
       "  <thead>\n",
       "    <tr style=\"text-align: right;\">\n",
       "      <th></th>\n",
       "      <th>id</th>\n",
       "      <th>team_api_id</th>\n",
       "      <th>team_fifa_api_id</th>\n",
       "      <th>team_long_name</th>\n",
       "      <th>team_short_name</th>\n",
       "    </tr>\n",
       "  </thead>\n",
       "  <tbody>\n",
       "    <tr>\n",
       "      <th>15</th>\n",
       "      <td>16</td>\n",
       "      <td>9996</td>\n",
       "      <td>111560.0</td>\n",
       "      <td>Royal Excel Mouscron</td>\n",
       "      <td>MOU</td>\n",
       "    </tr>\n",
       "    <tr>\n",
       "      <th>24</th>\n",
       "      <td>2510</td>\n",
       "      <td>274581</td>\n",
       "      <td>111560.0</td>\n",
       "      <td>Royal Excel Mouscron</td>\n",
       "      <td>MOP</td>\n",
       "    </tr>\n",
       "    <tr>\n",
       "      <th>182</th>\n",
       "      <td>31444</td>\n",
       "      <td>8031</td>\n",
       "      <td>111429.0</td>\n",
       "      <td>Polonia Bytom</td>\n",
       "      <td>POB</td>\n",
       "    </tr>\n",
       "    <tr>\n",
       "      <th>183</th>\n",
       "      <td>31445</td>\n",
       "      <td>8020</td>\n",
       "      <td>111429.0</td>\n",
       "      <td>Polonia Bytom</td>\n",
       "      <td>GOR</td>\n",
       "    </tr>\n",
       "    <tr>\n",
       "      <th>189</th>\n",
       "      <td>31451</td>\n",
       "      <td>8244</td>\n",
       "      <td>301.0</td>\n",
       "      <td>Widzew Łódź</td>\n",
       "      <td>LOD</td>\n",
       "    </tr>\n",
       "    <tr>\n",
       "      <th>199</th>\n",
       "      <td>32409</td>\n",
       "      <td>8024</td>\n",
       "      <td>301.0</td>\n",
       "      <td>Widzew Łódź</td>\n",
       "      <td>WID</td>\n",
       "    </tr>\n",
       "  </tbody>\n",
       "</table>\n",
       "</div>"
      ],
      "text/plain": [
       "        id  team_api_id  team_fifa_api_id        team_long_name  \\\n",
       "15      16         9996          111560.0  Royal Excel Mouscron   \n",
       "24    2510       274581          111560.0  Royal Excel Mouscron   \n",
       "182  31444         8031          111429.0         Polonia Bytom   \n",
       "183  31445         8020          111429.0         Polonia Bytom   \n",
       "189  31451         8244             301.0           Widzew Łódź   \n",
       "199  32409         8024             301.0           Widzew Łódź   \n",
       "\n",
       "    team_short_name  \n",
       "15              MOU  \n",
       "24              MOP  \n",
       "182             POB  \n",
       "183             GOR  \n",
       "189             LOD  \n",
       "199             WID  "
      ]
     },
     "execution_count": 12,
     "metadata": {},
     "output_type": "execute_result"
    }
   ],
   "source": [
    "counts_fifa_id = team.groupby('team_fifa_api_id',as_index=False).count()\n",
    "shared_fifa_id = counts_fifa_id[counts_fifa_id['id']!=1]['team_fifa_api_id'].values\n",
    "print('The shared team_fifa_ids are: {}'.format(shared_fifa_id))\n",
    "team[team['team_fifa_api_id'].isin(shared_fifa_id)]"
   ]
  },
  {
   "cell_type": "markdown",
   "metadata": {},
   "source": [
    "上面的输出表明，有三个球队组的team_fifa_api_id两两相同。但是从球队的全称来看，“两”只球队其实就是一只球队，只是不知道为何会有不同的简称和team_api_id。"
   ]
  },
  {
   "cell_type": "markdown",
   "metadata": {},
   "source": [
    "#### 3.3 team_long_name and team_short_name"
   ]
  },
  {
   "cell_type": "code",
   "execution_count": 13,
   "metadata": {},
   "outputs": [
    {
     "name": "stdout",
     "output_type": "stream",
     "text": [
      "The number of unique team_long_name is 296.\n",
      "The number of unique team_short_name is 259.\n"
     ]
    }
   ],
   "source": [
    "print('The number of unique team_long_name is {}.'.format(team.team_long_name.unique().shape[0]))\n",
    "print('The number of unique team_short_name is {}.'.format(team.team_short_name.unique().shape[0]))"
   ]
  },
  {
   "cell_type": "markdown",
   "metadata": {},
   "source": [
    "上面的输出表明，有不少球队的简称相同。\n",
    "\n",
    "所以对于球队数据表我们有以下总结：\n",
    "    1. 这一表中实际有296只球队；\n",
    "    2. 282只球队有单独的team_fifa_api_id和team_api_id；\n",
    "    3. 11只球队有单独的team_api_id，但是没有team_fifa_api_id；\n",
    "    4. 有3只球队有单独的team_fifa_api_id，但是拥有两个team_api_id；\n",
    "    5. 所有球队的全称都不同；\n",
    "    6. 有不少球队的简称相同。"
   ]
  },
  {
   "cell_type": "markdown",
   "metadata": {},
   "source": [
    "#### <a id='Player'></a>4. 球员\n",
    "最后是球员数据表。这一表中包含了球员名字、生日、身高、体重和球员ID的信息。"
   ]
  },
  {
   "cell_type": "code",
   "execution_count": 14,
   "metadata": {},
   "outputs": [
    {
     "name": "stdout",
     "output_type": "stream",
     "text": [
      "<class 'pandas.core.frame.DataFrame'>\n",
      "RangeIndex: 11060 entries, 0 to 11059\n",
      "Data columns (total 7 columns):\n",
      "id                    11060 non-null int64\n",
      "player_api_id         11060 non-null int64\n",
      "player_name           11060 non-null object\n",
      "player_fifa_api_id    11060 non-null int64\n",
      "birthday              11060 non-null object\n",
      "height                11060 non-null float64\n",
      "weight                11060 non-null int64\n",
      "dtypes: float64(1), int64(4), object(2)\n",
      "memory usage: 604.9+ KB\n",
      "None\n"
     ]
    },
    {
     "data": {
      "text/html": [
       "<div>\n",
       "<style scoped>\n",
       "    .dataframe tbody tr th:only-of-type {\n",
       "        vertical-align: middle;\n",
       "    }\n",
       "\n",
       "    .dataframe tbody tr th {\n",
       "        vertical-align: top;\n",
       "    }\n",
       "\n",
       "    .dataframe thead th {\n",
       "        text-align: right;\n",
       "    }\n",
       "</style>\n",
       "<table border=\"1\" class=\"dataframe\">\n",
       "  <thead>\n",
       "    <tr style=\"text-align: right;\">\n",
       "      <th></th>\n",
       "      <th>id</th>\n",
       "      <th>player_api_id</th>\n",
       "      <th>player_name</th>\n",
       "      <th>player_fifa_api_id</th>\n",
       "      <th>birthday</th>\n",
       "      <th>height</th>\n",
       "      <th>weight</th>\n",
       "    </tr>\n",
       "  </thead>\n",
       "  <tbody>\n",
       "    <tr>\n",
       "      <th>0</th>\n",
       "      <td>1</td>\n",
       "      <td>505942</td>\n",
       "      <td>Aaron Appindangoye</td>\n",
       "      <td>218353</td>\n",
       "      <td>1992-02-29 00:00:00</td>\n",
       "      <td>182.88</td>\n",
       "      <td>187</td>\n",
       "    </tr>\n",
       "    <tr>\n",
       "      <th>1</th>\n",
       "      <td>2</td>\n",
       "      <td>155782</td>\n",
       "      <td>Aaron Cresswell</td>\n",
       "      <td>189615</td>\n",
       "      <td>1989-12-15 00:00:00</td>\n",
       "      <td>170.18</td>\n",
       "      <td>146</td>\n",
       "    </tr>\n",
       "    <tr>\n",
       "      <th>2</th>\n",
       "      <td>3</td>\n",
       "      <td>162549</td>\n",
       "      <td>Aaron Doran</td>\n",
       "      <td>186170</td>\n",
       "      <td>1991-05-13 00:00:00</td>\n",
       "      <td>170.18</td>\n",
       "      <td>163</td>\n",
       "    </tr>\n",
       "    <tr>\n",
       "      <th>3</th>\n",
       "      <td>4</td>\n",
       "      <td>30572</td>\n",
       "      <td>Aaron Galindo</td>\n",
       "      <td>140161</td>\n",
       "      <td>1982-05-08 00:00:00</td>\n",
       "      <td>182.88</td>\n",
       "      <td>198</td>\n",
       "    </tr>\n",
       "    <tr>\n",
       "      <th>4</th>\n",
       "      <td>5</td>\n",
       "      <td>23780</td>\n",
       "      <td>Aaron Hughes</td>\n",
       "      <td>17725</td>\n",
       "      <td>1979-11-08 00:00:00</td>\n",
       "      <td>182.88</td>\n",
       "      <td>154</td>\n",
       "    </tr>\n",
       "  </tbody>\n",
       "</table>\n",
       "</div>"
      ],
      "text/plain": [
       "   id  player_api_id         player_name  player_fifa_api_id  \\\n",
       "0   1         505942  Aaron Appindangoye              218353   \n",
       "1   2         155782     Aaron Cresswell              189615   \n",
       "2   3         162549         Aaron Doran              186170   \n",
       "3   4          30572       Aaron Galindo              140161   \n",
       "4   5          23780        Aaron Hughes               17725   \n",
       "\n",
       "              birthday  height  weight  \n",
       "0  1992-02-29 00:00:00  182.88     187  \n",
       "1  1989-12-15 00:00:00  170.18     146  \n",
       "2  1991-05-13 00:00:00  170.18     163  \n",
       "3  1982-05-08 00:00:00  182.88     198  \n",
       "4  1979-11-08 00:00:00  182.88     154  "
      ]
     },
     "execution_count": 14,
     "metadata": {},
     "output_type": "execute_result"
    }
   ],
   "source": [
    "print(player.info())\n",
    "player.head()"
   ]
  },
  {
   "cell_type": "markdown",
   "metadata": {},
   "source": [
    "#### 4.1 球员ID"
   ]
  },
  {
   "cell_type": "code",
   "execution_count": 15,
   "metadata": {},
   "outputs": [
    {
     "name": "stdout",
     "output_type": "stream",
     "text": [
      "The number of unique player_api_id is 11060.\n",
      "The number of unique player_fifa_api_id is 11060.\n"
     ]
    }
   ],
   "source": [
    "print('The number of unique player_api_id is {}.'.format(player.player_api_id.unique().shape[0]))\n",
    "print('The number of unique player_fifa_api_id is {}.'.format(player.player_fifa_api_id.unique().shape[0]))"
   ]
  },
  {
   "cell_type": "markdown",
   "metadata": {},
   "source": [
    "球员数据表中共有11060名球员。每名球员都有一个单独的player_api_id和player_fifa_api_id。"
   ]
  },
  {
   "cell_type": "markdown",
   "metadata": {},
   "source": [
    "#### 4.2 球员名字"
   ]
  },
  {
   "cell_type": "code",
   "execution_count": 16,
   "metadata": {},
   "outputs": [
    {
     "name": "stdout",
     "output_type": "stream",
     "text": [
      "The number of unique player_name is 10848.\n"
     ]
    }
   ],
   "source": [
    "print('The number of unique player_name is {}.'.format(player.player_name.unique().shape[0]))"
   ]
  },
  {
   "cell_type": "markdown",
   "metadata": {},
   "source": [
    "11060名球员有10848个名字，这表明有些球员的名字相同。"
   ]
  },
  {
   "cell_type": "code",
   "execution_count": 21,
   "metadata": {},
   "outputs": [
    {
     "data": {
      "image/png": "[encoded data removed]",
      "text/plain": [
       "<matplotlib.figure.Figure at 0x1ddf5d25a20>"
      ]
     },
     "metadata": {},
     "output_type": "display_data"
    }
   ],
   "source": [
    "# Top counts number\n",
    "top_num = 10\n",
    "\n",
    "# get top counts name table\n",
    "top_counts_name = player.groupby('player_name',as_index=False).count().sort_values('player_api_id',ascending=False).head(top_num)\n",
    "\n",
    "# Make a barhplot\n",
    "fig, ax = plt.subplots(figsize=(8,6))\n",
    "\n",
    "ax.barh(np.arange(top_num), top_counts_name['player_api_id'].values, align = 'center')\n",
    "\n",
    "# Set x&y label, ticklabel and their size\n",
    "ax.set_yticks(np.arange(top_num))\n",
    "ax.set_yticklabels(top_counts_name['player_name'].values)\n",
    "ax.invert_yaxis()\n",
    "ax.set_xticklabels(ax.get_xticks())\n",
    "ax.set_xlabel('Counts')\n",
    "ax.set_title('Top {} Popular Names'.format(top_num))\n",
    "\n",
    "plt.tight_layout()\n",
    "#plt.savefig('name',dpi=400)"
   ]
  },
  {
   "cell_type": "markdown",
   "metadata": {},
   "source": [
    "其中叫Danilo（达尼诺）的球员最多，一共有7位；叫Paulinho（保利尼奥）的排第二，一共有6位；叫Ricardo（里卡多）的排第三。"
   ]
  },
  {
   "cell_type": "markdown",
   "metadata": {},
   "source": [
    "#### 4.3 球员生日\n",
    "出生日期为1989年3月2日的球员最多，有10名球员。"
   ]
  },
  {
   "cell_type": "code",
   "execution_count": 23,
   "metadata": {},
   "outputs": [
    {
     "data": {
      "image/png": "[encoded data removed]",
      "text/plain": [
       "<matplotlib.figure.Figure at 0x1ddf5fab2e8>"
      ]
     },
     "metadata": {},
     "output_type": "display_data"
    }
   ],
   "source": [
    "# Top counts number\n",
    "top_num = 10\n",
    "\n",
    "# get top counts name table\n",
    "top_counts_birthday = player.groupby('birthday',as_index=False).count().sort_values('player_api_id',ascending=False).head(top_num)\n",
    "\n",
    "# Make a barhplot\n",
    "fig, ax = plt.subplots(figsize=(10,6))\n",
    "\n",
    "ax.barh(np.arange(top_num), top_counts_birthday['player_api_id'].values, align = 'center')\n",
    "\n",
    "# Set x&y label, ticklabel and their size\n",
    "ax.set_yticks(np.arange(top_num))\n",
    "ax.set_yticklabels(top_counts_birthday['birthday'].values)\n",
    "ax.invert_yaxis()\n",
    "ax.set_xticklabels(ax.get_xticks())\n",
    "ax.set_xlabel('Counts')\n",
    "ax.set_title('Top {} Popular Birthdays'.format(top_num))\n",
    "\n",
    "plt.tight_layout()\n",
    "#plt.savefig('birthday',dpi=400)"
   ]
  },
  {
   "cell_type": "markdown",
   "metadata": {},
   "source": [
    "#### 4.3.1 出生月份偏见"
   ]
  },
  {
   "cell_type": "code",
   "execution_count": 25,
   "metadata": {},
   "outputs": [
    {
     "data": {
      "image/png": "[encoded data removed]",
      "text/plain": [
       "<matplotlib.figure.Figure at 0x1ddf7318630>"
      ]
     },
     "metadata": {},
     "output_type": "display_data"
    }
   ],
   "source": [
    "player['birthday'] = pd.to_datetime(player['birthday'], yearfirst=True)\n",
    "player['month'] = [i.month for i in player['birthday']]\n",
    "\n",
    "month_name = ['Jan', 'Feb', 'Mar', 'Apr', 'May', 'Jun', 'Jul', 'Aug', 'Sep', 'Oct', 'Nov', 'Dec']\n",
    "\n",
    "month_gby = player.groupby(by='month', as_index=False).count()\n",
    "\n",
    "# Make a barhplot\n",
    "fig, ax = plt.subplots(figsize=(10,8))\n",
    "\n",
    "ax.barh(month_gby['month'], month_gby['birthday'], align = 'center')\n",
    "\n",
    "# Set x&y label, ticklabel and their size\n",
    "ax.set_yticks(month_gby['month'])\n",
    "ax.set_yticklabels(month_name)\n",
    "ax.invert_yaxis()\n",
    "ax.set_xticklabels(ax.get_xticks())\n",
    "ax.set_xlabel('Counts')\n",
    "ax.set_title('Born in Each Month of the Year'.format(top_num))\n",
    "\n",
    "plt.tight_layout()\n",
    "#plt.savefig('RAE',dpi=400)"
   ]
  },
  {
   "attachments": {
    "image.png": {
     "image/png": "[encoded data removed]"
    }
   },
   "cell_type": "markdown",
   "metadata": {},
   "source": [
    "这一结果验证了[出生月份偏见](https://en.wikipedia.org/wiki/Relative_age_effect)。青年体育比赛通常以年为单位，把球员划分成不同的年龄段。但是即使是在同一个年龄段中，最小的球员和最大的球员也有可能相差接近1岁。因此，年龄较大的球员在同年龄段中会获得身体上的优势，从而获得更多的比赛机会，最后成长为职业球员。而年龄较小的球员会因为身体上的劣势导致比赛机会较少，从而更难脱颖而出。这样产生的结果是在职业球员中某些月份出生的球员更多，而其他月份出生的较少。\n",
    "\n",
    "比如在国际足球中，通常以1月1日来划分年龄段，因此1月份出生的小孩在同年龄段中属于年龄较大的球员，更有可能成长为职业球员。而十二月份出生的球员在同年龄段中属于年龄较小的球员，因此成长道路更为艰辛。这样的结果就造成了在职业球员中一月份出生的球员最多，十二月份出生的球员最少，如上面的数据统计所示。这就造成了表明上的球员出生月份偏见：如果不对上述数据统计做仔细研究，人们会误以为1月份出生的小孩更适合于踢球才导致了1月份出生的球员多。这其实是一种选择偏见。\n",
    "\n",
    "\n",
    "另外，不同的划分日期会导致不同的出生月份偏见。比如，在英国是以9月1日来划分年龄段，因此造成的月份偏见就不一样（参见[The Science of Soccer](https://www.amazon.com/Science-Soccer-John-Wesson/dp/0750308133)）。\n",
    "\n",
    "![image.png](attachment:image.png)"
   ]
  },
  {
   "cell_type": "markdown",
   "metadata": {},
   "source": [
    "#### 4.4 球员身高\n",
    "球员身高符合高斯分布。最矮的球员叫做Juan Quero，身高为157.5cm。由维基百科信息信息，Juan Quero是名西班牙球员，最早还出道于皇马青训，但职业生涯并不太成功，只在2008-2009赛季代表努马西亚出战过西甲。\n",
    "\n",
    "最高的球员叫做Kristof van Hout，身高为208.3cm。由维基百科信息，Kristof van Hout是一名比利时门将。\n",
    "\n",
    "欧洲职业足球联赛球员的平均身高为181.9cm。"
   ]
  },
  {
   "cell_type": "code",
   "execution_count": 28,
   "metadata": {},
   "outputs": [
    {
     "name": "stdout",
     "output_type": "stream",
     "text": [
      "Average player height is 181.9 cm.\n",
      "The shortest player is Juan Quero. His height is 157.5 cm.\n",
      "The tallest player is Kristof van Hout. His height is 208.3 cm.\n"
     ]
    },
    {
     "data": {
      "image/png": "[encoded data removed]",
      "text/plain": [
       "<matplotlib.figure.Figure at 0x1ddf602a2e8>"
      ]
     },
     "metadata": {},
     "output_type": "display_data"
    }
   ],
   "source": [
    "plt.figure(figsize=(8,6))\n",
    "sns.distplot(player['height'],bins=20,kde=True,\n",
    "            kde_kws={\"bw\": 4, \"label\": \"KDE\"})\n",
    "plt.axvline(player['height'].mean(), 0, 1, color='r', label='Average Height')\n",
    "plt.xlabel('Player Height Distribution (cm)')\n",
    "plt.legend()\n",
    "\n",
    "print('Average player height is {:.1f} cm.'.format(player['height'].mean()))\n",
    "print('The shortest player is {}. His height is {:.1f} cm.'.format(player[player.height==np.min(player.height)].player_name.values[0],\n",
    "                                                               np.min(player.height)))\n",
    "print('The tallest player is {}. His height is {:.1f} cm.'.format(player[player.height==np.max(player.height)].player_name.values[0],\n",
    "                                                              np.max(player.height)))\n",
    "\n",
    "plt.tight_layout()\n",
    "#plt.savefig('height',dpi=400)"
   ]
  },
  {
   "cell_type": "markdown",
   "metadata": {},
   "source": [
    "#### 4.5 球员体重\n",
    "\n",
    "球员体重也符合高斯分布。不出意外，最轻的球员是Juan Quero（53.1 kg），最重的球员是Kristof van Hout（110.2 kg）。\n",
    "\n",
    "球员平均体重为76.4 kg。"
   ]
  },
  {
   "cell_type": "code",
   "execution_count": 29,
   "metadata": {},
   "outputs": [
    {
     "name": "stdout",
     "output_type": "stream",
     "text": [
      "Average player weight is 168.4 lb (76.4 kg).\n",
      "The lightest player is Juan Quero. His weight is 117.0 lb (53.1 kg).\n",
      "The heaviest player is Kristof van Hout. His weight is 243.0 lb (110.2 kg).\n"
     ]
    },
    {
     "data": {
      "image/png": "[encoded data removed]",
      "text/plain": [
       "<matplotlib.figure.Figure at 0x1ddf5bef6d8>"
      ]
     },
     "metadata": {},
     "output_type": "display_data"
    }
   ],
   "source": [
    "plt.figure(figsize=(8,6))\n",
    "sns.distplot(player['weight'],bins=20,\n",
    "            kde_kws={\"bw\": 4, \"label\": \"KDE\"})\n",
    "plt.axvline(player['weight'].mean(), 0, 1, color='r', label='Average Weight')\n",
    "plt.xlabel('Player Weight Distribution (lbs)')\n",
    "plt.legend()\n",
    "\n",
    "print('Average player weight is {:.1f} lb ({:.1f} kg).'.format(player['weight'].mean(), player['weight'].mean()*0.4536))\n",
    "print('The lightest player is {}. His weight is {:.1f} lb ({:.1f} kg).'.format(player[player.weight==np.min(player.weight)].player_name.values[0],\n",
    "                                                                   np.min(player.weight), np.min(player.weight)*0.4536))\n",
    "print('The heaviest player is {}. His weight is {:.1f} lb ({:.1f} kg).'.format(player[player.weight==np.max(player.weight)].player_name.values[0],\n",
    "                                                              np.max(player.weight), np.max(player.weight)*0.4536))\n",
    "\n",
    "plt.tight_layout()\n",
    "#plt.savefig('weight',dpi=400)"
   ]
  },
  {
   "cell_type": "code",
   "execution_count": null,
   "metadata": {},
   "outputs": [],
   "source": []
  }
 ],
 "metadata": {
  "anaconda-cloud": {},
  "kernelspec": {
   "display_name": "Python 3",
   "language": "python",
   "name": "python3"
  },
  "language_info": {
   "codemirror_mode": {
    "name": "ipython",
    "version": 3
   },
   "file_extension": ".py",
   "mimetype": "text/x-python",
   "name": "python",
   "nbconvert_exporter": "python",
   "pygments_lexer": "ipython3",
   "version": "3.5.2"
  }
 },
 "nbformat": 4,
 "nbformat_minor": 1
}
