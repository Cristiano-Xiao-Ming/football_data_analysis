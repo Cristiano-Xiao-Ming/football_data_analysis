{
 "cells": [
  {
   "cell_type": "markdown",
   "metadata": {},
   "source": [
    "## Kaggle European Soccer Database Analysis\n",
    "### Merge Ball Event Data into Match Table"
   ]
  },
  {
   "cell_type": "markdown",
   "metadata": {},
   "source": [
    "The data are downloaded here: [Kaggle European Soccer Database](https://www.kaggle.com/hugomathien/soccer), and ball event data have been extracted to local disk in previous notebook.\n",
    "\n",
    "### Table of Contents\n",
    "#### 1. [Aggregate Ball Event Data to Construct Team's Match Stats Table](#1)\n",
    "#### 2. [Merge Team's Match Stats to Match Table](#2)"
   ]
  },
  {
   "cell_type": "code",
   "execution_count": 6,
   "metadata": {},
   "outputs": [
    {
     "name": "stdout",
     "output_type": "stream",
     "text": [
      "All general modules are imported.\n"
     ]
    }
   ],
   "source": [
    "%matplotlib inline\n",
    "import numpy as np\n",
    "import matplotlib.pyplot as plt\n",
    "import pandas as pd\n",
    "import seaborn as sns\n",
    "import sqlite3\n",
    "import pickle\n",
    "from tqdm import tqdm\n",
    "import os\n",
    "import bs4\n",
    "\n",
    "sns.set_style('whitegrid')\n",
    "sns.set_context('notebook')\n",
    "\n",
    "print('All general modules are imported.')"
   ]
  },
  {
   "cell_type": "code",
   "execution_count": 7,
   "metadata": {},
   "outputs": [
    {
     "name": "stdout",
     "output_type": "stream",
     "text": [
      "Connection to the database is established.\n",
      "\n",
      "Following Tables are found in the database:\n",
      "sqlite_sequence\n",
      "Player_Attributes\n",
      "Player\n",
      "Match\n",
      "League\n",
      "Country\n",
      "Team\n",
      "Team_Attributes\n"
     ]
    }
   ],
   "source": [
    "# Establish connection to sql database\n",
    "\n",
    "# database file name\n",
    "db_filename = 'database.sqlite'\n",
    "\n",
    "# change database file directory as you wish\n",
    "data_folder = os.path.join(os.path.pardir, os.path.pardir, os.path.pardir, 'data_source', 'kaggle')\n",
    "db_filedir = os.path.join(data_folder, db_filename)\n",
    "\n",
    "try:\n",
    "    con=sqlite3.connect(db_filedir)\n",
    "    print('Connection to the database is established.\\n')\n",
    "except Exception as e:\n",
    "    print('Unable to establish the connection.')\n",
    "\n",
    "cursor=con.execute(\"select name from sqlite_master where type='table'\")\n",
    "print('Following Tables are found in the database:')\n",
    "for i in cursor.fetchall():\n",
    "    print('{}'.format(i[0]))"
   ]
  },
  {
   "cell_type": "code",
   "execution_count": 8,
   "metadata": {},
   "outputs": [
    {
     "name": "stdout",
     "output_type": "stream",
     "text": [
      "Successfully load player table from the database.\n",
      "Successfully load match table from the database.\n",
      "Successfully load league table from the database.\n",
      "Successfully load country table from the database.\n",
      "Successfully load team table from the database.\n"
     ]
    }
   ],
   "source": [
    "# read player table\n",
    "try:\n",
    "    player = pd.read_sql_query('select * from Player',con)\n",
    "    print('Successfully load player table from the database.')\n",
    "except Exception as e:\n",
    "    print('Unable to load player table from the database.')\n",
    "\n",
    "# read match table\n",
    "try:\n",
    "    match = pd.read_sql_query('select * from Match',con)\n",
    "    print('Successfully load match table from the database.')\n",
    "except Exception as e:\n",
    "    print('Unable to load match table from the database.')\n",
    "    \n",
    "# read league table\n",
    "try:\n",
    "    league=pd.read_sql_query('select * from League',con)\n",
    "    print('Successfully load league table from the database.')\n",
    "except Exception as e:\n",
    "    print('Unable to load league table from the database.')\n",
    "\n",
    "# read country table\n",
    "try:\n",
    "    country=pd.read_sql_query('select * from Country',con)\n",
    "    print('Successfully load country table from the database.')\n",
    "except Exception as e:\n",
    "    print('Unable to load country table from the database.')\n",
    "\n",
    "# read team table\n",
    "try:\n",
    "    team=pd.read_sql_query('select * from Team', con)\n",
    "    print('Successfully load team table from the database.')\n",
    "except Exception as e:\n",
    "    print('Unable to load team table from the database.')"
   ]
  },
  {
   "cell_type": "markdown",
   "metadata": {},
   "source": [
    "#### <a id='1'></a>1. Aggregate Ball Event Data to Construct Team's Match Stats Table\n",
    "#### 1.1 No. of Goals in Each Match for Each Team"
   ]
  },
  {
   "cell_type": "code",
   "execution_count": 9,
   "metadata": {},
   "outputs": [
    {
     "name": "stderr",
     "output_type": "stream",
     "text": [
      "C:\\Users\\ZAO_LI_XU\\AppData\\Local\\Continuum\\Anaconda3\\lib\\site-packages\\ipykernel_launcher.py:7: SettingWithCopyWarning: \n",
      "A value is trying to be set on a copy of a slice from a DataFrame.\n",
      "Try using .loc[row_indexer,col_indexer] = value instead\n",
      "\n",
      "See the caveats in the documentation: http://pandas.pydata.org/pandas-docs/stable/indexing.html#indexing-view-versus-copy\n",
      "  import sys\n",
      "C:\\Users\\ZAO_LI_XU\\AppData\\Local\\Continuum\\Anaconda3\\lib\\site-packages\\ipykernel_launcher.py:12: SettingWithCopyWarning: \n",
      "A value is trying to be set on a copy of a slice from a DataFrame.\n",
      "Try using .loc[row_indexer,col_indexer] = value instead\n",
      "\n",
      "See the caveats in the documentation: http://pandas.pydata.org/pandas-docs/stable/indexing.html#indexing-view-versus-copy\n",
      "  if sys.path[0] == '':\n"
     ]
    }
   ],
   "source": [
    "# Construct match_team table with goal stats\n",
    "match_result = match[['match_api_id','home_team_api_id','away_team_api_id','home_team_goal','away_team_goal']]\n",
    "\n",
    "# Home team\n",
    "home_team = match_result[['match_api_id','home_team_api_id','home_team_goal']]\n",
    "home_team.columns = ['match_api_id','team','goal']\n",
    "home_team['Ishometeam'] = 1\n",
    "\n",
    "# Away team\n",
    "away_team = match_result[['match_api_id','away_team_api_id','away_team_goal']]\n",
    "away_team.columns = ['match_api_id','team','goal']\n",
    "away_team['Ishometeam'] = 0\n",
    "\n",
    "# Glue home team and away team together\n",
    "match_team=pd.concat([home_team,away_team], ignore_index=True)"
   ]
  },
  {
   "cell_type": "code",
   "execution_count": 10,
   "metadata": {},
   "outputs": [
    {
     "name": "stdout",
     "output_type": "stream",
     "text": [
      "<class 'pandas.core.frame.DataFrame'>\n",
      "RangeIndex: 51958 entries, 0 to 51957\n",
      "Data columns (total 4 columns):\n",
      "match_api_id    51958 non-null int64\n",
      "team            51958 non-null int64\n",
      "goal            51958 non-null int64\n",
      "Ishometeam      51958 non-null int64\n",
      "dtypes: int64(4)\n",
      "memory usage: 1.6 MB\n",
      "None\n"
     ]
    },
    {
     "data": {
      "text/html": [
       "<div>\n",
       "<style>\n",
       "    .dataframe thead tr:only-child th {\n",
       "        text-align: right;\n",
       "    }\n",
       "\n",
       "    .dataframe thead th {\n",
       "        text-align: left;\n",
       "    }\n",
       "\n",
       "    .dataframe tbody tr th {\n",
       "        vertical-align: top;\n",
       "    }\n",
       "</style>\n",
       "<table border=\"1\" class=\"dataframe\">\n",
       "  <thead>\n",
       "    <tr style=\"text-align: right;\">\n",
       "      <th></th>\n",
       "      <th>match_api_id</th>\n",
       "      <th>team</th>\n",
       "      <th>goal</th>\n",
       "      <th>Ishometeam</th>\n",
       "    </tr>\n",
       "  </thead>\n",
       "  <tbody>\n",
       "    <tr>\n",
       "      <th>0</th>\n",
       "      <td>492473</td>\n",
       "      <td>9987</td>\n",
       "      <td>1</td>\n",
       "      <td>1</td>\n",
       "    </tr>\n",
       "    <tr>\n",
       "      <th>1</th>\n",
       "      <td>492474</td>\n",
       "      <td>10000</td>\n",
       "      <td>0</td>\n",
       "      <td>1</td>\n",
       "    </tr>\n",
       "    <tr>\n",
       "      <th>2</th>\n",
       "      <td>492475</td>\n",
       "      <td>9984</td>\n",
       "      <td>0</td>\n",
       "      <td>1</td>\n",
       "    </tr>\n",
       "    <tr>\n",
       "      <th>3</th>\n",
       "      <td>492476</td>\n",
       "      <td>9991</td>\n",
       "      <td>5</td>\n",
       "      <td>1</td>\n",
       "    </tr>\n",
       "    <tr>\n",
       "      <th>4</th>\n",
       "      <td>492477</td>\n",
       "      <td>7947</td>\n",
       "      <td>1</td>\n",
       "      <td>1</td>\n",
       "    </tr>\n",
       "  </tbody>\n",
       "</table>\n",
       "</div>"
      ],
      "text/plain": [
       "   match_api_id   team  goal  Ishometeam\n",
       "0        492473   9987     1           1\n",
       "1        492474  10000     0           1\n",
       "2        492475   9984     0           1\n",
       "3        492476   9991     5           1\n",
       "4        492477   7947     1           1"
      ]
     },
     "execution_count": 10,
     "metadata": {},
     "output_type": "execute_result"
    }
   ],
   "source": [
    "print(match_team.info())\n",
    "match_team.head()"
   ]
  },
  {
   "cell_type": "markdown",
   "metadata": {},
   "source": [
    "#### 1.2 No. of Shotons in Each Match for Each Team\n",
    "Load shoton event data that were extracted from match table in section 3.\n",
    "\n",
    "#### NOTE\n",
    "\n",
    "Shoton events only include: shots that are on target but not converted to goals. So next shoton will be also referred as shoton_no_goal."
   ]
  },
  {
   "cell_type": "code",
   "execution_count": 11,
   "metadata": {},
   "outputs": [
    {
     "name": "stdout",
     "output_type": "stream",
     "text": [
      "Successfully reload pre-saved shoton.data from local disk.\n"
     ]
    }
   ],
   "source": [
    "try:\n",
    "    shoton=pd.read_pickle(os.path.join(data_folder, 'shoton.data'))\n",
    "    print('Successfully reload pre-saved shoton.data from local disk.')\n",
    "except Exception as e:\n",
    "    print('Unable to reload pre-saved shoton.data.')"
   ]
  },
  {
   "cell_type": "code",
   "execution_count": 12,
   "metadata": {},
   "outputs": [
    {
     "name": "stdout",
     "output_type": "stream",
     "text": [
      "<class 'pandas.core.frame.DataFrame'>\n",
      "RangeIndex: 93755 entries, 0 to 93754\n",
      "Data columns (total 10 columns):\n",
      "elapsed         93755 non-null int64\n",
      "elapsed_plus    5968 non-null float64\n",
      "id              93755 non-null int64\n",
      "latitude        42982 non-null float64\n",
      "longitude       42982 non-null float64\n",
      "match_api_id    93755 non-null int64\n",
      "player1         92802 non-null float64\n",
      "subtype         93737 non-null object\n",
      "team            93684 non-null float64\n",
      "type            93755 non-null object\n",
      "dtypes: float64(5), int64(3), object(2)\n",
      "memory usage: 7.2+ MB\n",
      "None\n"
     ]
    }
   ],
   "source": [
    "print(shoton.info())"
   ]
  },
  {
   "cell_type": "markdown",
   "metadata": {},
   "source": [
    "Drop records with team=NaN. This is confirmed from 'shoton' column content in match table. When team is NaN, the record is marked with 'del=1', which means this record should be deleted."
   ]
  },
  {
   "cell_type": "code",
   "execution_count": 13,
   "metadata": {},
   "outputs": [
    {
     "name": "stdout",
     "output_type": "stream",
     "text": [
      "<class 'pandas.core.frame.DataFrame'>\n",
      "Int64Index: 93684 entries, 0 to 93754\n",
      "Data columns (total 10 columns):\n",
      "elapsed         93684 non-null int64\n",
      "elapsed_plus    5963 non-null float64\n",
      "id              93684 non-null int64\n",
      "latitude        42981 non-null float64\n",
      "longitude       42981 non-null float64\n",
      "match_api_id    93684 non-null int64\n",
      "player1         92802 non-null float64\n",
      "subtype         93667 non-null object\n",
      "team            93684 non-null float64\n",
      "type            93684 non-null object\n",
      "dtypes: float64(5), int64(3), object(2)\n",
      "memory usage: 7.9+ MB\n",
      "None\n"
     ]
    }
   ],
   "source": [
    "shoton = shoton.dropna(subset=['team'])\n",
    "print(shoton.info())"
   ]
  },
  {
   "cell_type": "markdown",
   "metadata": {},
   "source": [
    "Transform shoton events into numbers of shoton for teams"
   ]
  },
  {
   "cell_type": "code",
   "execution_count": 14,
   "metadata": {},
   "outputs": [
    {
     "data": {
      "text/html": [
       "<div>\n",
       "<style>\n",
       "    .dataframe thead tr:only-child th {\n",
       "        text-align: right;\n",
       "    }\n",
       "\n",
       "    .dataframe thead th {\n",
       "        text-align: left;\n",
       "    }\n",
       "\n",
       "    .dataframe tbody tr th {\n",
       "        vertical-align: top;\n",
       "    }\n",
       "</style>\n",
       "<table border=\"1\" class=\"dataframe\">\n",
       "  <thead>\n",
       "    <tr style=\"text-align: right;\">\n",
       "      <th></th>\n",
       "      <th>match_api_id</th>\n",
       "      <th>team</th>\n",
       "      <th>shoton_no_goal</th>\n",
       "    </tr>\n",
       "  </thead>\n",
       "  <tbody>\n",
       "    <tr>\n",
       "      <th>0</th>\n",
       "      <td>489042</td>\n",
       "      <td>10260.0</td>\n",
       "      <td>11</td>\n",
       "    </tr>\n",
       "    <tr>\n",
       "      <th>1</th>\n",
       "      <td>489042</td>\n",
       "      <td>10261.0</td>\n",
       "      <td>1</td>\n",
       "    </tr>\n",
       "    <tr>\n",
       "      <th>2</th>\n",
       "      <td>489043</td>\n",
       "      <td>8659.0</td>\n",
       "      <td>2</td>\n",
       "    </tr>\n",
       "    <tr>\n",
       "      <th>3</th>\n",
       "      <td>489043</td>\n",
       "      <td>9825.0</td>\n",
       "      <td>12</td>\n",
       "    </tr>\n",
       "    <tr>\n",
       "      <th>4</th>\n",
       "      <td>489044</td>\n",
       "      <td>8472.0</td>\n",
       "      <td>4</td>\n",
       "    </tr>\n",
       "  </tbody>\n",
       "</table>\n",
       "</div>"
      ],
      "text/plain": [
       "   match_api_id     team  shoton_no_goal\n",
       "0        489042  10260.0              11\n",
       "1        489042  10261.0               1\n",
       "2        489043   8659.0               2\n",
       "3        489043   9825.0              12\n",
       "4        489044   8472.0               4"
      ]
     },
     "execution_count": 14,
     "metadata": {},
     "output_type": "execute_result"
    }
   ],
   "source": [
    "shoton_team = shoton[['match_api_id','team','id']].groupby(by=['match_api_id','team'],as_index=False).count()\n",
    "shoton_team = shoton_team.rename(columns={'id': 'shoton_no_goal'})\n",
    "shoton_team.head(5)"
   ]
  },
  {
   "cell_type": "markdown",
   "metadata": {},
   "source": [
    "Note: shoton_team table will not include: matches with match id shown in shoton_team table, but teams don't have shotons in the matches. So next add these records with shoton_no_goal = 0."
   ]
  },
  {
   "cell_type": "code",
   "execution_count": 15,
   "metadata": {},
   "outputs": [
    {
     "name": "stdout",
     "output_type": "stream",
     "text": [
      "<class 'pandas.core.frame.DataFrame'>\n",
      "Int64Index: 16926 entries, 0 to 16925\n",
      "Data columns (total 3 columns):\n",
      "match_api_id      16926 non-null int64\n",
      "team              16926 non-null object\n",
      "shoton_no_goal    16673 non-null float64\n",
      "dtypes: float64(1), int64(1), object(1)\n",
      "memory usage: 528.9+ KB\n"
     ]
    }
   ],
   "source": [
    "# Find out all teams shown in matches with all match ids in shoton_team table\n",
    "shoton_team = pd.merge(match_team[match_team.match_api_id.isin(shoton_team.match_api_id)], shoton_team,\n",
    "                       how='left',on=['match_api_id','team'])[['match_api_id','team','shoton_no_goal']]\n",
    "shoton_team.info()"
   ]
  },
  {
   "cell_type": "code",
   "execution_count": 16,
   "metadata": {},
   "outputs": [
    {
     "name": "stdout",
     "output_type": "stream",
     "text": [
      "<class 'pandas.core.frame.DataFrame'>\n",
      "Int64Index: 16926 entries, 0 to 16925\n",
      "Data columns (total 3 columns):\n",
      "match_api_id      16926 non-null int64\n",
      "team              16926 non-null int64\n",
      "shoton_no_goal    16926 non-null float64\n",
      "dtypes: float64(1), int64(2)\n",
      "memory usage: 528.9 KB\n",
      "None\n"
     ]
    },
    {
     "data": {
      "text/html": [
       "<div>\n",
       "<style>\n",
       "    .dataframe thead tr:only-child th {\n",
       "        text-align: right;\n",
       "    }\n",
       "\n",
       "    .dataframe thead th {\n",
       "        text-align: left;\n",
       "    }\n",
       "\n",
       "    .dataframe tbody tr th {\n",
       "        vertical-align: top;\n",
       "    }\n",
       "</style>\n",
       "<table border=\"1\" class=\"dataframe\">\n",
       "  <thead>\n",
       "    <tr style=\"text-align: right;\">\n",
       "      <th></th>\n",
       "      <th>match_api_id</th>\n",
       "      <th>team</th>\n",
       "      <th>shoton_no_goal</th>\n",
       "    </tr>\n",
       "  </thead>\n",
       "  <tbody>\n",
       "    <tr>\n",
       "      <th>0</th>\n",
       "      <td>489042</td>\n",
       "      <td>10260</td>\n",
       "      <td>11.0</td>\n",
       "    </tr>\n",
       "    <tr>\n",
       "      <th>1</th>\n",
       "      <td>489043</td>\n",
       "      <td>9825</td>\n",
       "      <td>12.0</td>\n",
       "    </tr>\n",
       "    <tr>\n",
       "      <th>2</th>\n",
       "      <td>489044</td>\n",
       "      <td>8472</td>\n",
       "      <td>4.0</td>\n",
       "    </tr>\n",
       "    <tr>\n",
       "      <th>3</th>\n",
       "      <td>489045</td>\n",
       "      <td>8654</td>\n",
       "      <td>5.0</td>\n",
       "    </tr>\n",
       "    <tr>\n",
       "      <th>4</th>\n",
       "      <td>489046</td>\n",
       "      <td>10252</td>\n",
       "      <td>5.0</td>\n",
       "    </tr>\n",
       "  </tbody>\n",
       "</table>\n",
       "</div>"
      ],
      "text/plain": [
       "   match_api_id   team  shoton_no_goal\n",
       "0        489042  10260            11.0\n",
       "1        489043   9825            12.0\n",
       "2        489044   8472             4.0\n",
       "3        489045   8654             5.0\n",
       "4        489046  10252             5.0"
      ]
     },
     "execution_count": 16,
     "metadata": {},
     "output_type": "execute_result"
    }
   ],
   "source": [
    "# Replace shoton = NaN with 0\n",
    "shoton_team = shoton_team.fillna(0)\n",
    "\n",
    "print(shoton_team.info())\n",
    "shoton_team.head()"
   ]
  },
  {
   "cell_type": "markdown",
   "metadata": {},
   "source": [
    "#### 1.3 No. of Shotoffs in Each Match for Each Team\n",
    "Load shotoff event data that were extracted from match table in section 3."
   ]
  },
  {
   "cell_type": "code",
   "execution_count": 17,
   "metadata": {},
   "outputs": [
    {
     "name": "stdout",
     "output_type": "stream",
     "text": [
      "Successfully reload pre-saved shotoff.data from local disk.\n"
     ]
    }
   ],
   "source": [
    "try:\n",
    "    shotoff=pd.read_pickle(os.path.join(data_folder, 'shotoff.data'))\n",
    "    print('Successfully reload pre-saved shotoff.data from local disk.')\n",
    "except Exception as e:\n",
    "    print('Unable to reload pre-saved shotoff.data.')"
   ]
  },
  {
   "cell_type": "code",
   "execution_count": 18,
   "metadata": {},
   "outputs": [
    {
     "name": "stdout",
     "output_type": "stream",
     "text": [
      "<class 'pandas.core.frame.DataFrame'>\n",
      "RangeIndex: 95303 entries, 0 to 95302\n",
      "Data columns (total 10 columns):\n",
      "elapsed         95303 non-null int64\n",
      "elapsed_plus    5972 non-null float64\n",
      "id              95303 non-null int64\n",
      "latitude        42206 non-null float64\n",
      "longitude       42206 non-null float64\n",
      "match_api_id    95303 non-null int64\n",
      "player1         94659 non-null float64\n",
      "subtype         95114 non-null object\n",
      "team            95246 non-null float64\n",
      "type            95303 non-null object\n",
      "dtypes: float64(5), int64(3), object(2)\n",
      "memory usage: 7.3+ MB\n",
      "None\n"
     ]
    }
   ],
   "source": [
    "print(shotoff.info())"
   ]
  },
  {
   "cell_type": "markdown",
   "metadata": {},
   "source": [
    "Also drop records with team = NaN."
   ]
  },
  {
   "cell_type": "code",
   "execution_count": 19,
   "metadata": {},
   "outputs": [
    {
     "name": "stdout",
     "output_type": "stream",
     "text": [
      "<class 'pandas.core.frame.DataFrame'>\n",
      "Int64Index: 95246 entries, 0 to 95302\n",
      "Data columns (total 10 columns):\n",
      "elapsed         95246 non-null int64\n",
      "elapsed_plus    5970 non-null float64\n",
      "id              95246 non-null int64\n",
      "latitude        42206 non-null float64\n",
      "longitude       42206 non-null float64\n",
      "match_api_id    95246 non-null int64\n",
      "player1         94659 non-null float64\n",
      "subtype         95060 non-null object\n",
      "team            95246 non-null float64\n",
      "type            95246 non-null object\n",
      "dtypes: float64(5), int64(3), object(2)\n",
      "memory usage: 8.0+ MB\n",
      "None\n"
     ]
    }
   ],
   "source": [
    "shotoff = shotoff.dropna(subset=['team'])\n",
    "print(shotoff.info())"
   ]
  },
  {
   "cell_type": "markdown",
   "metadata": {},
   "source": [
    "Transform shotoff events into numbers of shotoff for teams"
   ]
  },
  {
   "cell_type": "code",
   "execution_count": 20,
   "metadata": {},
   "outputs": [
    {
     "data": {
      "text/html": [
       "<div>\n",
       "<style>\n",
       "    .dataframe thead tr:only-child th {\n",
       "        text-align: right;\n",
       "    }\n",
       "\n",
       "    .dataframe thead th {\n",
       "        text-align: left;\n",
       "    }\n",
       "\n",
       "    .dataframe tbody tr th {\n",
       "        vertical-align: top;\n",
       "    }\n",
       "</style>\n",
       "<table border=\"1\" class=\"dataframe\">\n",
       "  <thead>\n",
       "    <tr style=\"text-align: right;\">\n",
       "      <th></th>\n",
       "      <th>match_api_id</th>\n",
       "      <th>team</th>\n",
       "      <th>shotoff</th>\n",
       "    </tr>\n",
       "  </thead>\n",
       "  <tbody>\n",
       "    <tr>\n",
       "      <th>0</th>\n",
       "      <td>489042</td>\n",
       "      <td>10260.0</td>\n",
       "      <td>10</td>\n",
       "    </tr>\n",
       "    <tr>\n",
       "      <th>1</th>\n",
       "      <td>489042</td>\n",
       "      <td>10261.0</td>\n",
       "      <td>9</td>\n",
       "    </tr>\n",
       "    <tr>\n",
       "      <th>2</th>\n",
       "      <td>489043</td>\n",
       "      <td>8659.0</td>\n",
       "      <td>3</td>\n",
       "    </tr>\n",
       "    <tr>\n",
       "      <th>3</th>\n",
       "      <td>489043</td>\n",
       "      <td>9825.0</td>\n",
       "      <td>13</td>\n",
       "    </tr>\n",
       "    <tr>\n",
       "      <th>4</th>\n",
       "      <td>489044</td>\n",
       "      <td>8472.0</td>\n",
       "      <td>3</td>\n",
       "    </tr>\n",
       "  </tbody>\n",
       "</table>\n",
       "</div>"
      ],
      "text/plain": [
       "   match_api_id     team  shotoff\n",
       "0        489042  10260.0       10\n",
       "1        489042  10261.0        9\n",
       "2        489043   8659.0        3\n",
       "3        489043   9825.0       13\n",
       "4        489044   8472.0        3"
      ]
     },
     "execution_count": 20,
     "metadata": {},
     "output_type": "execute_result"
    }
   ],
   "source": [
    "shotoff_team = shotoff[['match_api_id','team','id']].groupby(by=['match_api_id','team'],as_index=False).count()\n",
    "shotoff_team = shotoff_team.rename(columns={'id': 'shotoff'})\n",
    "shotoff_team.head()"
   ]
  },
  {
   "cell_type": "code",
   "execution_count": 21,
   "metadata": {},
   "outputs": [
    {
     "name": "stdout",
     "output_type": "stream",
     "text": [
      "<class 'pandas.core.frame.DataFrame'>\n",
      "Int64Index: 16926 entries, 0 to 16925\n",
      "Data columns (total 3 columns):\n",
      "match_api_id    16926 non-null int64\n",
      "team            16926 non-null object\n",
      "shotoff         16731 non-null float64\n",
      "dtypes: float64(1), int64(1), object(1)\n",
      "memory usage: 528.9+ KB\n"
     ]
    }
   ],
   "source": [
    "# Find out all teams shown in matches with all match ids in shotoff_team table\n",
    "shotoff_team = pd.merge(match_team[match_team.match_api_id.isin(shotoff_team.match_api_id)], shotoff_team,\n",
    "                        how='left',on=['match_api_id','team'])[['match_api_id','team','shotoff']]\n",
    "shotoff_team.info()"
   ]
  },
  {
   "cell_type": "markdown",
   "metadata": {},
   "source": [
    "Also add shotoff=0 for NaN."
   ]
  },
  {
   "cell_type": "code",
   "execution_count": 22,
   "metadata": {},
   "outputs": [
    {
     "name": "stdout",
     "output_type": "stream",
     "text": [
      "<class 'pandas.core.frame.DataFrame'>\n",
      "Int64Index: 16926 entries, 0 to 16925\n",
      "Data columns (total 3 columns):\n",
      "match_api_id    16926 non-null int64\n",
      "team            16926 non-null int64\n",
      "shotoff         16926 non-null float64\n",
      "dtypes: float64(1), int64(2)\n",
      "memory usage: 528.9 KB\n",
      "None\n"
     ]
    }
   ],
   "source": [
    "# Replace shotoff = NaN with 0\n",
    "shotoff_team = shotoff_team.fillna(0)\n",
    "\n",
    "print(shotoff_team.info())"
   ]
  },
  {
   "cell_type": "markdown",
   "metadata": {},
   "source": [
    "#### 1.4 No. of Cards in Each Match for Each Team\n",
    "Load card event data that were extracted from match table in section 3."
   ]
  },
  {
   "cell_type": "code",
   "execution_count": 23,
   "metadata": {},
   "outputs": [
    {
     "name": "stdout",
     "output_type": "stream",
     "text": [
      "Successfully reload pre-saved card.data from local disk.\n"
     ]
    }
   ],
   "source": [
    "try:\n",
    "    card = pd.read_pickle(os.path.join(data_folder, 'card.data'))\n",
    "    print('Successfully reload pre-saved card.data from local disk.')\n",
    "except Exception as e:\n",
    "    print('Unable to reload pre-saved card.data.')"
   ]
  },
  {
   "cell_type": "code",
   "execution_count": 24,
   "metadata": {},
   "outputs": [
    {
     "name": "stdout",
     "output_type": "stream",
     "text": [
      "<class 'pandas.core.frame.DataFrame'>\n",
      "Index: 62114 entries, 0 to 62113\n",
      "Data columns (total 9 columns):\n",
      "cardtype        61509 non-null object\n",
      "elapsed         62114 non-null int64\n",
      "elapsed_plus    3482 non-null float64\n",
      "id              62114 non-null int64\n",
      "match_api_id    62114 non-null int64\n",
      "player1         61791 non-null float64\n",
      "subtype         18864 non-null object\n",
      "team            61794 non-null float64\n",
      "type            62114 non-null object\n",
      "dtypes: float64(3), int64(3), object(3)\n",
      "memory usage: 4.7+ MB\n",
      "None\n"
     ]
    }
   ],
   "source": [
    "print(card.info())"
   ]
  },
  {
   "cell_type": "markdown",
   "metadata": {},
   "source": [
    "Also drop records with team = NaN."
   ]
  },
  {
   "cell_type": "code",
   "execution_count": 25,
   "metadata": {},
   "outputs": [
    {
     "name": "stdout",
     "output_type": "stream",
     "text": [
      "<class 'pandas.core.frame.DataFrame'>\n",
      "Index: 61794 entries, 0 to 62113\n",
      "Data columns (total 9 columns):\n",
      "cardtype        61509 non-null object\n",
      "elapsed         61794 non-null int64\n",
      "elapsed_plus    3457 non-null float64\n",
      "id              61794 non-null int64\n",
      "match_api_id    61794 non-null int64\n",
      "player1         61791 non-null float64\n",
      "subtype         18789 non-null object\n",
      "team            61794 non-null float64\n",
      "type            61794 non-null object\n",
      "dtypes: float64(3), int64(3), object(3)\n",
      "memory usage: 4.7+ MB\n"
     ]
    }
   ],
   "source": [
    "card = card.dropna(subset=['team'])\n",
    "card.info()"
   ]
  },
  {
   "cell_type": "markdown",
   "metadata": {},
   "source": [
    "Transform card events into numbers of card for teams"
   ]
  },
  {
   "cell_type": "code",
   "execution_count": 26,
   "metadata": {},
   "outputs": [
    {
     "data": {
      "text/html": [
       "<div>\n",
       "<style>\n",
       "    .dataframe thead tr:only-child th {\n",
       "        text-align: right;\n",
       "    }\n",
       "\n",
       "    .dataframe thead th {\n",
       "        text-align: left;\n",
       "    }\n",
       "\n",
       "    .dataframe tbody tr th {\n",
       "        vertical-align: top;\n",
       "    }\n",
       "</style>\n",
       "<table border=\"1\" class=\"dataframe\">\n",
       "  <thead>\n",
       "    <tr style=\"text-align: right;\">\n",
       "      <th></th>\n",
       "      <th>match_api_id</th>\n",
       "      <th>team</th>\n",
       "      <th>card</th>\n",
       "    </tr>\n",
       "  </thead>\n",
       "  <tbody>\n",
       "    <tr>\n",
       "      <th>0</th>\n",
       "      <td>489042</td>\n",
       "      <td>10260.0</td>\n",
       "      <td>3</td>\n",
       "    </tr>\n",
       "    <tr>\n",
       "      <th>1</th>\n",
       "      <td>489044</td>\n",
       "      <td>8650.0</td>\n",
       "      <td>2</td>\n",
       "    </tr>\n",
       "    <tr>\n",
       "      <th>2</th>\n",
       "      <td>489045</td>\n",
       "      <td>8528.0</td>\n",
       "      <td>1</td>\n",
       "    </tr>\n",
       "    <tr>\n",
       "      <th>3</th>\n",
       "      <td>489045</td>\n",
       "      <td>8654.0</td>\n",
       "      <td>2</td>\n",
       "    </tr>\n",
       "    <tr>\n",
       "      <th>4</th>\n",
       "      <td>489046</td>\n",
       "      <td>8456.0</td>\n",
       "      <td>1</td>\n",
       "    </tr>\n",
       "  </tbody>\n",
       "</table>\n",
       "</div>"
      ],
      "text/plain": [
       "   match_api_id     team  card\n",
       "0        489042  10260.0     3\n",
       "1        489044   8650.0     2\n",
       "2        489045   8528.0     1\n",
       "3        489045   8654.0     2\n",
       "4        489046   8456.0     1"
      ]
     },
     "execution_count": 26,
     "metadata": {},
     "output_type": "execute_result"
    }
   ],
   "source": [
    "card_team = card[['match_api_id','team','id']].groupby(by=['match_api_id','team'],as_index=False).count()\n",
    "card_team = card_team.rename(columns={'id': 'card'})\n",
    "card_team.head()"
   ]
  },
  {
   "cell_type": "code",
   "execution_count": 27,
   "metadata": {},
   "outputs": [
    {
     "name": "stdout",
     "output_type": "stream",
     "text": [
      "<class 'pandas.core.frame.DataFrame'>\n",
      "Int64Index: 27546 entries, 0 to 27545\n",
      "Data columns (total 3 columns):\n",
      "match_api_id    27546 non-null int64\n",
      "team            27546 non-null object\n",
      "card            25118 non-null float64\n",
      "dtypes: float64(1), int64(1), object(1)\n",
      "memory usage: 860.8+ KB\n"
     ]
    }
   ],
   "source": [
    "# Find out all teams shown in matches with all match ids in card_team table\n",
    "card_team = pd.merge(match_team[match_team.match_api_id.isin(card_team.match_api_id)], card_team,\n",
    "                     how='left',on=['match_api_id','team'])[['match_api_id','team','card']]\n",
    "card_team.info()"
   ]
  },
  {
   "cell_type": "markdown",
   "metadata": {},
   "source": [
    "Also add card=0 for NaN."
   ]
  },
  {
   "cell_type": "code",
   "execution_count": 28,
   "metadata": {},
   "outputs": [
    {
     "name": "stdout",
     "output_type": "stream",
     "text": [
      "<class 'pandas.core.frame.DataFrame'>\n",
      "Int64Index: 27546 entries, 0 to 27545\n",
      "Data columns (total 3 columns):\n",
      "match_api_id    27546 non-null int64\n",
      "team            27546 non-null int64\n",
      "card            27546 non-null float64\n",
      "dtypes: float64(1), int64(2)\n",
      "memory usage: 860.8 KB\n",
      "None\n"
     ]
    }
   ],
   "source": [
    "# Replace card = NaN with 0\n",
    "card_team = card_team.fillna(0)\n",
    "print(card_team.info())"
   ]
  },
  {
   "cell_type": "markdown",
   "metadata": {},
   "source": [
    "#### 1.5 No. of Crosses in Each Match for Each Team\n",
    "Load cross event data that were extracted from match table in section 3."
   ]
  },
  {
   "cell_type": "code",
   "execution_count": 30,
   "metadata": {},
   "outputs": [
    {
     "name": "stdout",
     "output_type": "stream",
     "text": [
      "Successfully reload pre-saved cross.data from local disk.\n"
     ]
    }
   ],
   "source": [
    "try:\n",
    "    cross = pd.read_pickle(os.path.join(data_folder, 'cross.data'))\n",
    "    print('Successfully reload pre-saved cross.data from local disk.')\n",
    "except Exception as e:\n",
    "    print('Unable to reload pre-saved cross.data.')"
   ]
  },
  {
   "cell_type": "code",
   "execution_count": 31,
   "metadata": {},
   "outputs": [
    {
     "name": "stdout",
     "output_type": "stream",
     "text": [
      "<class 'pandas.core.frame.DataFrame'>\n",
      "Index: 284775 entries, 0 to 284774\n",
      "Data columns (total 8 columns):\n",
      "elapsed         284775 non-null int64\n",
      "elapsed_plus    16119 non-null float64\n",
      "id              284775 non-null int64\n",
      "match_api_id    284775 non-null int64\n",
      "player1         271419 non-null float64\n",
      "subtype         284775 non-null object\n",
      "team            284594 non-null float64\n",
      "type            284775 non-null object\n",
      "dtypes: float64(3), int64(3), object(2)\n",
      "memory usage: 19.6+ MB\n",
      "None\n"
     ]
    }
   ],
   "source": [
    "print(cross.info())"
   ]
  },
  {
   "cell_type": "markdown",
   "metadata": {},
   "source": [
    "Also drop records with team = NaN."
   ]
  },
  {
   "cell_type": "code",
   "execution_count": 32,
   "metadata": {},
   "outputs": [
    {
     "name": "stdout",
     "output_type": "stream",
     "text": [
      "<class 'pandas.core.frame.DataFrame'>\n",
      "Index: 284594 entries, 0 to 284774\n",
      "Data columns (total 8 columns):\n",
      "elapsed         284594 non-null int64\n",
      "elapsed_plus    16105 non-null float64\n",
      "id              284594 non-null int64\n",
      "match_api_id    284594 non-null int64\n",
      "player1         271417 non-null float64\n",
      "subtype         284594 non-null object\n",
      "team            284594 non-null float64\n",
      "type            284594 non-null object\n",
      "dtypes: float64(3), int64(3), object(2)\n",
      "memory usage: 19.5+ MB\n"
     ]
    }
   ],
   "source": [
    "cross = cross.dropna(subset=['team'])\n",
    "cross.info()"
   ]
  },
  {
   "cell_type": "markdown",
   "metadata": {},
   "source": [
    "Transform cross events into numbers of cross for teams"
   ]
  },
  {
   "cell_type": "code",
   "execution_count": 33,
   "metadata": {},
   "outputs": [
    {
     "name": "stdout",
     "output_type": "stream",
     "text": [
      "<class 'pandas.core.frame.DataFrame'>\n",
      "Int64Index: 16921 entries, 0 to 16920\n",
      "Data columns (total 3 columns):\n",
      "match_api_id    16921 non-null int64\n",
      "team            16921 non-null float64\n",
      "cross           16921 non-null int64\n",
      "dtypes: float64(1), int64(2)\n",
      "memory usage: 528.8 KB\n",
      "None\n"
     ]
    }
   ],
   "source": [
    "cross_team = cross[['match_api_id','team','id']].groupby(by=['match_api_id','team'],as_index=False).count()\n",
    "cross_team = cross_team.rename(columns={'id': 'cross'})\n",
    "print(cross_team.info())"
   ]
  },
  {
   "cell_type": "code",
   "execution_count": 34,
   "metadata": {},
   "outputs": [
    {
     "name": "stdout",
     "output_type": "stream",
     "text": [
      "<class 'pandas.core.frame.DataFrame'>\n",
      "Int64Index: 16930 entries, 0 to 16929\n",
      "Data columns (total 3 columns):\n",
      "match_api_id    16930 non-null int64\n",
      "team            16930 non-null object\n",
      "cross           16921 non-null float64\n",
      "dtypes: float64(1), int64(1), object(1)\n",
      "memory usage: 529.1+ KB\n"
     ]
    }
   ],
   "source": [
    "# Find out all teams shown in matches with all match ids in cross_team table\n",
    "cross_team = pd.merge(match_team[match_team.match_api_id.isin(cross_team.match_api_id)], cross_team,\n",
    "                      how='left',on=['match_api_id','team'])[['match_api_id','team','cross']]\n",
    "cross_team.info()"
   ]
  },
  {
   "cell_type": "markdown",
   "metadata": {},
   "source": [
    "Also add cross=0 for NaN."
   ]
  },
  {
   "cell_type": "code",
   "execution_count": 35,
   "metadata": {},
   "outputs": [
    {
     "name": "stdout",
     "output_type": "stream",
     "text": [
      "<class 'pandas.core.frame.DataFrame'>\n",
      "Int64Index: 16930 entries, 0 to 16929\n",
      "Data columns (total 3 columns):\n",
      "match_api_id    16930 non-null int64\n",
      "team            16930 non-null int64\n",
      "cross           16930 non-null float64\n",
      "dtypes: float64(1), int64(2)\n",
      "memory usage: 529.1 KB\n",
      "None\n"
     ]
    }
   ],
   "source": [
    "cross_team = cross_team.fillna(0)\n",
    "print(cross_team.info())"
   ]
  },
  {
   "cell_type": "markdown",
   "metadata": {},
   "source": [
    "#### 1.6 No. of Foulcommits in Each Match for Each Team\n",
    "Load foulcommit event data that were extracted from match table in section 3."
   ]
  },
  {
   "cell_type": "code",
   "execution_count": 36,
   "metadata": {},
   "outputs": [
    {
     "name": "stdout",
     "output_type": "stream",
     "text": [
      "Successfully reload pre-saved foulcommit.data from local disk.\n"
     ]
    }
   ],
   "source": [
    "try:\n",
    "    foulcommit = pd.read_pickle(os.path.join(data_folder, 'foulcommit.data'))\n",
    "    print('Successfully reload pre-saved foulcommit.data from local disk.')\n",
    "except Exception as e:\n",
    "    print('Unable to reload pre-saved foulcommit.data.')"
   ]
  },
  {
   "cell_type": "code",
   "execution_count": 37,
   "metadata": {},
   "outputs": [
    {
     "name": "stdout",
     "output_type": "stream",
     "text": [
      "<class 'pandas.core.frame.DataFrame'>\n",
      "RangeIndex: 219234 entries, 0 to 219233\n",
      "Data columns (total 9 columns):\n",
      "elapsed         219234 non-null int64\n",
      "elapsed_plus    13132 non-null float64\n",
      "id              219234 non-null int64\n",
      "match_api_id    219234 non-null int64\n",
      "player1         211405 non-null float64\n",
      "player2         190897 non-null float64\n",
      "subtype         116380 non-null object\n",
      "team            218824 non-null float64\n",
      "type            219234 non-null object\n",
      "dtypes: float64(4), int64(3), object(2)\n",
      "memory usage: 15.1+ MB\n",
      "None\n"
     ]
    }
   ],
   "source": [
    "print(foulcommit.info())"
   ]
  },
  {
   "cell_type": "markdown",
   "metadata": {},
   "source": [
    "Also drop records with team = NaN."
   ]
  },
  {
   "cell_type": "code",
   "execution_count": 38,
   "metadata": {},
   "outputs": [
    {
     "name": "stdout",
     "output_type": "stream",
     "text": [
      "<class 'pandas.core.frame.DataFrame'>\n",
      "Int64Index: 218824 entries, 0 to 219233\n",
      "Data columns (total 9 columns):\n",
      "elapsed         218824 non-null int64\n",
      "elapsed_plus    13101 non-null float64\n",
      "id              218824 non-null int64\n",
      "match_api_id    218824 non-null int64\n",
      "player1         211404 non-null float64\n",
      "player2         190896 non-null float64\n",
      "subtype         116209 non-null object\n",
      "team            218824 non-null float64\n",
      "type            218824 non-null object\n",
      "dtypes: float64(4), int64(3), object(2)\n",
      "memory usage: 16.7+ MB\n"
     ]
    }
   ],
   "source": [
    "foulcommit = foulcommit.dropna(subset=['team'])\n",
    "foulcommit.info()"
   ]
  },
  {
   "cell_type": "markdown",
   "metadata": {},
   "source": [
    "Transform foul commit events into numbers of foulcommit for teams"
   ]
  },
  {
   "cell_type": "code",
   "execution_count": 39,
   "metadata": {},
   "outputs": [
    {
     "data": {
      "text/html": [
       "<div>\n",
       "<style>\n",
       "    .dataframe thead tr:only-child th {\n",
       "        text-align: right;\n",
       "    }\n",
       "\n",
       "    .dataframe thead th {\n",
       "        text-align: left;\n",
       "    }\n",
       "\n",
       "    .dataframe tbody tr th {\n",
       "        vertical-align: top;\n",
       "    }\n",
       "</style>\n",
       "<table border=\"1\" class=\"dataframe\">\n",
       "  <thead>\n",
       "    <tr style=\"text-align: right;\">\n",
       "      <th></th>\n",
       "      <th>match_api_id</th>\n",
       "      <th>team</th>\n",
       "      <th>foulcommit</th>\n",
       "    </tr>\n",
       "  </thead>\n",
       "  <tbody>\n",
       "    <tr>\n",
       "      <th>0</th>\n",
       "      <td>489042</td>\n",
       "      <td>10260.0</td>\n",
       "      <td>16</td>\n",
       "    </tr>\n",
       "    <tr>\n",
       "      <th>1</th>\n",
       "      <td>489042</td>\n",
       "      <td>10261.0</td>\n",
       "      <td>11</td>\n",
       "    </tr>\n",
       "    <tr>\n",
       "      <th>2</th>\n",
       "      <td>489043</td>\n",
       "      <td>8659.0</td>\n",
       "      <td>9</td>\n",
       "    </tr>\n",
       "    <tr>\n",
       "      <th>3</th>\n",
       "      <td>489043</td>\n",
       "      <td>9825.0</td>\n",
       "      <td>11</td>\n",
       "    </tr>\n",
       "    <tr>\n",
       "      <th>4</th>\n",
       "      <td>489044</td>\n",
       "      <td>8472.0</td>\n",
       "      <td>13</td>\n",
       "    </tr>\n",
       "  </tbody>\n",
       "</table>\n",
       "</div>"
      ],
      "text/plain": [
       "   match_api_id     team  foulcommit\n",
       "0        489042  10260.0          16\n",
       "1        489042  10261.0          11\n",
       "2        489043   8659.0           9\n",
       "3        489043   9825.0          11\n",
       "4        489044   8472.0          13"
      ]
     },
     "execution_count": 39,
     "metadata": {},
     "output_type": "execute_result"
    }
   ],
   "source": [
    "foulcommit_team = foulcommit[['match_api_id','team','id']].groupby(by=['match_api_id','team'],as_index=False).count()\n",
    "foulcommit_team = foulcommit_team.rename(columns={'id': 'foulcommit'})\n",
    "foulcommit_team.head()"
   ]
  },
  {
   "cell_type": "code",
   "execution_count": 40,
   "metadata": {},
   "outputs": [
    {
     "name": "stdout",
     "output_type": "stream",
     "text": [
      "<class 'pandas.core.frame.DataFrame'>\n",
      "Int64Index: 16930 entries, 0 to 16929\n",
      "Data columns (total 3 columns):\n",
      "match_api_id    16930 non-null int64\n",
      "team            16930 non-null object\n",
      "foulcommit      16927 non-null float64\n",
      "dtypes: float64(1), int64(1), object(1)\n",
      "memory usage: 529.1+ KB\n"
     ]
    }
   ],
   "source": [
    "# Find out all teams shown in matches with all match ids in foulcommit_team table\n",
    "foulcommit_team = pd.merge(match_team[match_team.match_api_id.isin(foulcommit.match_api_id)], foulcommit_team, how='left', on=['match_api_id','team'])[['match_api_id','team','foulcommit']]\n",
    "foulcommit_team.info()"
   ]
  },
  {
   "cell_type": "markdown",
   "metadata": {},
   "source": [
    "Also add cross=0 for NaN."
   ]
  },
  {
   "cell_type": "code",
   "execution_count": 41,
   "metadata": {},
   "outputs": [
    {
     "name": "stdout",
     "output_type": "stream",
     "text": [
      "<class 'pandas.core.frame.DataFrame'>\n",
      "Int64Index: 16930 entries, 0 to 16929\n",
      "Data columns (total 3 columns):\n",
      "match_api_id    16930 non-null int64\n",
      "team            16930 non-null int64\n",
      "foulcommit      16930 non-null float64\n",
      "dtypes: float64(1), int64(2)\n",
      "memory usage: 529.1 KB\n",
      "None\n"
     ]
    }
   ],
   "source": [
    "foulcommit_team = foulcommit_team.fillna(0)\n",
    "print(foulcommit_team.info())"
   ]
  },
  {
   "cell_type": "markdown",
   "metadata": {},
   "source": [
    "#### 1.7 No. of Corners in Each Match for Each Team\n",
    "Load corner event data that were extracted from match table in section 3."
   ]
  },
  {
   "cell_type": "code",
   "execution_count": 42,
   "metadata": {},
   "outputs": [
    {
     "name": "stdout",
     "output_type": "stream",
     "text": [
      "Successfully reload pre-saved corner.data from local disk.\n"
     ]
    }
   ],
   "source": [
    "try:\n",
    "    corner = pd.read_pickle(os.path.join(data_folder, 'corner.data'))\n",
    "    print('Successfully reload pre-saved corner.data from local disk.')\n",
    "except Exception as e:\n",
    "    print('Unable to reload pre-saved corner.data.')"
   ]
  },
  {
   "cell_type": "code",
   "execution_count": 43,
   "metadata": {},
   "outputs": [
    {
     "name": "stdout",
     "output_type": "stream",
     "text": [
      "<class 'pandas.core.frame.DataFrame'>\n",
      "RangeIndex: 87839 entries, 0 to 87838\n",
      "Data columns (total 8 columns):\n",
      "elapsed         87839 non-null int64\n",
      "elapsed_plus    5603 non-null float64\n",
      "id              87839 non-null int64\n",
      "match_api_id    87839 non-null int64\n",
      "player1         85376 non-null float64\n",
      "subtype         87676 non-null object\n",
      "team            87753 non-null float64\n",
      "type            87839 non-null object\n",
      "dtypes: float64(3), int64(3), object(2)\n",
      "memory usage: 5.4+ MB\n",
      "None\n"
     ]
    }
   ],
   "source": [
    "print(corner.info())"
   ]
  },
  {
   "cell_type": "markdown",
   "metadata": {},
   "source": [
    "Also drop records with team is NaN."
   ]
  },
  {
   "cell_type": "code",
   "execution_count": 44,
   "metadata": {},
   "outputs": [
    {
     "name": "stdout",
     "output_type": "stream",
     "text": [
      "<class 'pandas.core.frame.DataFrame'>\n",
      "Int64Index: 87753 entries, 0 to 87838\n",
      "Data columns (total 8 columns):\n",
      "elapsed         87753 non-null int64\n",
      "elapsed_plus    5597 non-null float64\n",
      "id              87753 non-null int64\n",
      "match_api_id    87753 non-null int64\n",
      "player1         85376 non-null float64\n",
      "subtype         87600 non-null object\n",
      "team            87753 non-null float64\n",
      "type            87753 non-null object\n",
      "dtypes: float64(3), int64(3), object(2)\n",
      "memory usage: 6.0+ MB\n"
     ]
    }
   ],
   "source": [
    "corner = corner.dropna(subset=['team'])\n",
    "corner.info()"
   ]
  },
  {
   "cell_type": "markdown",
   "metadata": {},
   "source": [
    "Transform corner events into number of corners for teams"
   ]
  },
  {
   "cell_type": "code",
   "execution_count": 45,
   "metadata": {},
   "outputs": [
    {
     "data": {
      "text/html": [
       "<div>\n",
       "<style>\n",
       "    .dataframe thead tr:only-child th {\n",
       "        text-align: right;\n",
       "    }\n",
       "\n",
       "    .dataframe thead th {\n",
       "        text-align: left;\n",
       "    }\n",
       "\n",
       "    .dataframe tbody tr th {\n",
       "        vertical-align: top;\n",
       "    }\n",
       "</style>\n",
       "<table border=\"1\" class=\"dataframe\">\n",
       "  <thead>\n",
       "    <tr style=\"text-align: right;\">\n",
       "      <th></th>\n",
       "      <th>match_api_id</th>\n",
       "      <th>team</th>\n",
       "      <th>corner</th>\n",
       "    </tr>\n",
       "  </thead>\n",
       "  <tbody>\n",
       "    <tr>\n",
       "      <th>0</th>\n",
       "      <td>489042</td>\n",
       "      <td>10260.0</td>\n",
       "      <td>6</td>\n",
       "    </tr>\n",
       "    <tr>\n",
       "      <th>1</th>\n",
       "      <td>489042</td>\n",
       "      <td>10261.0</td>\n",
       "      <td>6</td>\n",
       "    </tr>\n",
       "    <tr>\n",
       "      <th>2</th>\n",
       "      <td>489043</td>\n",
       "      <td>8659.0</td>\n",
       "      <td>5</td>\n",
       "    </tr>\n",
       "    <tr>\n",
       "      <th>3</th>\n",
       "      <td>489043</td>\n",
       "      <td>9825.0</td>\n",
       "      <td>7</td>\n",
       "    </tr>\n",
       "    <tr>\n",
       "      <th>4</th>\n",
       "      <td>489044</td>\n",
       "      <td>8472.0</td>\n",
       "      <td>1</td>\n",
       "    </tr>\n",
       "  </tbody>\n",
       "</table>\n",
       "</div>"
      ],
      "text/plain": [
       "   match_api_id     team  corner\n",
       "0        489042  10260.0       6\n",
       "1        489042  10261.0       6\n",
       "2        489043   8659.0       5\n",
       "3        489043   9825.0       7\n",
       "4        489044   8472.0       1"
      ]
     },
     "execution_count": 45,
     "metadata": {},
     "output_type": "execute_result"
    }
   ],
   "source": [
    "corner_team = corner[['match_api_id','team','id']].groupby(by=['match_api_id','team'],as_index=False).count()\n",
    "corner_team = corner_team.rename(columns={'id': 'corner'})\n",
    "corner_team.head()"
   ]
  },
  {
   "cell_type": "markdown",
   "metadata": {},
   "source": [
    "Delete 1 mistaken record:"
   ]
  },
  {
   "cell_type": "code",
   "execution_count": 46,
   "metadata": {},
   "outputs": [
    {
     "name": "stdout",
     "output_type": "stream",
     "text": [
      "<class 'pandas.core.frame.DataFrame'>\n",
      "Int64Index: 16615 entries, 0 to 16615\n",
      "Data columns (total 3 columns):\n",
      "match_api_id    16615 non-null int64\n",
      "team            16615 non-null float64\n",
      "corner          16615 non-null int64\n",
      "dtypes: float64(1), int64(2)\n",
      "memory usage: 519.2 KB\n",
      "None\n"
     ]
    }
   ],
   "source": [
    "# match id=530123 has 3 team records, delete team=8472\n",
    "corner_team = corner_team[~((corner_team['match_api_id']==530123)&(corner_team['team']==8472))]\n",
    "print(corner_team.info())"
   ]
  },
  {
   "cell_type": "code",
   "execution_count": 47,
   "metadata": {},
   "outputs": [
    {
     "name": "stdout",
     "output_type": "stream",
     "text": [
      "<class 'pandas.core.frame.DataFrame'>\n",
      "Int64Index: 16928 entries, 0 to 16927\n",
      "Data columns (total 3 columns):\n",
      "match_api_id    16928 non-null int64\n",
      "team            16928 non-null object\n",
      "corner          16615 non-null float64\n",
      "dtypes: float64(1), int64(1), object(1)\n",
      "memory usage: 529.0+ KB\n"
     ]
    }
   ],
   "source": [
    "# Find out all teams shown in matches with all match ids in corner_team table\n",
    "corner_team = pd.merge(match_team[match_team.match_api_id.isin(corner_team.match_api_id)],corner_team,how='left',on=['match_api_id','team'])[['match_api_id','team','corner']]\n",
    "corner_team.info()"
   ]
  },
  {
   "cell_type": "markdown",
   "metadata": {},
   "source": [
    "Also add corner=0 for NaN."
   ]
  },
  {
   "cell_type": "code",
   "execution_count": 48,
   "metadata": {},
   "outputs": [
    {
     "name": "stdout",
     "output_type": "stream",
     "text": [
      "<class 'pandas.core.frame.DataFrame'>\n",
      "Int64Index: 16928 entries, 0 to 16927\n",
      "Data columns (total 3 columns):\n",
      "match_api_id    16928 non-null int64\n",
      "team            16928 non-null int64\n",
      "corner          16928 non-null float64\n",
      "dtypes: float64(1), int64(2)\n",
      "memory usage: 529.0 KB\n",
      "None\n"
     ]
    }
   ],
   "source": [
    "corner_team = corner_team.fillna(0)\n",
    "print(corner_team.info())"
   ]
  },
  {
   "cell_type": "markdown",
   "metadata": {},
   "source": [
    "#### 1.8 Possession in Each Match for Each Team\n",
    "Load possession event data that were extracted from match table in section 3."
   ]
  },
  {
   "cell_type": "code",
   "execution_count": 49,
   "metadata": {},
   "outputs": [
    {
     "name": "stdout",
     "output_type": "stream",
     "text": [
      "Successfully reload pre-saved possession.data from local disk.\n"
     ]
    }
   ],
   "source": [
    "try:\n",
    "    possession = pd.read_pickle(os.path.join(data_folder, 'possession.data'))\n",
    "    print('Successfully reload pre-saved possession.data from local disk.')\n",
    "except Exception as e:\n",
    "    print('Unable to reload pre-saved possession.data.')"
   ]
  },
  {
   "cell_type": "code",
   "execution_count": 50,
   "metadata": {},
   "outputs": [
    {
     "name": "stdout",
     "output_type": "stream",
     "text": [
      "<class 'pandas.core.frame.DataFrame'>\n",
      "RangeIndex: 34815 entries, 0 to 34814\n",
      "Data columns (total 8 columns):\n",
      "awaypos         34796 non-null float64\n",
      "elapsed         34815 non-null int64\n",
      "elapsed_plus    6320 non-null float64\n",
      "homepos         34796 non-null float64\n",
      "id              34815 non-null int64\n",
      "match_api_id    34815 non-null int64\n",
      "subtype         34815 non-null object\n",
      "type            34815 non-null object\n",
      "dtypes: float64(3), int64(3), object(2)\n",
      "memory usage: 2.1+ MB\n"
     ]
    }
   ],
   "source": [
    "possession.info()"
   ]
  },
  {
   "cell_type": "markdown",
   "metadata": {},
   "source": [
    "Drop records with homepos/awaypos is NaN."
   ]
  },
  {
   "cell_type": "code",
   "execution_count": 51,
   "metadata": {},
   "outputs": [
    {
     "name": "stdout",
     "output_type": "stream",
     "text": [
      "<class 'pandas.core.frame.DataFrame'>\n",
      "Int64Index: 34796 entries, 0 to 34814\n",
      "Data columns (total 8 columns):\n",
      "awaypos         34796 non-null float64\n",
      "elapsed         34796 non-null int64\n",
      "elapsed_plus    6317 non-null float64\n",
      "homepos         34796 non-null float64\n",
      "id              34796 non-null int64\n",
      "match_api_id    34796 non-null int64\n",
      "subtype         34796 non-null object\n",
      "type            34796 non-null object\n",
      "dtypes: float64(3), int64(3), object(2)\n",
      "memory usage: 2.4+ MB\n"
     ]
    }
   ],
   "source": [
    "possession = possession.dropna(subset=['homepos'])\n",
    "possession.info()"
   ]
  },
  {
   "cell_type": "markdown",
   "metadata": {},
   "source": [
    "Transform possession events into average possession for teams"
   ]
  },
  {
   "cell_type": "code",
   "execution_count": 52,
   "metadata": {},
   "outputs": [
    {
     "data": {
      "text/html": [
       "<div>\n",
       "<style>\n",
       "    .dataframe thead tr:only-child th {\n",
       "        text-align: right;\n",
       "    }\n",
       "\n",
       "    .dataframe thead th {\n",
       "        text-align: left;\n",
       "    }\n",
       "\n",
       "    .dataframe tbody tr th {\n",
       "        vertical-align: top;\n",
       "    }\n",
       "</style>\n",
       "<table border=\"1\" class=\"dataframe\">\n",
       "  <thead>\n",
       "    <tr style=\"text-align: right;\">\n",
       "      <th></th>\n",
       "      <th>match_api_id</th>\n",
       "      <th>awaypos</th>\n",
       "      <th>homepos</th>\n",
       "    </tr>\n",
       "  </thead>\n",
       "  <tbody>\n",
       "    <tr>\n",
       "      <th>0</th>\n",
       "      <td>489042</td>\n",
       "      <td>45.25</td>\n",
       "      <td>54.75</td>\n",
       "    </tr>\n",
       "    <tr>\n",
       "      <th>1</th>\n",
       "      <td>489043</td>\n",
       "      <td>35.75</td>\n",
       "      <td>64.25</td>\n",
       "    </tr>\n",
       "    <tr>\n",
       "      <th>2</th>\n",
       "      <td>489044</td>\n",
       "      <td>54.50</td>\n",
       "      <td>45.50</td>\n",
       "    </tr>\n",
       "    <tr>\n",
       "      <th>3</th>\n",
       "      <td>489045</td>\n",
       "      <td>50.25</td>\n",
       "      <td>49.75</td>\n",
       "    </tr>\n",
       "    <tr>\n",
       "      <th>4</th>\n",
       "      <td>489046</td>\n",
       "      <td>48.50</td>\n",
       "      <td>51.50</td>\n",
       "    </tr>\n",
       "  </tbody>\n",
       "</table>\n",
       "</div>"
      ],
      "text/plain": [
       "   match_api_id  awaypos  homepos\n",
       "0        489042    45.25    54.75\n",
       "1        489043    35.75    64.25\n",
       "2        489044    54.50    45.50\n",
       "3        489045    50.25    49.75\n",
       "4        489046    48.50    51.50"
      ]
     },
     "execution_count": 52,
     "metadata": {},
     "output_type": "execute_result"
    }
   ],
   "source": [
    "possession_team = possession[['match_api_id','awaypos','homepos']].groupby(by=['match_api_id'],as_index=False).mean()\n",
    "possession_team.head()"
   ]
  },
  {
   "cell_type": "code",
   "execution_count": 53,
   "metadata": {},
   "outputs": [
    {
     "name": "stdout",
     "output_type": "stream",
     "text": [
      "<class 'pandas.core.frame.DataFrame'>\n",
      "Int64Index: 8419 entries, 0 to 8418\n",
      "Data columns (total 3 columns):\n",
      "match_api_id    8419 non-null int64\n",
      "awaypos         8419 non-null float64\n",
      "homepos         8419 non-null float64\n",
      "dtypes: float64(2), int64(1)\n",
      "memory usage: 263.1 KB\n"
     ]
    }
   ],
   "source": [
    "possession_team.info()"
   ]
  },
  {
   "cell_type": "code",
   "execution_count": 54,
   "metadata": {},
   "outputs": [],
   "source": [
    "# Home team possession\n",
    "home_pos = possession_team[['match_api_id','homepos']]\n",
    "home_pos = pd.merge(home_team[home_team.match_api_id.isin(home_pos.match_api_id)], home_pos,\n",
    "                    how='left',on=['match_api_id'])[['match_api_id', 'team', 'homepos']]\n",
    "home_pos = home_pos.rename(index=str, columns={'homepos':'possession'})\n",
    "\n",
    "# Away team possession\n",
    "away_pos = possession_team[['match_api_id','awaypos']]\n",
    "away_pos = pd.merge(away_team[away_team.match_api_id.isin(away_pos.match_api_id)], away_pos,\n",
    "                    how='left',on=['match_api_id'])[['match_api_id', 'team', 'awaypos']]\n",
    "away_pos = away_pos.rename(index=str, columns={'awaypos':'possession'})\n",
    "\n",
    "# Glue home team and away team together\n",
    "possession_team = pd.concat([home_pos, away_pos],ignore_index=True)"
   ]
  },
  {
   "cell_type": "code",
   "execution_count": 55,
   "metadata": {},
   "outputs": [
    {
     "name": "stdout",
     "output_type": "stream",
     "text": [
      "<class 'pandas.core.frame.DataFrame'>\n",
      "RangeIndex: 16838 entries, 0 to 16837\n",
      "Data columns (total 3 columns):\n",
      "match_api_id    16838 non-null int64\n",
      "team            16838 non-null int64\n",
      "possession      16838 non-null float64\n",
      "dtypes: float64(1), int64(2)\n",
      "memory usage: 394.7 KB\n"
     ]
    }
   ],
   "source": [
    "possession_team.info()"
   ]
  },
  {
   "cell_type": "markdown",
   "metadata": {},
   "source": [
    "#### Add all together"
   ]
  },
  {
   "cell_type": "code",
   "execution_count": 56,
   "metadata": {},
   "outputs": [
    {
     "name": "stdout",
     "output_type": "stream",
     "text": [
      "<class 'pandas.core.frame.DataFrame'>\n",
      "Int64Index: 16248 entries, 0 to 16247\n",
      "Data columns (total 10 columns):\n",
      "match_api_id      16248 non-null int64\n",
      "team              16248 non-null int64\n",
      "cross             16248 non-null float64\n",
      "card              16248 non-null float64\n",
      "foulcommit        16248 non-null float64\n",
      "shoton_no_goal    16248 non-null float64\n",
      "shotoff           16248 non-null float64\n",
      "corner            16248 non-null float64\n",
      "possession        16248 non-null float64\n",
      "Ishometeam        16248 non-null int64\n",
      "dtypes: float64(7), int64(3)\n",
      "memory usage: 1.4 MB\n",
      "None\n"
     ]
    }
   ],
   "source": [
    "final_df_1 = pd.merge(cross_team,card_team,how='inner',on=['match_api_id','team'])\n",
    "final_df_2 = pd.merge(final_df_1,foulcommit_team,how='inner',on=['match_api_id','team'])\n",
    "final_df_3 = pd.merge(final_df_2,shoton_team,how='inner',on=['match_api_id','team'])\n",
    "final_df_4 = pd.merge(final_df_3,shotoff_team,how='inner',on=['match_api_id','team'])\n",
    "final_df_5 = pd.merge(final_df_4,corner_team,how='inner',on=['match_api_id','team'])\n",
    "final_df_6 = pd.merge(final_df_5,possession_team,how='inner',on=['match_api_id','team'])\n",
    "final_df_7 = pd.merge(final_df_6, match_team, how='inner', on=['match_api_id', 'team'])\n",
    "match_stats = final_df_7\n",
    "match_stats = match_stats.drop('goal', axis=1)\n",
    "\n",
    "print(match_stats.info())"
   ]
  },
  {
   "cell_type": "markdown",
   "metadata": {},
   "source": [
    "#### <a id='2'></a>2. Merge Team's Match Stats to Match Table\n",
    "#### 2.1 Add readbale details to match table\n",
    "#### 2.1.1 Substitute contry_id with country name "
   ]
  },
  {
   "cell_type": "code",
   "execution_count": 57,
   "metadata": {},
   "outputs": [
    {
     "data": {
      "text/html": [
       "<div>\n",
       "<style>\n",
       "    .dataframe thead tr:only-child th {\n",
       "        text-align: right;\n",
       "    }\n",
       "\n",
       "    .dataframe thead th {\n",
       "        text-align: left;\n",
       "    }\n",
       "\n",
       "    .dataframe tbody tr th {\n",
       "        vertical-align: top;\n",
       "    }\n",
       "</style>\n",
       "<table border=\"1\" class=\"dataframe\">\n",
       "  <thead>\n",
       "    <tr style=\"text-align: right;\">\n",
       "      <th></th>\n",
       "      <th>country_id</th>\n",
       "      <th>country</th>\n",
       "    </tr>\n",
       "  </thead>\n",
       "  <tbody>\n",
       "    <tr>\n",
       "      <th>0</th>\n",
       "      <td>1</td>\n",
       "      <td>Belgium</td>\n",
       "    </tr>\n",
       "    <tr>\n",
       "      <th>1</th>\n",
       "      <td>1729</td>\n",
       "      <td>England</td>\n",
       "    </tr>\n",
       "  </tbody>\n",
       "</table>\n",
       "</div>"
      ],
      "text/plain": [
       "   country_id  country\n",
       "0           1  Belgium\n",
       "1        1729  England"
      ]
     },
     "execution_count": 57,
     "metadata": {},
     "output_type": "execute_result"
    }
   ],
   "source": [
    "# Change column names for country table to be ready for merge to match table\n",
    "country.columns = ['country_id', 'country']\n",
    "country.head(2)"
   ]
  },
  {
   "cell_type": "code",
   "execution_count": 58,
   "metadata": {},
   "outputs": [
    {
     "name": "stdout",
     "output_type": "stream",
     "text": [
      "Successfully merge country table to match table.\n",
      "The first 3 rows of the merged table is shown below:\n",
      "   id  country_id  league_id     season  stage                 date  \\\n",
      "0   1           1          1  2008/2009      1  2008-08-17 00:00:00   \n",
      "1   2           1          1  2008/2009      1  2008-08-16 00:00:00   \n",
      "2   3           1          1  2008/2009      1  2008-08-16 00:00:00   \n",
      "\n",
      "   match_api_id  home_team_api_id  away_team_api_id  home_team_goal   ...     \\\n",
      "0        492473              9987              9993               1   ...      \n",
      "1        492474             10000              9994               0   ...      \n",
      "2        492475              9984              8635               0   ...      \n",
      "\n",
      "    VCH   VCD   VCA   GBH   GBD   GBA   BSH   BSD   BSA  country  \n",
      "0  1.65  3.40  4.50  1.78  3.25  4.00  1.73  3.40  4.20  Belgium  \n",
      "1  2.00  3.25  3.25  1.85  3.25  3.75  1.91  3.25  3.60  Belgium  \n",
      "2  2.35  3.25  2.65  2.50  3.20  2.50  2.30  3.20  2.75  Belgium  \n",
      "\n",
      "[3 rows x 116 columns]\n"
     ]
    }
   ],
   "source": [
    "# Merage the country table to match table\n",
    "try:\n",
    "    match = pd.merge(match, country, on='country_id', how='left')\n",
    "    print('Successfully merge country table to match table.')\n",
    "    print('The first 3 rows of the merged table is shown below:')\n",
    "    print(match.head(3))\n",
    "except Exception as e:\n",
    "    print('Unable to merge country table to match table.')"
   ]
  },
  {
   "cell_type": "markdown",
   "metadata": {},
   "source": [
    "#### 2.1.2 Substitute league_id with league name"
   ]
  },
  {
   "cell_type": "code",
   "execution_count": 59,
   "metadata": {},
   "outputs": [
    {
     "data": {
      "text/html": [
       "<div>\n",
       "<style>\n",
       "    .dataframe thead tr:only-child th {\n",
       "        text-align: right;\n",
       "    }\n",
       "\n",
       "    .dataframe thead th {\n",
       "        text-align: left;\n",
       "    }\n",
       "\n",
       "    .dataframe tbody tr th {\n",
       "        vertical-align: top;\n",
       "    }\n",
       "</style>\n",
       "<table border=\"1\" class=\"dataframe\">\n",
       "  <thead>\n",
       "    <tr style=\"text-align: right;\">\n",
       "      <th></th>\n",
       "      <th>league_id</th>\n",
       "      <th>country_id</th>\n",
       "      <th>league</th>\n",
       "    </tr>\n",
       "  </thead>\n",
       "  <tbody>\n",
       "    <tr>\n",
       "      <th>0</th>\n",
       "      <td>1</td>\n",
       "      <td>1</td>\n",
       "      <td>Belgium Jupiler League</td>\n",
       "    </tr>\n",
       "    <tr>\n",
       "      <th>1</th>\n",
       "      <td>1729</td>\n",
       "      <td>1729</td>\n",
       "      <td>England Premier League</td>\n",
       "    </tr>\n",
       "  </tbody>\n",
       "</table>\n",
       "</div>"
      ],
      "text/plain": [
       "   league_id  country_id                  league\n",
       "0          1           1  Belgium Jupiler League\n",
       "1       1729        1729  England Premier League"
      ]
     },
     "execution_count": 59,
     "metadata": {},
     "output_type": "execute_result"
    }
   ],
   "source": [
    "# Change column names for league table to be ready for merge to match table\n",
    "league.columns = ['league_id', 'country_id','league']\n",
    "league.head(2)"
   ]
  },
  {
   "cell_type": "code",
   "execution_count": 60,
   "metadata": {},
   "outputs": [
    {
     "name": "stdout",
     "output_type": "stream",
     "text": [
      "Sucessfully merge league table to match table.\n",
      "The first 3 rows of the merged table is shown below:\n",
      "   id  country_id  league_id     season  stage                 date  \\\n",
      "0   1           1          1  2008/2009      1  2008-08-17 00:00:00   \n",
      "1   2           1          1  2008/2009      1  2008-08-16 00:00:00   \n",
      "2   3           1          1  2008/2009      1  2008-08-16 00:00:00   \n",
      "\n",
      "   match_api_id  home_team_api_id  away_team_api_id  home_team_goal  \\\n",
      "0        492473              9987              9993               1   \n",
      "1        492474             10000              9994               0   \n",
      "2        492475              9984              8635               0   \n",
      "\n",
      "            ...             VCD   VCA   GBH   GBD   GBA   BSH   BSD   BSA  \\\n",
      "0           ...            3.40  4.50  1.78  3.25  4.00  1.73  3.40  4.20   \n",
      "1           ...            3.25  3.25  1.85  3.25  3.75  1.91  3.25  3.60   \n",
      "2           ...            3.25  2.65  2.50  3.20  2.50  2.30  3.20  2.75   \n",
      "\n",
      "   country                  league  \n",
      "0  Belgium  Belgium Jupiler League  \n",
      "1  Belgium  Belgium Jupiler League  \n",
      "2  Belgium  Belgium Jupiler League  \n",
      "\n",
      "[3 rows x 117 columns]\n"
     ]
    }
   ],
   "source": [
    "# Merage the league table to match table\n",
    "try:\n",
    "    match = pd.merge(match, league[['league_id','league']], on='league_id', how='left')\n",
    "    print('Sucessfully merge league table to match table.')\n",
    "    print('The first 3 rows of the merged table is shown below:')\n",
    "    print(match.head(3))\n",
    "except Exception as e:\n",
    "    print('Unable to merge league table to match table.')"
   ]
  },
  {
   "cell_type": "markdown",
   "metadata": {},
   "source": [
    "#### 2.1.3 Substitute home_team_api_id with home_team_name"
   ]
  },
  {
   "cell_type": "code",
   "execution_count": 61,
   "metadata": {},
   "outputs": [
    {
     "data": {
      "text/html": [
       "<div>\n",
       "<style>\n",
       "    .dataframe thead tr:only-child th {\n",
       "        text-align: right;\n",
       "    }\n",
       "\n",
       "    .dataframe thead th {\n",
       "        text-align: left;\n",
       "    }\n",
       "\n",
       "    .dataframe tbody tr th {\n",
       "        vertical-align: top;\n",
       "    }\n",
       "</style>\n",
       "<table border=\"1\" class=\"dataframe\">\n",
       "  <thead>\n",
       "    <tr style=\"text-align: right;\">\n",
       "      <th></th>\n",
       "      <th>id</th>\n",
       "      <th>home_team_api_id</th>\n",
       "      <th>home_team_fifa_api_id</th>\n",
       "      <th>home_team</th>\n",
       "      <th>home_team_short_name</th>\n",
       "    </tr>\n",
       "  </thead>\n",
       "  <tbody>\n",
       "    <tr>\n",
       "      <th>0</th>\n",
       "      <td>1</td>\n",
       "      <td>9987</td>\n",
       "      <td>673.0</td>\n",
       "      <td>KRC Genk</td>\n",
       "      <td>GEN</td>\n",
       "    </tr>\n",
       "    <tr>\n",
       "      <th>1</th>\n",
       "      <td>2</td>\n",
       "      <td>9993</td>\n",
       "      <td>675.0</td>\n",
       "      <td>Beerschot AC</td>\n",
       "      <td>BAC</td>\n",
       "    </tr>\n",
       "  </tbody>\n",
       "</table>\n",
       "</div>"
      ],
      "text/plain": [
       "   id  home_team_api_id  home_team_fifa_api_id     home_team  \\\n",
       "0   1              9987                  673.0      KRC Genk   \n",
       "1   2              9993                  675.0  Beerschot AC   \n",
       "\n",
       "  home_team_short_name  \n",
       "0                  GEN  \n",
       "1                  BAC  "
      ]
     },
     "execution_count": 61,
     "metadata": {},
     "output_type": "execute_result"
    }
   ],
   "source": [
    "# Create home_team table by copying team table\n",
    "home_team = team\n",
    "\n",
    "# Change column names for home_team table to be ready for merge to match table\n",
    "home_team.columns = ['id','home_team_api_id','home_team_fifa_api_id','home_team','home_team_short_name']\n",
    "home_team.head(2)"
   ]
  },
  {
   "cell_type": "code",
   "execution_count": 62,
   "metadata": {},
   "outputs": [
    {
     "name": "stdout",
     "output_type": "stream",
     "text": [
      "Successfully merge home_team table to match table.\n",
      "The first 3 rows of the merged table is shown below:\n",
      "   id  country_id  league_id     season  stage                 date  \\\n",
      "0   1           1          1  2008/2009      1  2008-08-17 00:00:00   \n",
      "1   2           1          1  2008/2009      1  2008-08-16 00:00:00   \n",
      "2   3           1          1  2008/2009      1  2008-08-16 00:00:00   \n",
      "\n",
      "   match_api_id  home_team_api_id  away_team_api_id  home_team_goal  \\\n",
      "0        492473              9987              9993               1   \n",
      "1        492474             10000              9994               0   \n",
      "2        492475              9984              8635               0   \n",
      "\n",
      "         ...           VCA   GBH   GBD   GBA   BSH   BSD   BSA  country  \\\n",
      "0        ...          4.50  1.78  3.25  4.00  1.73  3.40  4.20  Belgium   \n",
      "1        ...          3.25  1.85  3.25  3.75  1.91  3.25  3.60  Belgium   \n",
      "2        ...          2.65  2.50  3.20  2.50  2.30  3.20  2.75  Belgium   \n",
      "\n",
      "                   league          home_team  \n",
      "0  Belgium Jupiler League           KRC Genk  \n",
      "1  Belgium Jupiler League   SV Zulte-Waregem  \n",
      "2  Belgium Jupiler League  KSV Cercle Brugge  \n",
      "\n",
      "[3 rows x 118 columns]\n"
     ]
    }
   ],
   "source": [
    "# Merage the home_team table to match table\n",
    "try:\n",
    "    match = pd.merge(match, home_team[['home_team_api_id','home_team']], on='home_team_api_id', how='left')\n",
    "    print('Successfully merge home_team table to match table.')\n",
    "    print('The first 3 rows of the merged table is shown below:')\n",
    "    print(match.head(3))\n",
    "except Exception as e:\n",
    "    print('Unable to merge home_team table to match table.')"
   ]
  },
  {
   "cell_type": "markdown",
   "metadata": {},
   "source": [
    "#### 2.1.4 Sustitute away_team_api_id with away_team_name"
   ]
  },
  {
   "cell_type": "code",
   "execution_count": 63,
   "metadata": {},
   "outputs": [
    {
     "data": {
      "text/html": [
       "<div>\n",
       "<style>\n",
       "    .dataframe thead tr:only-child th {\n",
       "        text-align: right;\n",
       "    }\n",
       "\n",
       "    .dataframe thead th {\n",
       "        text-align: left;\n",
       "    }\n",
       "\n",
       "    .dataframe tbody tr th {\n",
       "        vertical-align: top;\n",
       "    }\n",
       "</style>\n",
       "<table border=\"1\" class=\"dataframe\">\n",
       "  <thead>\n",
       "    <tr style=\"text-align: right;\">\n",
       "      <th></th>\n",
       "      <th>id</th>\n",
       "      <th>away_team_api_id</th>\n",
       "      <th>away_team_fifa_api_id</th>\n",
       "      <th>away_team</th>\n",
       "      <th>away_team_short_name</th>\n",
       "    </tr>\n",
       "  </thead>\n",
       "  <tbody>\n",
       "    <tr>\n",
       "      <th>0</th>\n",
       "      <td>1</td>\n",
       "      <td>9987</td>\n",
       "      <td>673.0</td>\n",
       "      <td>KRC Genk</td>\n",
       "      <td>GEN</td>\n",
       "    </tr>\n",
       "    <tr>\n",
       "      <th>1</th>\n",
       "      <td>2</td>\n",
       "      <td>9993</td>\n",
       "      <td>675.0</td>\n",
       "      <td>Beerschot AC</td>\n",
       "      <td>BAC</td>\n",
       "    </tr>\n",
       "  </tbody>\n",
       "</table>\n",
       "</div>"
      ],
      "text/plain": [
       "   id  away_team_api_id  away_team_fifa_api_id     away_team  \\\n",
       "0   1              9987                  673.0      KRC Genk   \n",
       "1   2              9993                  675.0  Beerschot AC   \n",
       "\n",
       "  away_team_short_name  \n",
       "0                  GEN  \n",
       "1                  BAC  "
      ]
     },
     "execution_count": 63,
     "metadata": {},
     "output_type": "execute_result"
    }
   ],
   "source": [
    "# Create away_team table by copying team table\n",
    "away_team = team\n",
    "\n",
    "# Change column names for away_team table to be ready for merge to match table\n",
    "away_team.columns = ['id','away_team_api_id','away_team_fifa_api_id','away_team','away_team_short_name']\n",
    "away_team.head(2)"
   ]
  },
  {
   "cell_type": "code",
   "execution_count": 64,
   "metadata": {},
   "outputs": [
    {
     "name": "stdout",
     "output_type": "stream",
     "text": [
      "Successfully merge away_team table to match table.\n",
      "The first 3 rows of the merged table is shown below:\n",
      "   id  country_id  league_id     season  stage                 date  \\\n",
      "0   1           1          1  2008/2009      1  2008-08-17 00:00:00   \n",
      "1   2           1          1  2008/2009      1  2008-08-16 00:00:00   \n",
      "2   3           1          1  2008/2009      1  2008-08-16 00:00:00   \n",
      "\n",
      "   match_api_id  home_team_api_id  away_team_api_id  home_team_goal  \\\n",
      "0        492473              9987              9993               1   \n",
      "1        492474             10000              9994               0   \n",
      "2        492475              9984              8635               0   \n",
      "\n",
      "         ...          GBH   GBD   GBA   BSH   BSD   BSA  country  \\\n",
      "0        ...         1.78  3.25  4.00  1.73  3.40  4.20  Belgium   \n",
      "1        ...         1.85  3.25  3.75  1.91  3.25  3.60  Belgium   \n",
      "2        ...         2.50  3.20  2.50  2.30  3.20  2.75  Belgium   \n",
      "\n",
      "                   league          home_team         away_team  \n",
      "0  Belgium Jupiler League           KRC Genk      Beerschot AC  \n",
      "1  Belgium Jupiler League   SV Zulte-Waregem  Sporting Lokeren  \n",
      "2  Belgium Jupiler League  KSV Cercle Brugge    RSC Anderlecht  \n",
      "\n",
      "[3 rows x 119 columns]\n"
     ]
    }
   ],
   "source": [
    "# Merage the home_team table to match table\n",
    "try:\n",
    "    match = pd.merge(match, away_team[['away_team_api_id','away_team']], on='away_team_api_id', how='left')\n",
    "    print('Successfully merge away_team table to match table.')\n",
    "    print('The first 3 rows of the merged table is shown below:')\n",
    "    print(match.head(3))\n",
    "except Exception as e:\n",
    "    print('Unable to merge away_team table to match table.')"
   ]
  },
  {
   "cell_type": "markdown",
   "metadata": {},
   "source": [
    "#### 2.2 Add team's match stats to match table\n",
    "#### 2.2.1 Add home team match stats to match table "
   ]
  },
  {
   "cell_type": "code",
   "execution_count": 65,
   "metadata": {},
   "outputs": [
    {
     "name": "stdout",
     "output_type": "stream",
     "text": [
      "Successfully merge home_team_match_stats table to match table.\n",
      "The first 3 rows of the merge table is shown below:\n",
      "   id  country_id  league_id     season  stage                 date  \\\n",
      "0   1           1          1  2008/2009      1  2008-08-17 00:00:00   \n",
      "1   2           1          1  2008/2009      1  2008-08-16 00:00:00   \n",
      "2   3           1          1  2008/2009      1  2008-08-16 00:00:00   \n",
      "\n",
      "   match_api_id  home_team_api_id  away_team_api_id  home_team_goal  \\\n",
      "0        492473              9987              9993               1   \n",
      "1        492474             10000              9994               0   \n",
      "2        492475              9984              8635               0   \n",
      "\n",
      "           ...                           league          home_team  \\\n",
      "0          ...           Belgium Jupiler League           KRC Genk   \n",
      "1          ...           Belgium Jupiler League   SV Zulte-Waregem   \n",
      "2          ...           Belgium Jupiler League  KSV Cercle Brugge   \n",
      "\n",
      "          away_team  home_team_cross  home_team_card  home_team_foulcommit  \\\n",
      "0      Beerschot AC              NaN             NaN                   NaN   \n",
      "1  Sporting Lokeren              NaN             NaN                   NaN   \n",
      "2    RSC Anderlecht              NaN             NaN                   NaN   \n",
      "\n",
      "   home_team_shoton_no_goal  home_team_shotoff  home_team_corner  \\\n",
      "0                       NaN                NaN               NaN   \n",
      "1                       NaN                NaN               NaN   \n",
      "2                       NaN                NaN               NaN   \n",
      "\n",
      "   home_team_possession  \n",
      "0                   NaN  \n",
      "1                   NaN  \n",
      "2                   NaN  \n",
      "\n",
      "[3 rows x 126 columns]\n"
     ]
    }
   ],
   "source": [
    "# Subset for home team only\n",
    "home_team_match_stats = match_stats[match_stats['Ishometeam']==1]\n",
    "\n",
    "# Change column names for home_team table to be ready for merge to match table\n",
    "home_team_match_stats.columns = ['match_api_id','home_team_api_id','home_team_cross','home_team_card','home_team_foulcommit','home_team_shoton_no_goal','home_team_shotoff','home_team_corner','home_team_possession','Ishometeam']\n",
    "\n",
    "# Drop home_team_api_id column, since it will be harder to merge to match table with home_team_api_id\n",
    "home_team_match_stats = home_team_match_stats.drop('home_team_api_id',axis=1)\n",
    "\n",
    "# Merge home_team_match_stats to match table\n",
    "try:\n",
    "    match = pd.merge(match, home_team_match_stats[home_team_match_stats.columns[:-1]], on='match_api_id', how='left')\n",
    "    print('Successfully merge home_team_match_stats table to match table.')\n",
    "    print('The first 3 rows of the merge table is shown below:')\n",
    "    print(match.head(3))\n",
    "except Exception as e:\n",
    "    print('Unable to merge home_team_match_stats table to match table')"
   ]
  },
  {
   "cell_type": "markdown",
   "metadata": {},
   "source": [
    "#### 2.2.2 Add away team match stats to match table"
   ]
  },
  {
   "cell_type": "code",
   "execution_count": 66,
   "metadata": {},
   "outputs": [
    {
     "name": "stdout",
     "output_type": "stream",
     "text": [
      "Successfully merge away_team_match_stats table to match table.\n",
      "The first 3 rows of the merge table is shown below:\n",
      "   id  country_id  league_id     season  stage                 date  \\\n",
      "0   1           1          1  2008/2009      1  2008-08-17 00:00:00   \n",
      "1   2           1          1  2008/2009      1  2008-08-16 00:00:00   \n",
      "2   3           1          1  2008/2009      1  2008-08-16 00:00:00   \n",
      "\n",
      "   match_api_id  home_team_api_id  away_team_api_id  home_team_goal  \\\n",
      "0        492473              9987              9993               1   \n",
      "1        492474             10000              9994               0   \n",
      "2        492475              9984              8635               0   \n",
      "\n",
      "           ...           home_team_shotoff  home_team_corner  \\\n",
      "0          ...                         NaN               NaN   \n",
      "1          ...                         NaN               NaN   \n",
      "2          ...                         NaN               NaN   \n",
      "\n",
      "   home_team_possession  away_team_cross  away_team_card  \\\n",
      "0                   NaN              NaN             NaN   \n",
      "1                   NaN              NaN             NaN   \n",
      "2                   NaN              NaN             NaN   \n",
      "\n",
      "   away_team_foulcommit  away_team_shoton_no_goal  away_team_shotoff  \\\n",
      "0                   NaN                       NaN                NaN   \n",
      "1                   NaN                       NaN                NaN   \n",
      "2                   NaN                       NaN                NaN   \n",
      "\n",
      "   away_team_corner  away_team_possession  \n",
      "0               NaN                   NaN  \n",
      "1               NaN                   NaN  \n",
      "2               NaN                   NaN  \n",
      "\n",
      "[3 rows x 133 columns]\n"
     ]
    }
   ],
   "source": [
    "# Subset for away team only\n",
    "away_team_match_stats = match_stats[match_stats['Ishometeam']==0]\n",
    "\n",
    "# Change column names for away_team table to be ready for merge to match table\n",
    "away_team_match_stats.columns = ['match_api_id','away_team_api_id','away_team_cross','away_team_card','away_team_foulcommit','away_team_shoton_no_goal','away_team_shotoff','away_team_corner','away_team_possession','Ishometeam']\n",
    "\n",
    "# Drop away_team_api_id column, since it will be harder to merge to match table with away_team_api_id\n",
    "away_team_match_stats = away_team_match_stats.drop('away_team_api_id',axis=1)\n",
    "\n",
    "# Merge away_team_match_stats to match table\n",
    "try:\n",
    "    match = pd.merge(match, away_team_match_stats[away_team_match_stats.columns[:-1]], on='match_api_id', how='left')\n",
    "    print('Successfully merge away_team_match_stats table to match table.')\n",
    "    print('The first 3 rows of the merge table is shown below:')\n",
    "    print(match.head(3))\n",
    "except Exception as e:\n",
    "    print('Unable to merge away_team_match_stats to match table.')"
   ]
  },
  {
   "cell_type": "code",
   "execution_count": 67,
   "metadata": {},
   "outputs": [
    {
     "name": "stdout",
     "output_type": "stream",
     "text": [
      "<class 'pandas.core.frame.DataFrame'>\n",
      "Int64Index: 25979 entries, 0 to 25978\n",
      "Columns: 133 entries, id to away_team_possession\n",
      "dtypes: float64(110), int64(9), object(14)\n",
      "memory usage: 26.6+ MB\n",
      "None\n"
     ]
    }
   ],
   "source": [
    "# Print out final match table information\n",
    "print(match.info())"
   ]
  },
  {
   "cell_type": "code",
   "execution_count": 128,
   "metadata": {},
   "outputs": [
    {
     "name": "stdout",
     "output_type": "stream",
     "text": [
      "Reconstructed match stats table is cached in file: match_stats.data.\n"
     ]
    }
   ],
   "source": [
    "# Save the merged match table to local disk for future use\n",
    "if not os.path.isfile(os.path.join(data_folder, 'match_stats.data')):\n",
    "    print('Saving reconstructed match stats table to file...')\n",
    "    try:\n",
    "        with open(os.path.join(data_folder, 'match_stats.data'), 'wb') as f:\n",
    "            pickle.dump(match, f)\n",
    "        print('Reconstructed match stats table is saved.')\n",
    "    except Exception as e:\n",
    "        print('Unable to save reconstructed match stats table.')\n",
    "else:\n",
    "    print('Reconstructed match stats table is cached in file: match_stats.data.')"
   ]
  }
 ],
 "metadata": {
  "anaconda-cloud": {},
  "kernelspec": {
   "display_name": "Python 3",
   "language": "python",
   "name": "python3"
  },
  "language_info": {
   "codemirror_mode": {
    "name": "ipython",
    "version": 3
   },
   "file_extension": ".py",
   "mimetype": "text/x-python",
   "name": "python",
   "nbconvert_exporter": "python",
   "pygments_lexer": "ipython3",
   "version": "3.5.2"
  }
 },
 "nbformat": 4,
 "nbformat_minor": 1
}
