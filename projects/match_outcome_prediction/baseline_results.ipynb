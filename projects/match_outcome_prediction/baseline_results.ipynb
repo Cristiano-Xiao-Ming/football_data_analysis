{
 "cells": [
  {
   "cell_type": "markdown",
   "metadata": {},
   "source": [
    "## Football Match Outcome Prediction\n",
    "### 1. Baseline Results"
   ]
  },
  {
   "cell_type": "markdown",
   "metadata": {},
   "source": [
    "This notebook will present some baseline results to evaluate/improve modeling results for some sophisticated machine learning models.\n",
    "\n",
    "The baseline methods are: random guess, always predicting home team win/draw/lose, and always predicting results corresponding to minimum/middle/maximum odds.\n",
    "\n",
    "### Highlights\n",
    "\n",
    "* **Among all baseline methods, sticking with minimum odds result is the winner. Useful machine learning models should be beyond this baseline.**\n",
    "* **No baseline methods will help us make money.**\n",
    "\n",
    "* **Some baseline results are summarized below:**\n",
    "\n",
    "|                    Baseline Method                  |Prediction Acc. | Avg. Interest Rate per Match|\n",
    "| :--------------------------------------------------:| :------------: | :--------------------------:|\n",
    "| Random Guess                                        |    33.33%      |             -7%             |\n",
    "| Always choosing home team win                       |    45.90%      |          -4.7%              |\n",
    "| Always choosing min odds result (human level)       |    53.32%      |          -3.7%              |\n",
    "\n"
   ]
  },
  {
   "cell_type": "markdown",
   "metadata": {},
   "source": [
    "##### Metrics: Average Interest Rate Per Match\n",
    "\n",
    "Acutally we care about how much money we can make by making predictions. So one important metrics to evaulate the results is named as average interest rate per match (AIRPM), which is equal to the average rate of return on investment for each match."
   ]
  },
  {
   "cell_type": "markdown",
   "metadata": {},
   "source": [
    "#### Data Analysis Details"
   ]
  },
  {
   "cell_type": "markdown",
   "metadata": {},
   "source": [
    "The original database is downloaded here: [European Soccer Database](https://www.kaggle.com/hugomathien/soccer), and data preprocessing for this notebook can be found [here](https://github.com/xzl524/football_data_analysis/tree/master/projects/european_soccer_database_analysis/process_ball_events)."
   ]
  },
  {
   "cell_type": "code",
   "execution_count": 1,
   "metadata": {},
   "outputs": [
    {
     "name": "stdout",
     "output_type": "stream",
     "text": [
      "All general modules are imported.\n"
     ]
    }
   ],
   "source": [
    "%matplotlib inline\n",
    "import numpy as np\n",
    "import matplotlib.pyplot as plt\n",
    "import pandas as pd\n",
    "import seaborn as sns\n",
    "import pickle\n",
    "import sqlite3\n",
    "import os\n",
    "from tqdm import tqdm\n",
    "\n",
    "sns.set_style('whitegrid')\n",
    "sns.set_context('poster')\n",
    "\n",
    "print('All general modules are imported.')"
   ]
  },
  {
   "cell_type": "code",
   "execution_count": 2,
   "metadata": {},
   "outputs": [
    {
     "name": "stdout",
     "output_type": "stream",
     "text": [
      "Loading saved match stats table...\n",
      "Successfully reload match_stats.data.\n"
     ]
    }
   ],
   "source": [
    "# Reload preprocessed match stats dataset\n",
    "# Change the directory as you wish\n",
    "data_folder = os.path.join(os.path.pardir, os.path.pardir, 'data_source', 'kaggle')\n",
    "match_stats_table_name = 'match_stats.data'\n",
    "\n",
    "try:\n",
    "    with open(os.path.join(data_folder, match_stats_table_name), 'rb') as f:\n",
    "        print('Loading saved match stats table...')\n",
    "        match = pd.read_pickle(f)\n",
    "        print('Successfully reload {}.'.format(match_stats_table_name))\n",
    "except Exception as e:\n",
    "    print('Unable to reload {}.'.format(match_stats_table_name))"
   ]
  },
  {
   "cell_type": "code",
   "execution_count": 3,
   "metadata": {},
   "outputs": [
    {
     "name": "stdout",
     "output_type": "stream",
     "text": [
      "<class 'pandas.core.frame.DataFrame'>\n",
      "Int64Index: 22592 entries, 0 to 24556\n",
      "Data columns (total 13 columns):\n",
      "country           22592 non-null object\n",
      "league            22592 non-null object\n",
      "season            22592 non-null object\n",
      "stage             22592 non-null int64\n",
      "date              22592 non-null object\n",
      "home_team         22592 non-null object\n",
      "away_team         22592 non-null object\n",
      "B365H             22592 non-null float64\n",
      "B365D             22592 non-null float64\n",
      "B365A             22592 non-null float64\n",
      "home_team_goal    22592 non-null int64\n",
      "away_team_goal    22592 non-null int64\n",
      "result            22592 non-null int32\n",
      "dtypes: float64(3), int32(1), int64(3), object(6)\n",
      "memory usage: 2.3+ MB\n",
      "None\n"
     ]
    }
   ],
   "source": [
    "# Most of operations in this cell are not useful in baseline result calculation.\n",
    "# Keeping these operations is just to be consistent with pre-processing steps in later machine learning modeling.\n",
    "\n",
    "# Select source of odds\n",
    "# B365, BW, IW, LB, PS, WH, SJ, VC, GB, BS\n",
    "odds_source = 'B365'\n",
    "\n",
    "# H: home win odds, D: draw odds, A: away win odds\n",
    "odds_columns = ['{}H'.format(odds_source), '{}D'.format(odds_source), '{}A'.format(odds_source)]\n",
    "\n",
    "# Select demand columns\n",
    "selected_columns=['country', 'league', 'season', 'stage', 'date', \n",
    "                  'home_team', 'away_team'] + odds_columns + ['home_team_goal', 'away_team_goal']\n",
    "\n",
    "selected_data = match[selected_columns]\n",
    "\n",
    "# Remove null odds data matches\n",
    "selected_data = selected_data[selected_data['{}H'.format(odds_source)].notnull()]\n",
    "\n",
    "# Extract home team's goal difference\n",
    "goal_diff = selected_data['home_team_goal'] - selected_data['away_team_goal']\n",
    "\n",
    "# Encode match result\n",
    "# home team win:  0\n",
    "# home team draw: 1\n",
    "# home team lose: 2\n",
    "selected_data['result'] = np.where(goal_diff > 0, 0, np.where(goal_diff < 0, 2, 1))\n",
    "\n",
    "# Verify if still has null data in the dataframe\n",
    "if not any(selected_data.isnull().sum().values):\n",
    "    print(selected_data.info())\n",
    "else:\n",
    "    print('NULL DATA FOUND!!!!')"
   ]
  },
  {
   "cell_type": "code",
   "execution_count": 4,
   "metadata": {},
   "outputs": [],
   "source": [
    "# Select demand inputs for models\n",
    "y = selected_data['result'].values\n",
    "odds = selected_data[odds_columns].values"
   ]
  },
  {
   "cell_type": "markdown",
   "metadata": {},
   "source": [
    "#### 1.1 Random Guess"
   ]
  },
  {
   "cell_type": "markdown",
   "metadata": {},
   "source": [
    "First of all, random guess will yield 33% prediction accuracy theoretically.\n",
    "\n",
    "Suppose home team win/draw/lose percentages are: $p_{w}$, $p_{d}$, and $p_{l}$ respectively, then randomly guessing the results will yield prediction accuracy of:\n",
    "\n",
    "$$\\frac{p_w}{3}+\\frac{p_d}{3}+\\frac{p_l}{3}=\\frac{p_w+p_d+p_l}{3}=\\frac{1}{3}=33\\% $$.\n",
    "\n",
    "Then verify the calculation with data."
   ]
  },
  {
   "cell_type": "code",
   "execution_count": 5,
   "metadata": {},
   "outputs": [
    {
     "name": "stderr",
     "output_type": "stream",
     "text": [
      "C:\\Users\\ZAO_LI_XU\\AppData\\Local\\Continuum\\Anaconda3\\lib\\site-packages\\statsmodels\\compat\\pandas.py:56: FutureWarning: The pandas.core.datetools module is deprecated and will be removed in a future version. Please use the pandas.tseries module instead.\n",
      "  from pandas.core import datetools\n"
     ]
    },
    {
     "name": "stdout",
     "output_type": "stream",
     "text": [
      "RANDOM GUESS\n",
      "Prediction Accuracy:             33.28%\n",
      "Average Interest Rate Per Match: -8.37%\n"
     ]
    }
   ],
   "source": [
    "# avg_interest_rate_per_match is self-defined function to calculate AIRPM\n",
    "from evaluation import avg_interest_rate_per_match\n",
    "from sklearn.metrics import accuracy_score\n",
    "\n",
    "# random guess\n",
    "y_pred = np.random.choice([0,1,2], len(y))\n",
    "\n",
    "# Prediction Report\n",
    "print('RANDOM GUESS')\n",
    "\n",
    "# Prediction Accuracy\n",
    "print('Prediction Accuracy:             {:.2f}%'.format(accuracy_score(y, y_pred)*100))\n",
    "\n",
    "# Average Interest Rate Per Match\n",
    "print('Average Interest Rate Per Match: {:.2f}%'.format(avg_interest_rate_per_match(y, y_pred, odds)*100))"
   ]
  },
  {
   "cell_type": "markdown",
   "metadata": {},
   "source": [
    "Always predicting home team win, draw and lose will yield prediction accuracy of 46%, 25%, and 29%, respectively; AIRPM is -4.7%, -8.6%, and -9.6%, respectively.\n",
    "#### 1.2 Always predicting home team win"
   ]
  },
  {
   "cell_type": "code",
   "execution_count": 6,
   "metadata": {},
   "outputs": [
    {
     "name": "stdout",
     "output_type": "stream",
     "text": [
      "ALWAYS PREDICTING HOME TEAM WIN\n",
      "Prediction Accuracy:             45.91%\n",
      "Average Interest Rate Per Match: -4.73%\n"
     ]
    }
   ],
   "source": [
    "# Always predicting home team win\n",
    "y_pred = np.zeros(len(y))\n",
    "\n",
    "# Prediction Report\n",
    "print('ALWAYS PREDICTING HOME TEAM WIN')\n",
    "\n",
    "# Prediction Accuracy\n",
    "print('Prediction Accuracy:             {:.2f}%'.format(accuracy_score(y, y_pred)*100))\n",
    "\n",
    "# Average Interest Rate Per Match\n",
    "print('Average Interest Rate Per Match: {:.2f}%'.format(avg_interest_rate_per_match(y, y_pred, odds)*100))"
   ]
  },
  {
   "cell_type": "markdown",
   "metadata": {},
   "source": [
    "#### 1.3 Always predicting draw"
   ]
  },
  {
   "cell_type": "code",
   "execution_count": 7,
   "metadata": {},
   "outputs": [
    {
     "name": "stdout",
     "output_type": "stream",
     "text": [
      "ALWAYS PREDICTING DRAW\n",
      "Prediction Accuracy:             25.30%\n",
      "Average Interest Rate Per Match: -8.55%\n"
     ]
    }
   ],
   "source": [
    "# Always predicting draw\n",
    "y_pred = np.ones(len(y))\n",
    "\n",
    "# Prediction Report\n",
    "print('ALWAYS PREDICTING DRAW')\n",
    "\n",
    "# Prediction Accuracy\n",
    "print('Prediction Accuracy:             {:.2f}%'.format(accuracy_score(y, y_pred)*100))\n",
    "\n",
    "# Average Interest Rate Per Match\n",
    "print('Average Interest Rate Per Match: {:.2f}%'.format(avg_interest_rate_per_match(y, y_pred, odds)*100))"
   ]
  },
  {
   "cell_type": "markdown",
   "metadata": {},
   "source": [
    "#### 1.4 Always predicting home team lose"
   ]
  },
  {
   "cell_type": "code",
   "execution_count": 8,
   "metadata": {},
   "outputs": [
    {
     "name": "stdout",
     "output_type": "stream",
     "text": [
      "ALWAYS PREDICTION HOME TEAM LOSE\n",
      "Prediction Accuracy:             28.79%\n",
      "Average Interest Rate Per Match: -9.62%\n"
     ]
    }
   ],
   "source": [
    "# Always predicting home team lose\n",
    "y_pred = 2*np.ones(len(y))\n",
    "\n",
    "# Prediction Report\n",
    "print('ALWAYS PREDICTION HOME TEAM LOSE')\n",
    "\n",
    "# Prediction Accuracy\n",
    "print('Prediction Accuracy:             {:.2f}%'.format(accuracy_score(y, y_pred)*100))\n",
    "\n",
    "# Average Interest Rate Per Match\n",
    "print('Average Interest Rate Per Match: {:.2f}%'.format(avg_interest_rate_per_match(y, y_pred, odds)*100))"
   ]
  },
  {
   "cell_type": "markdown",
   "metadata": {},
   "source": [
    "Always sticking with min/mid/max odds will yield prediction accuracy of 53%, 26%, and 21%, respecitvely; AIRPM is -3.7%, -9.2% and -9.5%, respectively.\n",
    "#### 1.5 Always predicting with min odds"
   ]
  },
  {
   "cell_type": "code",
   "execution_count": 9,
   "metadata": {},
   "outputs": [
    {
     "name": "stdout",
     "output_type": "stream",
     "text": [
      "ALWAYS PREDICTING WITH MIN ODDS\n",
      "Prediction Accuracy:             53.33%\n",
      "Average Interest Rate Per Match: -3.65%\n"
     ]
    }
   ],
   "source": [
    "# Always predicting with min odds\n",
    "y_pred = odds.argmin(axis=1)\n",
    "\n",
    "# Prediction Report\n",
    "print('ALWAYS PREDICTING WITH MIN ODDS')\n",
    "\n",
    "# Prediction Accuracy\n",
    "print('Prediction Accuracy:             {:.2f}%'.format(accuracy_score(y, y_pred)*100))\n",
    "\n",
    "# Average Interest Rate Per Match\n",
    "print('Average Interest Rate Per Match: {:.2f}%'.format(avg_interest_rate_per_match(y, y_pred, odds)*100))"
   ]
  },
  {
   "cell_type": "markdown",
   "metadata": {},
   "source": [
    "#### 1.6 Always predicting with middle odds"
   ]
  },
  {
   "cell_type": "code",
   "execution_count": 10,
   "metadata": {},
   "outputs": [
    {
     "name": "stdout",
     "output_type": "stream",
     "text": [
      "ALWAYS PREDICTING WITH MIDDLE ODDS\n",
      "Prediction Accuracy:             25.93%\n",
      "Average Interest Rate Per Match: -9.15%\n"
     ]
    }
   ],
   "source": [
    "# Always predicting with middle odds\n",
    "y_pred = np.argsort(odds)[:,1]\n",
    "\n",
    "# Prediction Report\n",
    "print('ALWAYS PREDICTING WITH MIDDLE ODDS')\n",
    "\n",
    "# Prediction Accuracy\n",
    "print('Prediction Accuracy:             {:.2f}%'.format(accuracy_score(y, y_pred)*100))\n",
    "\n",
    "# Average Interest Rate Per Match\n",
    "print('Average Interest Rate Per Match: {:.2f}%'.format(avg_interest_rate_per_match(y, y_pred, odds)*100))"
   ]
  },
  {
   "cell_type": "markdown",
   "metadata": {},
   "source": [
    "#### 1.7 Always predicting with max odds"
   ]
  },
  {
   "cell_type": "code",
   "execution_count": 11,
   "metadata": {},
   "outputs": [
    {
     "name": "stdout",
     "output_type": "stream",
     "text": [
      "ALWAYS PREDICTING WITH MAX ODDS\n",
      "Prediction Accuracy:             20.92%\n",
      "Average Interest Rate Per Match: -9.48%\n"
     ]
    }
   ],
   "source": [
    "# Always predicting with max odds\n",
    "y_pred = odds.argmax(axis=1)\n",
    "\n",
    "# Prediction Report\n",
    "print('ALWAYS PREDICTING WITH MAX ODDS')\n",
    "\n",
    "# Prediction Accuracy\n",
    "print('Prediction Accuracy:             {:.2f}%'.format(accuracy_score(y, y_pred)*100))\n",
    "\n",
    "# Average Interest Rate Per Match\n",
    "print('Average Interest Rate Per Match: {:.2f}%'.format(avg_interest_rate_per_match(y, y_pred, odds)*100))"
   ]
  }
 ],
 "metadata": {
  "anaconda-cloud": {},
  "kernelspec": {
   "display_name": "Python 3",
   "language": "python",
   "name": "python3"
  },
  "language_info": {
   "codemirror_mode": {
    "name": "ipython",
    "version": 3
   },
   "file_extension": ".py",
   "mimetype": "text/x-python",
   "name": "python",
   "nbconvert_exporter": "python",
   "pygments_lexer": "ipython3",
   "version": "3.5.2"
  }
 },
 "nbformat": 4,
 "nbformat_minor": 1
}
